{
 "cells": [
  {
   "cell_type": "code",
   "execution_count": 1,
   "id": "f428de89",
   "metadata": {
    "_cell_guid": "b1076dfc-b9ad-4769-8c92-a6c4dae69d19",
    "_uuid": "8f2839f25d086af736a60e9eeb907d3b93b6e0e5",
    "execution": {
     "iopub.execute_input": "2024-08-02T09:22:15.237387Z",
     "iopub.status.busy": "2024-08-02T09:22:15.236965Z",
     "iopub.status.idle": "2024-08-02T09:22:17.120366Z",
     "shell.execute_reply": "2024-08-02T09:22:17.119314Z"
    },
    "papermill": {
     "duration": 1.892098,
     "end_time": "2024-08-02T09:22:17.123142",
     "exception": false,
     "start_time": "2024-08-02T09:22:15.231044",
     "status": "completed"
    },
    "tags": []
   },
   "outputs": [],
   "source": [
    "import numpy as np\n",
    "import pandas as pd\n",
    "import polars as pl\n",
    "from pathlib import Path\n",
    "import matplotlib.pyplot as plt\n",
    "import pydicom\n",
    "import cv2\n",
    "import os\n",
    "\n",
    "import shutil"
   ]
  },
  {
   "cell_type": "code",
   "execution_count": 2,
   "id": "398491d3",
   "metadata": {
    "execution": {
     "iopub.execute_input": "2024-08-02T09:22:17.133581Z",
     "iopub.status.busy": "2024-08-02T09:22:17.132989Z",
     "iopub.status.idle": "2024-08-02T09:22:17.395094Z",
     "shell.execute_reply": "2024-08-02T09:22:17.393898Z"
    },
    "papermill": {
     "duration": 0.270141,
     "end_time": "2024-08-02T09:22:17.397713",
     "exception": false,
     "start_time": "2024-08-02T09:22:17.127572",
     "status": "completed"
    },
    "tags": []
   },
   "outputs": [
    {
     "data": {
      "text/html": [
       "<div><style>\n",
       ".dataframe > thead > tr,\n",
       ".dataframe > tbody > tr {\n",
       "  text-align: right;\n",
       "  white-space: pre-wrap;\n",
       "}\n",
       "</style>\n",
       "<small>shape: (48_690, 15)</small><table border=\"1\" class=\"dataframe\"><thead><tr><th>row_id</th><th>study_id</th><th>series_id</th><th>instance_number</th><th>series_description</th><th>condition</th><th>level</th><th>x</th><th>y</th><th>name</th><th>study_id_level</th><th>x_min</th><th>x_max</th><th>y_min</th><th>y_max</th></tr><tr><td>str</td><td>i64</td><td>i64</td><td>i64</td><td>str</td><td>str</td><td>str</td><td>f64</td><td>f64</td><td>str</td><td>str</td><td>f64</td><td>f64</td><td>f64</td><td>f64</td></tr></thead><tbody><tr><td>&quot;100206310_left_neural_foramina…</td><td>100206310</td><td>2092806862</td><td>13</td><td>&quot;Sagittal T1&quot;</td><td>&quot;left_neural_foraminal_narrowin…</td><td>&quot;l1_l2&quot;</td><td>270.34225</td><td>148.221459</td><td>&quot;100206310_2092806862_0013&quot;</td><td>&quot;100206310_l1_l2&quot;</td><td>236.124282</td><td>300.124282</td><td>115.234966</td><td>179.234966</td></tr><tr><td>&quot;100206310_left_neural_foramina…</td><td>100206310</td><td>2092806862</td><td>12</td><td>&quot;Sagittal T1&quot;</td><td>&quot;left_neural_foraminal_narrowin…</td><td>&quot;l2_l3&quot;</td><td>260.177602</td><td>191.705532</td><td>&quot;100206310_2092806862_0012&quot;</td><td>&quot;100206310_l2_l3&quot;</td><td>226.349493</td><td>290.349493</td><td>157.311014</td><td>221.311014</td></tr><tr><td>&quot;100206310_left_neural_foramina…</td><td>100206310</td><td>2092806862</td><td>13</td><td>&quot;Sagittal T1&quot;</td><td>&quot;left_neural_foraminal_narrowin…</td><td>&quot;l3_l4&quot;</td><td>250.176889</td><td>234.398551</td><td>&quot;100206310_2092806862_0013&quot;</td><td>&quot;100206310_l3_l4&quot;</td><td>219.263597</td><td>283.263597</td><td>203.162615</td><td>267.162615</td></tr><tr><td>&quot;100206310_left_neural_foramina…</td><td>100206310</td><td>2092806862</td><td>12</td><td>&quot;Sagittal T1&quot;</td><td>&quot;left_neural_foraminal_narrowin…</td><td>&quot;l4_l5&quot;</td><td>249.241774</td><td>274.786914</td><td>&quot;100206310_2092806862_0012&quot;</td><td>&quot;100206310_l4_l5&quot;</td><td>219.317425</td><td>283.317425</td><td>244.733579</td><td>308.733579</td></tr><tr><td>&quot;100206310_left_neural_foramina…</td><td>100206310</td><td>2092806862</td><td>12</td><td>&quot;Sagittal T1&quot;</td><td>&quot;left_neural_foraminal_narrowin…</td><td>&quot;l5_s1&quot;</td><td>258.80649</td><td>319.853318</td><td>&quot;100206310_2092806862_0012&quot;</td><td>&quot;100206310_l5_s1&quot;</td><td>223.578398</td><td>287.578398</td><td>288.122178</td><td>352.122178</td></tr><tr><td>&hellip;</td><td>&hellip;</td><td>&hellip;</td><td>&hellip;</td><td>&hellip;</td><td>&hellip;</td><td>&hellip;</td><td>&hellip;</td><td>&hellip;</td><td>&hellip;</td><td>&hellip;</td><td>&hellip;</td><td>&hellip;</td><td>&hellip;</td><td>&hellip;</td></tr><tr><td>&quot;998688940_right_subarticular_s…</td><td>998688940</td><td>2089880748</td><td>20</td><td>&quot;Axial T2&quot;</td><td>&quot;right_subarticular_stenosis&quot;</td><td>&quot;l5_s1&quot;</td><td>228.361062</td><td>274.350442</td><td>&quot;998688940_2089880748_0020&quot;</td><td>&quot;998688940_l5_s1&quot;</td><td>218.999955</td><td>282.999955</td><td>243.997379</td><td>307.997379</td></tr><tr><td>&quot;998688940_spinal_canal_stenosi…</td><td>998688940</td><td>4135322219</td><td>9</td><td>&quot;Sagittal T2/STIR&quot;</td><td>&quot;spinal_canal_stenosis&quot;</td><td>&quot;l2_l3&quot;</td><td>284.880866</td><td>211.870036</td><td>&quot;998688940_4135322219_0009&quot;</td><td>&quot;998688940_l2_l3&quot;</td><td>252.880866</td><td>316.880866</td><td>179.870036</td><td>243.870036</td></tr><tr><td>&quot;998688940_spinal_canal_stenosi…</td><td>998688940</td><td>4135322219</td><td>9</td><td>&quot;Sagittal T2/STIR&quot;</td><td>&quot;spinal_canal_stenosis&quot;</td><td>&quot;l3_l4&quot;</td><td>275.638989</td><td>255.306859</td><td>&quot;998688940_4135322219_0009&quot;</td><td>&quot;998688940_l3_l4&quot;</td><td>243.638989</td><td>307.638989</td><td>223.306859</td><td>287.306859</td></tr><tr><td>&quot;998688940_spinal_canal_stenosi…</td><td>998688940</td><td>4135322219</td><td>9</td><td>&quot;Sagittal T2/STIR&quot;</td><td>&quot;spinal_canal_stenosis&quot;</td><td>&quot;l4_l5&quot;</td><td>275.638989</td><td>302.440433</td><td>&quot;998688940_4135322219_0009&quot;</td><td>&quot;998688940_l4_l5&quot;</td><td>243.638989</td><td>307.638989</td><td>270.440433</td><td>334.440433</td></tr><tr><td>&quot;998688940_spinal_canal_stenosi…</td><td>998688940</td><td>4135322219</td><td>9</td><td>&quot;Sagittal T2/STIR&quot;</td><td>&quot;spinal_canal_stenosis&quot;</td><td>&quot;l5_s1&quot;</td><td>277.487365</td><td>336.635379</td><td>&quot;998688940_4135322219_0009&quot;</td><td>&quot;998688940_l5_s1&quot;</td><td>245.487365</td><td>309.487365</td><td>304.635379</td><td>368.635379</td></tr></tbody></table></div>"
      ],
      "text/plain": [
       "shape: (48_690, 15)\n",
       "┌───────────┬───────────┬───────────┬───────────┬───┬───────────┬───────────┬───────────┬──────────┐\n",
       "│ row_id    ┆ study_id  ┆ series_id ┆ instance_ ┆ … ┆ x_min     ┆ x_max     ┆ y_min     ┆ y_max    │\n",
       "│ ---       ┆ ---       ┆ ---       ┆ number    ┆   ┆ ---       ┆ ---       ┆ ---       ┆ ---      │\n",
       "│ str       ┆ i64       ┆ i64       ┆ ---       ┆   ┆ f64       ┆ f64       ┆ f64       ┆ f64      │\n",
       "│           ┆           ┆           ┆ i64       ┆   ┆           ┆           ┆           ┆          │\n",
       "╞═══════════╪═══════════╪═══════════╪═══════════╪═══╪═══════════╪═══════════╪═══════════╪══════════╡\n",
       "│ 100206310 ┆ 100206310 ┆ 209280686 ┆ 13        ┆ … ┆ 236.12428 ┆ 300.12428 ┆ 115.23496 ┆ 179.2349 │\n",
       "│ _left_neu ┆           ┆ 2         ┆           ┆   ┆ 2         ┆ 2         ┆ 6         ┆ 66       │\n",
       "│ ral_foram ┆           ┆           ┆           ┆   ┆           ┆           ┆           ┆          │\n",
       "│ ina…      ┆           ┆           ┆           ┆   ┆           ┆           ┆           ┆          │\n",
       "│ 100206310 ┆ 100206310 ┆ 209280686 ┆ 12        ┆ … ┆ 226.34949 ┆ 290.34949 ┆ 157.31101 ┆ 221.3110 │\n",
       "│ _left_neu ┆           ┆ 2         ┆           ┆   ┆ 3         ┆ 3         ┆ 4         ┆ 14       │\n",
       "│ ral_foram ┆           ┆           ┆           ┆   ┆           ┆           ┆           ┆          │\n",
       "│ ina…      ┆           ┆           ┆           ┆   ┆           ┆           ┆           ┆          │\n",
       "│ 100206310 ┆ 100206310 ┆ 209280686 ┆ 13        ┆ … ┆ 219.26359 ┆ 283.26359 ┆ 203.16261 ┆ 267.1626 │\n",
       "│ _left_neu ┆           ┆ 2         ┆           ┆   ┆ 7         ┆ 7         ┆ 5         ┆ 15       │\n",
       "│ ral_foram ┆           ┆           ┆           ┆   ┆           ┆           ┆           ┆          │\n",
       "│ ina…      ┆           ┆           ┆           ┆   ┆           ┆           ┆           ┆          │\n",
       "│ 100206310 ┆ 100206310 ┆ 209280686 ┆ 12        ┆ … ┆ 219.31742 ┆ 283.31742 ┆ 244.73357 ┆ 308.7335 │\n",
       "│ _left_neu ┆           ┆ 2         ┆           ┆   ┆ 5         ┆ 5         ┆ 9         ┆ 79       │\n",
       "│ ral_foram ┆           ┆           ┆           ┆   ┆           ┆           ┆           ┆          │\n",
       "│ ina…      ┆           ┆           ┆           ┆   ┆           ┆           ┆           ┆          │\n",
       "│ 100206310 ┆ 100206310 ┆ 209280686 ┆ 12        ┆ … ┆ 223.57839 ┆ 287.57839 ┆ 288.12217 ┆ 352.1221 │\n",
       "│ _left_neu ┆           ┆ 2         ┆           ┆   ┆ 8         ┆ 8         ┆ 8         ┆ 78       │\n",
       "│ ral_foram ┆           ┆           ┆           ┆   ┆           ┆           ┆           ┆          │\n",
       "│ ina…      ┆           ┆           ┆           ┆   ┆           ┆           ┆           ┆          │\n",
       "│ …         ┆ …         ┆ …         ┆ …         ┆ … ┆ …         ┆ …         ┆ …         ┆ …        │\n",
       "│ 998688940 ┆ 998688940 ┆ 208988074 ┆ 20        ┆ … ┆ 218.99995 ┆ 282.99995 ┆ 243.99737 ┆ 307.9973 │\n",
       "│ _right_su ┆           ┆ 8         ┆           ┆   ┆ 5         ┆ 5         ┆ 9         ┆ 79       │\n",
       "│ barticula ┆           ┆           ┆           ┆   ┆           ┆           ┆           ┆          │\n",
       "│ r_s…      ┆           ┆           ┆           ┆   ┆           ┆           ┆           ┆          │\n",
       "│ 998688940 ┆ 998688940 ┆ 413532221 ┆ 9         ┆ … ┆ 252.88086 ┆ 316.88086 ┆ 179.87003 ┆ 243.8700 │\n",
       "│ _spinal_c ┆           ┆ 9         ┆           ┆   ┆ 6         ┆ 6         ┆ 6         ┆ 36       │\n",
       "│ anal_sten ┆           ┆           ┆           ┆   ┆           ┆           ┆           ┆          │\n",
       "│ osi…      ┆           ┆           ┆           ┆   ┆           ┆           ┆           ┆          │\n",
       "│ 998688940 ┆ 998688940 ┆ 413532221 ┆ 9         ┆ … ┆ 243.63898 ┆ 307.63898 ┆ 223.30685 ┆ 287.3068 │\n",
       "│ _spinal_c ┆           ┆ 9         ┆           ┆   ┆ 9         ┆ 9         ┆ 9         ┆ 59       │\n",
       "│ anal_sten ┆           ┆           ┆           ┆   ┆           ┆           ┆           ┆          │\n",
       "│ osi…      ┆           ┆           ┆           ┆   ┆           ┆           ┆           ┆          │\n",
       "│ 998688940 ┆ 998688940 ┆ 413532221 ┆ 9         ┆ … ┆ 243.63898 ┆ 307.63898 ┆ 270.44043 ┆ 334.4404 │\n",
       "│ _spinal_c ┆           ┆ 9         ┆           ┆   ┆ 9         ┆ 9         ┆ 3         ┆ 33       │\n",
       "│ anal_sten ┆           ┆           ┆           ┆   ┆           ┆           ┆           ┆          │\n",
       "│ osi…      ┆           ┆           ┆           ┆   ┆           ┆           ┆           ┆          │\n",
       "│ 998688940 ┆ 998688940 ┆ 413532221 ┆ 9         ┆ … ┆ 245.48736 ┆ 309.48736 ┆ 304.63537 ┆ 368.6353 │\n",
       "│ _spinal_c ┆           ┆ 9         ┆           ┆   ┆ 5         ┆ 5         ┆ 9         ┆ 79       │\n",
       "│ anal_sten ┆           ┆           ┆           ┆   ┆           ┆           ┆           ┆          │\n",
       "│ osi…      ┆           ┆           ┆           ┆   ┆           ┆           ┆           ┆          │\n",
       "└───────────┴───────────┴───────────┴───────────┴───┴───────────┴───────────┴───────────┴──────────┘"
      ]
     },
     "execution_count": 2,
     "metadata": {},
     "output_type": "execute_result"
    }
   ],
   "source": [
    "train_images_path = '/kaggle/input/rsna-2024-lumbar-spine-degenerative-classification/train_images'\n",
    "\n",
    "merged = pl.read_csv('/kaggle/input/rsna24-lsdc-create-dataset/merged_train.csv')\n",
    "merged"
   ]
  },
  {
   "cell_type": "code",
   "execution_count": 3,
   "id": "bc0e1f10",
   "metadata": {
    "execution": {
     "iopub.execute_input": "2024-08-02T09:22:17.408400Z",
     "iopub.status.busy": "2024-08-02T09:22:17.407991Z",
     "iopub.status.idle": "2024-08-02T09:22:17.414919Z",
     "shell.execute_reply": "2024-08-02T09:22:17.413751Z"
    },
    "papermill": {
     "duration": 0.01511,
     "end_time": "2024-08-02T09:22:17.417279",
     "exception": false,
     "start_time": "2024-08-02T09:22:17.402169",
     "status": "completed"
    },
    "tags": []
   },
   "outputs": [
    {
     "data": {
      "text/plain": [
       "493.5"
      ]
     },
     "execution_count": 3,
     "metadata": {},
     "output_type": "execute_result"
    }
   ],
   "source": [
    "1_974 / 4 "
   ]
  },
  {
   "cell_type": "code",
   "execution_count": 4,
   "id": "df173ee5",
   "metadata": {
    "execution": {
     "iopub.execute_input": "2024-08-02T09:22:17.428873Z",
     "iopub.status.busy": "2024-08-02T09:22:17.428443Z",
     "iopub.status.idle": "2024-08-02T09:22:17.434751Z",
     "shell.execute_reply": "2024-08-02T09:22:17.433370Z"
    },
    "papermill": {
     "duration": 0.01546,
     "end_time": "2024-08-02T09:22:17.437575",
     "exception": false,
     "start_time": "2024-08-02T09:22:17.422115",
     "status": "completed"
    },
    "tags": []
   },
   "outputs": [],
   "source": [
    "group_array = np.array([0] * 493 + [1] * 493 + [2] * 493 + [3] * 495)"
   ]
  },
  {
   "cell_type": "code",
   "execution_count": 5,
   "id": "e2eb775a",
   "metadata": {
    "execution": {
     "iopub.execute_input": "2024-08-02T09:22:17.449505Z",
     "iopub.status.busy": "2024-08-02T09:22:17.449109Z",
     "iopub.status.idle": "2024-08-02T09:22:17.523919Z",
     "shell.execute_reply": "2024-08-02T09:22:17.522845Z"
    },
    "papermill": {
     "duration": 0.083956,
     "end_time": "2024-08-02T09:22:17.526562",
     "exception": false,
     "start_time": "2024-08-02T09:22:17.442606",
     "status": "completed"
    },
    "tags": []
   },
   "outputs": [
    {
     "data": {
      "text/html": [
       "<div><style>\n",
       ".dataframe > thead > tr,\n",
       ".dataframe > tbody > tr {\n",
       "  text-align: right;\n",
       "  white-space: pre-wrap;\n",
       "}\n",
       "</style>\n",
       "<small>shape: (1_974, 2)</small><table border=\"1\" class=\"dataframe\"><thead><tr><th>study_id</th><th>group</th></tr><tr><td>i64</td><td>i64</td></tr></thead><tbody><tr><td>100206310</td><td>0</td></tr><tr><td>1002894806</td><td>0</td></tr><tr><td>1004726367</td><td>0</td></tr><tr><td>1008446160</td><td>0</td></tr><tr><td>1009445512</td><td>0</td></tr><tr><td>&hellip;</td><td>&hellip;</td></tr><tr><td>987719637</td><td>3</td></tr><tr><td>991026205</td><td>3</td></tr><tr><td>991428866</td><td>3</td></tr><tr><td>992674144</td><td>3</td></tr><tr><td>998688940</td><td>3</td></tr></tbody></table></div>"
      ],
      "text/plain": [
       "shape: (1_974, 2)\n",
       "┌────────────┬───────┐\n",
       "│ study_id   ┆ group │\n",
       "│ ---        ┆ ---   │\n",
       "│ i64        ┆ i64   │\n",
       "╞════════════╪═══════╡\n",
       "│ 100206310  ┆ 0     │\n",
       "│ 1002894806 ┆ 0     │\n",
       "│ 1004726367 ┆ 0     │\n",
       "│ 1008446160 ┆ 0     │\n",
       "│ 1009445512 ┆ 0     │\n",
       "│ …          ┆ …     │\n",
       "│ 987719637  ┆ 3     │\n",
       "│ 991026205  ┆ 3     │\n",
       "│ 991428866  ┆ 3     │\n",
       "│ 992674144  ┆ 3     │\n",
       "│ 998688940  ┆ 3     │\n",
       "└────────────┴───────┘"
      ]
     },
     "execution_count": 5,
     "metadata": {},
     "output_type": "execute_result"
    }
   ],
   "source": [
    "study_id_group = merged.select('study_id').unique(maintain_order=True).with_columns(group=pl.Series(group_array))\n",
    "study_id_group"
   ]
  },
  {
   "cell_type": "code",
   "execution_count": 6,
   "id": "041a78d9",
   "metadata": {
    "execution": {
     "iopub.execute_input": "2024-08-02T09:22:17.538523Z",
     "iopub.status.busy": "2024-08-02T09:22:17.538127Z",
     "iopub.status.idle": "2024-08-02T09:22:17.578950Z",
     "shell.execute_reply": "2024-08-02T09:22:17.577679Z"
    },
    "papermill": {
     "duration": 0.049778,
     "end_time": "2024-08-02T09:22:17.581451",
     "exception": false,
     "start_time": "2024-08-02T09:22:17.531673",
     "status": "completed"
    },
    "tags": []
   },
   "outputs": [
    {
     "data": {
      "text/html": [
       "<div><style>\n",
       ".dataframe > thead > tr,\n",
       ".dataframe > tbody > tr {\n",
       "  text-align: right;\n",
       "  white-space: pre-wrap;\n",
       "}\n",
       "</style>\n",
       "<small>shape: (48_690, 16)</small><table border=\"1\" class=\"dataframe\"><thead><tr><th>row_id</th><th>study_id</th><th>series_id</th><th>instance_number</th><th>series_description</th><th>condition</th><th>level</th><th>x</th><th>y</th><th>name</th><th>study_id_level</th><th>x_min</th><th>x_max</th><th>y_min</th><th>y_max</th><th>group</th></tr><tr><td>str</td><td>i64</td><td>i64</td><td>i64</td><td>str</td><td>str</td><td>str</td><td>f64</td><td>f64</td><td>str</td><td>str</td><td>f64</td><td>f64</td><td>f64</td><td>f64</td><td>i64</td></tr></thead><tbody><tr><td>&quot;100206310_left_neural_foramina…</td><td>100206310</td><td>2092806862</td><td>13</td><td>&quot;Sagittal T1&quot;</td><td>&quot;left_neural_foraminal_narrowin…</td><td>&quot;l1_l2&quot;</td><td>270.34225</td><td>148.221459</td><td>&quot;100206310_2092806862_0013&quot;</td><td>&quot;100206310_l1_l2&quot;</td><td>236.124282</td><td>300.124282</td><td>115.234966</td><td>179.234966</td><td>0</td></tr><tr><td>&quot;100206310_left_neural_foramina…</td><td>100206310</td><td>2092806862</td><td>12</td><td>&quot;Sagittal T1&quot;</td><td>&quot;left_neural_foraminal_narrowin…</td><td>&quot;l2_l3&quot;</td><td>260.177602</td><td>191.705532</td><td>&quot;100206310_2092806862_0012&quot;</td><td>&quot;100206310_l2_l3&quot;</td><td>226.349493</td><td>290.349493</td><td>157.311014</td><td>221.311014</td><td>0</td></tr><tr><td>&quot;100206310_left_neural_foramina…</td><td>100206310</td><td>2092806862</td><td>13</td><td>&quot;Sagittal T1&quot;</td><td>&quot;left_neural_foraminal_narrowin…</td><td>&quot;l3_l4&quot;</td><td>250.176889</td><td>234.398551</td><td>&quot;100206310_2092806862_0013&quot;</td><td>&quot;100206310_l3_l4&quot;</td><td>219.263597</td><td>283.263597</td><td>203.162615</td><td>267.162615</td><td>0</td></tr><tr><td>&quot;100206310_left_neural_foramina…</td><td>100206310</td><td>2092806862</td><td>12</td><td>&quot;Sagittal T1&quot;</td><td>&quot;left_neural_foraminal_narrowin…</td><td>&quot;l4_l5&quot;</td><td>249.241774</td><td>274.786914</td><td>&quot;100206310_2092806862_0012&quot;</td><td>&quot;100206310_l4_l5&quot;</td><td>219.317425</td><td>283.317425</td><td>244.733579</td><td>308.733579</td><td>0</td></tr><tr><td>&quot;100206310_left_neural_foramina…</td><td>100206310</td><td>2092806862</td><td>12</td><td>&quot;Sagittal T1&quot;</td><td>&quot;left_neural_foraminal_narrowin…</td><td>&quot;l5_s1&quot;</td><td>258.80649</td><td>319.853318</td><td>&quot;100206310_2092806862_0012&quot;</td><td>&quot;100206310_l5_s1&quot;</td><td>223.578398</td><td>287.578398</td><td>288.122178</td><td>352.122178</td><td>0</td></tr><tr><td>&hellip;</td><td>&hellip;</td><td>&hellip;</td><td>&hellip;</td><td>&hellip;</td><td>&hellip;</td><td>&hellip;</td><td>&hellip;</td><td>&hellip;</td><td>&hellip;</td><td>&hellip;</td><td>&hellip;</td><td>&hellip;</td><td>&hellip;</td><td>&hellip;</td><td>&hellip;</td></tr><tr><td>&quot;998688940_right_subarticular_s…</td><td>998688940</td><td>2089880748</td><td>20</td><td>&quot;Axial T2&quot;</td><td>&quot;right_subarticular_stenosis&quot;</td><td>&quot;l5_s1&quot;</td><td>228.361062</td><td>274.350442</td><td>&quot;998688940_2089880748_0020&quot;</td><td>&quot;998688940_l5_s1&quot;</td><td>218.999955</td><td>282.999955</td><td>243.997379</td><td>307.997379</td><td>3</td></tr><tr><td>&quot;998688940_spinal_canal_stenosi…</td><td>998688940</td><td>4135322219</td><td>9</td><td>&quot;Sagittal T2/STIR&quot;</td><td>&quot;spinal_canal_stenosis&quot;</td><td>&quot;l2_l3&quot;</td><td>284.880866</td><td>211.870036</td><td>&quot;998688940_4135322219_0009&quot;</td><td>&quot;998688940_l2_l3&quot;</td><td>252.880866</td><td>316.880866</td><td>179.870036</td><td>243.870036</td><td>3</td></tr><tr><td>&quot;998688940_spinal_canal_stenosi…</td><td>998688940</td><td>4135322219</td><td>9</td><td>&quot;Sagittal T2/STIR&quot;</td><td>&quot;spinal_canal_stenosis&quot;</td><td>&quot;l3_l4&quot;</td><td>275.638989</td><td>255.306859</td><td>&quot;998688940_4135322219_0009&quot;</td><td>&quot;998688940_l3_l4&quot;</td><td>243.638989</td><td>307.638989</td><td>223.306859</td><td>287.306859</td><td>3</td></tr><tr><td>&quot;998688940_spinal_canal_stenosi…</td><td>998688940</td><td>4135322219</td><td>9</td><td>&quot;Sagittal T2/STIR&quot;</td><td>&quot;spinal_canal_stenosis&quot;</td><td>&quot;l4_l5&quot;</td><td>275.638989</td><td>302.440433</td><td>&quot;998688940_4135322219_0009&quot;</td><td>&quot;998688940_l4_l5&quot;</td><td>243.638989</td><td>307.638989</td><td>270.440433</td><td>334.440433</td><td>3</td></tr><tr><td>&quot;998688940_spinal_canal_stenosi…</td><td>998688940</td><td>4135322219</td><td>9</td><td>&quot;Sagittal T2/STIR&quot;</td><td>&quot;spinal_canal_stenosis&quot;</td><td>&quot;l5_s1&quot;</td><td>277.487365</td><td>336.635379</td><td>&quot;998688940_4135322219_0009&quot;</td><td>&quot;998688940_l5_s1&quot;</td><td>245.487365</td><td>309.487365</td><td>304.635379</td><td>368.635379</td><td>3</td></tr></tbody></table></div>"
      ],
      "text/plain": [
       "shape: (48_690, 16)\n",
       "┌────────────┬───────────┬────────────┬────────────┬───┬───────────┬───────────┬───────────┬───────┐\n",
       "│ row_id     ┆ study_id  ┆ series_id  ┆ instance_n ┆ … ┆ x_max     ┆ y_min     ┆ y_max     ┆ group │\n",
       "│ ---        ┆ ---       ┆ ---        ┆ umber      ┆   ┆ ---       ┆ ---       ┆ ---       ┆ ---   │\n",
       "│ str        ┆ i64       ┆ i64        ┆ ---        ┆   ┆ f64       ┆ f64       ┆ f64       ┆ i64   │\n",
       "│            ┆           ┆            ┆ i64        ┆   ┆           ┆           ┆           ┆       │\n",
       "╞════════════╪═══════════╪════════════╪════════════╪═══╪═══════════╪═══════════╪═══════════╪═══════╡\n",
       "│ 100206310_ ┆ 100206310 ┆ 2092806862 ┆ 13         ┆ … ┆ 300.12428 ┆ 115.23496 ┆ 179.23496 ┆ 0     │\n",
       "│ left_neura ┆           ┆            ┆            ┆   ┆ 2         ┆ 6         ┆ 6         ┆       │\n",
       "│ l_foramina ┆           ┆            ┆            ┆   ┆           ┆           ┆           ┆       │\n",
       "│ …          ┆           ┆            ┆            ┆   ┆           ┆           ┆           ┆       │\n",
       "│ 100206310_ ┆ 100206310 ┆ 2092806862 ┆ 12         ┆ … ┆ 290.34949 ┆ 157.31101 ┆ 221.31101 ┆ 0     │\n",
       "│ left_neura ┆           ┆            ┆            ┆   ┆ 3         ┆ 4         ┆ 4         ┆       │\n",
       "│ l_foramina ┆           ┆            ┆            ┆   ┆           ┆           ┆           ┆       │\n",
       "│ …          ┆           ┆            ┆            ┆   ┆           ┆           ┆           ┆       │\n",
       "│ 100206310_ ┆ 100206310 ┆ 2092806862 ┆ 13         ┆ … ┆ 283.26359 ┆ 203.16261 ┆ 267.16261 ┆ 0     │\n",
       "│ left_neura ┆           ┆            ┆            ┆   ┆ 7         ┆ 5         ┆ 5         ┆       │\n",
       "│ l_foramina ┆           ┆            ┆            ┆   ┆           ┆           ┆           ┆       │\n",
       "│ …          ┆           ┆            ┆            ┆   ┆           ┆           ┆           ┆       │\n",
       "│ 100206310_ ┆ 100206310 ┆ 2092806862 ┆ 12         ┆ … ┆ 283.31742 ┆ 244.73357 ┆ 308.73357 ┆ 0     │\n",
       "│ left_neura ┆           ┆            ┆            ┆   ┆ 5         ┆ 9         ┆ 9         ┆       │\n",
       "│ l_foramina ┆           ┆            ┆            ┆   ┆           ┆           ┆           ┆       │\n",
       "│ …          ┆           ┆            ┆            ┆   ┆           ┆           ┆           ┆       │\n",
       "│ 100206310_ ┆ 100206310 ┆ 2092806862 ┆ 12         ┆ … ┆ 287.57839 ┆ 288.12217 ┆ 352.12217 ┆ 0     │\n",
       "│ left_neura ┆           ┆            ┆            ┆   ┆ 8         ┆ 8         ┆ 8         ┆       │\n",
       "│ l_foramina ┆           ┆            ┆            ┆   ┆           ┆           ┆           ┆       │\n",
       "│ …          ┆           ┆            ┆            ┆   ┆           ┆           ┆           ┆       │\n",
       "│ …          ┆ …         ┆ …          ┆ …          ┆ … ┆ …         ┆ …         ┆ …         ┆ …     │\n",
       "│ 998688940_ ┆ 998688940 ┆ 2089880748 ┆ 20         ┆ … ┆ 282.99995 ┆ 243.99737 ┆ 307.99737 ┆ 3     │\n",
       "│ right_suba ┆           ┆            ┆            ┆   ┆ 5         ┆ 9         ┆ 9         ┆       │\n",
       "│ rticular_s ┆           ┆            ┆            ┆   ┆           ┆           ┆           ┆       │\n",
       "│ …          ┆           ┆            ┆            ┆   ┆           ┆           ┆           ┆       │\n",
       "│ 998688940_ ┆ 998688940 ┆ 4135322219 ┆ 9          ┆ … ┆ 316.88086 ┆ 179.87003 ┆ 243.87003 ┆ 3     │\n",
       "│ spinal_can ┆           ┆            ┆            ┆   ┆ 6         ┆ 6         ┆ 6         ┆       │\n",
       "│ al_stenosi ┆           ┆            ┆            ┆   ┆           ┆           ┆           ┆       │\n",
       "│ …          ┆           ┆            ┆            ┆   ┆           ┆           ┆           ┆       │\n",
       "│ 998688940_ ┆ 998688940 ┆ 4135322219 ┆ 9          ┆ … ┆ 307.63898 ┆ 223.30685 ┆ 287.30685 ┆ 3     │\n",
       "│ spinal_can ┆           ┆            ┆            ┆   ┆ 9         ┆ 9         ┆ 9         ┆       │\n",
       "│ al_stenosi ┆           ┆            ┆            ┆   ┆           ┆           ┆           ┆       │\n",
       "│ …          ┆           ┆            ┆            ┆   ┆           ┆           ┆           ┆       │\n",
       "│ 998688940_ ┆ 998688940 ┆ 4135322219 ┆ 9          ┆ … ┆ 307.63898 ┆ 270.44043 ┆ 334.44043 ┆ 3     │\n",
       "│ spinal_can ┆           ┆            ┆            ┆   ┆ 9         ┆ 3         ┆ 3         ┆       │\n",
       "│ al_stenosi ┆           ┆            ┆            ┆   ┆           ┆           ┆           ┆       │\n",
       "│ …          ┆           ┆            ┆            ┆   ┆           ┆           ┆           ┆       │\n",
       "│ 998688940_ ┆ 998688940 ┆ 4135322219 ┆ 9          ┆ … ┆ 309.48736 ┆ 304.63537 ┆ 368.63537 ┆ 3     │\n",
       "│ spinal_can ┆           ┆            ┆            ┆   ┆ 5         ┆ 9         ┆ 9         ┆       │\n",
       "│ al_stenosi ┆           ┆            ┆            ┆   ┆           ┆           ┆           ┆       │\n",
       "│ …          ┆           ┆            ┆            ┆   ┆           ┆           ┆           ┆       │\n",
       "└────────────┴───────────┴────────────┴────────────┴───┴───────────┴───────────┴───────────┴───────┘"
      ]
     },
     "execution_count": 6,
     "metadata": {},
     "output_type": "execute_result"
    }
   ],
   "source": [
    "merged = merged.join(study_id_group, on='study_id')\n",
    "merged"
   ]
  },
  {
   "cell_type": "code",
   "execution_count": 7,
   "id": "2f4273bf",
   "metadata": {
    "execution": {
     "iopub.execute_input": "2024-08-02T09:22:17.594102Z",
     "iopub.status.busy": "2024-08-02T09:22:17.593687Z",
     "iopub.status.idle": "2024-08-02T09:22:17.598482Z",
     "shell.execute_reply": "2024-08-02T09:22:17.597372Z"
    },
    "papermill": {
     "duration": 0.013892,
     "end_time": "2024-08-02T09:22:17.600894",
     "exception": false,
     "start_time": "2024-08-02T09:22:17.587002",
     "status": "completed"
    },
    "tags": []
   },
   "outputs": [],
   "source": [
    "group_num = 3"
   ]
  },
  {
   "cell_type": "code",
   "execution_count": 8,
   "id": "892f439a",
   "metadata": {
    "execution": {
     "iopub.execute_input": "2024-08-02T09:22:17.613947Z",
     "iopub.status.busy": "2024-08-02T09:22:17.613505Z",
     "iopub.status.idle": "2024-08-02T09:37:30.129910Z",
     "shell.execute_reply": "2024-08-02T09:37:30.126301Z"
    },
    "papermill": {
     "duration": 912.530378,
     "end_time": "2024-08-02T09:37:30.136905",
     "exception": false,
     "start_time": "2024-08-02T09:22:17.606527",
     "status": "completed"
    },
    "tags": []
   },
   "outputs": [],
   "source": [
    "for name, data in merged.filter(pl.col('group') == group_num).group_by(['study_id', 'series_id'], maintain_order=True):\n",
    "    study_id = name[0]\n",
    "    series_id = name[1]\n",
    "    \n",
    "    save_path = f'./train_images/{study_id}/{series_id}'\n",
    "    \n",
    "    os.makedirs(save_path, exist_ok=True)\n",
    "    \n",
    "    series_path = Path(os.path.join(train_images_path, f'{study_id}/{series_id}'))\n",
    "    series_file_list = list(series_path.glob('*.dcm'))\n",
    "    \n",
    "    for fpath in series_file_list:\n",
    "        dicom = pydicom.dcmread(fpath).pixel_array\n",
    "        dicom = (dicom - dicom.min()) / (dicom.max() - dicom.min())\n",
    "        np.save(\n",
    "            os.path.join(save_path, f'{fpath.stem}.npy'),\n",
    "            (dicom * 255).astype(np.uint8)\n",
    "        )"
   ]
  },
  {
   "cell_type": "code",
   "execution_count": 9,
   "id": "12ae46d9",
   "metadata": {
    "execution": {
     "iopub.execute_input": "2024-08-02T09:37:30.158574Z",
     "iopub.status.busy": "2024-08-02T09:37:30.157737Z",
     "iopub.status.idle": "2024-08-02T09:50:15.053017Z",
     "shell.execute_reply": "2024-08-02T09:50:15.051602Z"
    },
    "papermill": {
     "duration": 764.917416,
     "end_time": "2024-08-02T09:50:15.064988",
     "exception": false,
     "start_time": "2024-08-02T09:37:30.147572",
     "status": "completed"
    },
    "tags": []
   },
   "outputs": [
    {
     "data": {
      "text/plain": [
       "'/kaggle/working/train_images.zip'"
      ]
     },
     "execution_count": 9,
     "metadata": {},
     "output_type": "execute_result"
    }
   ],
   "source": [
    "zip_name = '/kaggle/working/train_images'\n",
    "directory_name = '/kaggle/working/train_images'\n",
    "\n",
    "shutil.make_archive(zip_name, 'zip', directory_name)"
   ]
  },
  {
   "cell_type": "code",
   "execution_count": 10,
   "id": "924d94ba",
   "metadata": {
    "execution": {
     "iopub.execute_input": "2024-08-02T09:50:15.080332Z",
     "iopub.status.busy": "2024-08-02T09:50:15.079840Z",
     "iopub.status.idle": "2024-08-02T09:50:18.348318Z",
     "shell.execute_reply": "2024-08-02T09:50:18.346483Z"
    },
    "papermill": {
     "duration": 3.280494,
     "end_time": "2024-08-02T09:50:18.352016",
     "exception": false,
     "start_time": "2024-08-02T09:50:15.071522",
     "status": "completed"
    },
    "tags": []
   },
   "outputs": [],
   "source": [
    "!rm -rf '/kaggle/working/train_images'"
   ]
  },
  {
   "cell_type": "code",
   "execution_count": null,
   "id": "5ec3abb1",
   "metadata": {
    "papermill": {
     "duration": 0.006474,
     "end_time": "2024-08-02T09:50:18.365163",
     "exception": false,
     "start_time": "2024-08-02T09:50:18.358689",
     "status": "completed"
    },
    "tags": []
   },
   "outputs": [],
   "source": []
  }
 ],
 "metadata": {
  "kaggle": {
   "accelerator": "none",
   "dataSources": [
    {
     "databundleVersionId": 8561470,
     "sourceId": 71549,
     "sourceType": "competition"
    },
    {
     "sourceId": 190767789,
     "sourceType": "kernelVersion"
    },
    {
     "sourceId": 190839946,
     "sourceType": "kernelVersion"
    }
   ],
   "dockerImageVersionId": 30732,
   "isGpuEnabled": false,
   "isInternetEnabled": true,
   "language": "python",
   "sourceType": "notebook"
  },
  "kernelspec": {
   "display_name": "Python 3",
   "language": "python",
   "name": "python3"
  },
  "language_info": {
   "codemirror_mode": {
    "name": "ipython",
    "version": 3
   },
   "file_extension": ".py",
   "mimetype": "text/x-python",
   "name": "python",
   "nbconvert_exporter": "python",
   "pygments_lexer": "ipython3",
   "version": "3.10.13"
  },
  "papermill": {
   "default_parameters": {},
   "duration": 1687.238883,
   "end_time": "2024-08-02T09:50:19.205595",
   "environment_variables": {},
   "exception": null,
   "input_path": "__notebook__.ipynb",
   "output_path": "__notebook__.ipynb",
   "parameters": {},
   "start_time": "2024-08-02T09:22:11.966712",
   "version": "2.5.0"
  }
 },
 "nbformat": 4,
 "nbformat_minor": 5
}
