{
 "cells": [
  {
   "cell_type": "code",
   "execution_count": 1,
   "id": "a0bb0663",
   "metadata": {
    "execution": {
     "iopub.execute_input": "2024-08-12T13:44:15.181793Z",
     "iopub.status.busy": "2024-08-12T13:44:15.181380Z",
     "iopub.status.idle": "2024-08-12T13:44:18.083958Z",
     "shell.execute_reply": "2024-08-12T13:44:18.082603Z"
    },
    "papermill": {
     "duration": 2.92262,
     "end_time": "2024-08-12T13:44:18.087229",
     "exception": false,
     "start_time": "2024-08-12T13:44:15.164609",
     "status": "completed"
    },
    "tags": []
   },
   "outputs": [],
   "source": [
    "import numpy as np\n",
    "import pandas as pd\n",
    "import polars as pl\n",
    "import os\n",
    "\n",
    "import matplotlib.pyplot as plt\n",
    "from sklearn.model_selection import KFold, StratifiedGroupKFold, GroupKFold\n",
    "\n",
    "from pathlib import Path\n",
    "\n",
    "import pydicom"
   ]
  },
  {
   "cell_type": "code",
   "execution_count": 2,
   "id": "1e3e2b71",
   "metadata": {
    "execution": {
     "iopub.execute_input": "2024-08-12T13:44:18.115002Z",
     "iopub.status.busy": "2024-08-12T13:44:18.114427Z",
     "iopub.status.idle": "2024-08-12T13:44:18.122540Z",
     "shell.execute_reply": "2024-08-12T13:44:18.121408Z"
    },
    "papermill": {
     "duration": 0.024893,
     "end_time": "2024-08-12T13:44:18.124868",
     "exception": false,
     "start_time": "2024-08-12T13:44:18.099975",
     "status": "completed"
    },
    "tags": []
   },
   "outputs": [],
   "source": [
    "def split_fold(df_):\n",
    "    df = df_.clone()\n",
    "    \n",
    "    fold_num = 4\n",
    "    seed = 42\n",
    "    \n",
    "    sgkf = StratifiedGroupKFold(n_splits=fold_num, shuffle=True, random_state=seed)\n",
    "    splitter = np.zeros(df.height)\n",
    "    \n",
    "    for fold, (_, valid_idx) in enumerate(sgkf.split(X=df['study_id_level'], y=df['labels'], groups=df['study_id'])):\n",
    "        splitter[valid_idx] = fold\n",
    "    \n",
    "    df = df.with_columns(fold=pl.Series(splitter).cast(pl.Int8))\n",
    "    \n",
    "    return df"
   ]
  },
  {
   "cell_type": "code",
   "execution_count": 3,
   "id": "7bd56a78",
   "metadata": {
    "execution": {
     "iopub.execute_input": "2024-08-12T13:44:18.154419Z",
     "iopub.status.busy": "2024-08-12T13:44:18.153680Z",
     "iopub.status.idle": "2024-08-12T13:44:18.480307Z",
     "shell.execute_reply": "2024-08-12T13:44:18.479145Z"
    },
    "papermill": {
     "duration": 0.345081,
     "end_time": "2024-08-12T13:44:18.482801",
     "exception": false,
     "start_time": "2024-08-12T13:44:18.137720",
     "status": "completed"
    },
    "tags": []
   },
   "outputs": [
    {
     "data": {
      "text/html": [
       "<div><style>\n",
       ".dataframe > thead > tr,\n",
       ".dataframe > tbody > tr {\n",
       "  text-align: right;\n",
       "  white-space: pre-wrap;\n",
       "}\n",
       "</style>\n",
       "<small>shape: (49_375, 5)</small><table border=\"1\" class=\"dataframe\"><thead><tr><th>row_id</th><th>normal_mild</th><th>moderate</th><th>severe</th><th>sample_weight</th></tr><tr><td>str</td><td>f64</td><td>f64</td><td>f64</td><td>f64</td></tr></thead><tbody><tr><td>&quot;100206310_left_neural_foramina…</td><td>1.0</td><td>0.0</td><td>0.0</td><td>1.0</td></tr><tr><td>&quot;100206310_left_neural_foramina…</td><td>0.0</td><td>1.0</td><td>0.0</td><td>2.0</td></tr><tr><td>&quot;100206310_left_neural_foramina…</td><td>0.0</td><td>1.0</td><td>0.0</td><td>2.0</td></tr><tr><td>&quot;100206310_left_neural_foramina…</td><td>0.0</td><td>0.0</td><td>1.0</td><td>4.0</td></tr><tr><td>&quot;100206310_left_neural_foramina…</td><td>0.0</td><td>1.0</td><td>0.0</td><td>2.0</td></tr><tr><td>&hellip;</td><td>&hellip;</td><td>&hellip;</td><td>&hellip;</td><td>&hellip;</td></tr><tr><td>&quot;998688940_spinal_canal_stenosi…</td><td>1.0</td><td>0.0</td><td>0.0</td><td>1.0</td></tr><tr><td>&quot;998688940_spinal_canal_stenosi…</td><td>1.0</td><td>0.0</td><td>0.0</td><td>1.0</td></tr><tr><td>&quot;998688940_spinal_canal_stenosi…</td><td>1.0</td><td>0.0</td><td>0.0</td><td>1.0</td></tr><tr><td>&quot;998688940_spinal_canal_stenosi…</td><td>1.0</td><td>0.0</td><td>0.0</td><td>1.0</td></tr><tr><td>&quot;998688940_spinal_canal_stenosi…</td><td>1.0</td><td>0.0</td><td>0.0</td><td>1.0</td></tr></tbody></table></div>"
      ],
      "text/plain": [
       "shape: (49_375, 5)\n",
       "┌─────────────────────────────────┬─────────────┬──────────┬────────┬───────────────┐\n",
       "│ row_id                          ┆ normal_mild ┆ moderate ┆ severe ┆ sample_weight │\n",
       "│ ---                             ┆ ---         ┆ ---      ┆ ---    ┆ ---           │\n",
       "│ str                             ┆ f64         ┆ f64      ┆ f64    ┆ f64           │\n",
       "╞═════════════════════════════════╪═════════════╪══════════╪════════╪═══════════════╡\n",
       "│ 100206310_left_neural_foramina… ┆ 1.0         ┆ 0.0      ┆ 0.0    ┆ 1.0           │\n",
       "│ 100206310_left_neural_foramina… ┆ 0.0         ┆ 1.0      ┆ 0.0    ┆ 2.0           │\n",
       "│ 100206310_left_neural_foramina… ┆ 0.0         ┆ 1.0      ┆ 0.0    ┆ 2.0           │\n",
       "│ 100206310_left_neural_foramina… ┆ 0.0         ┆ 0.0      ┆ 1.0    ┆ 4.0           │\n",
       "│ 100206310_left_neural_foramina… ┆ 0.0         ┆ 1.0      ┆ 0.0    ┆ 2.0           │\n",
       "│ …                               ┆ …           ┆ …        ┆ …      ┆ …             │\n",
       "│ 998688940_spinal_canal_stenosi… ┆ 1.0         ┆ 0.0      ┆ 0.0    ┆ 1.0           │\n",
       "│ 998688940_spinal_canal_stenosi… ┆ 1.0         ┆ 0.0      ┆ 0.0    ┆ 1.0           │\n",
       "│ 998688940_spinal_canal_stenosi… ┆ 1.0         ┆ 0.0      ┆ 0.0    ┆ 1.0           │\n",
       "│ 998688940_spinal_canal_stenosi… ┆ 1.0         ┆ 0.0      ┆ 0.0    ┆ 1.0           │\n",
       "│ 998688940_spinal_canal_stenosi… ┆ 1.0         ┆ 0.0      ┆ 0.0    ┆ 1.0           │\n",
       "└─────────────────────────────────┴─────────────┴──────────┴────────┴───────────────┘"
      ]
     },
     "execution_count": 3,
     "metadata": {},
     "output_type": "execute_result"
    }
   ],
   "source": [
    "train_solution = pl.read_csv('/kaggle/input/rsna-2024-lumbar-spine-degenerative-classification/train.csv')\n",
    "solution = (\n",
    "    train_solution\n",
    "    .melt(id_vars='study_id', variable_name='full_label', value_name='severity')\n",
    "    .with_columns(pl.concat_str([\n",
    "        pl.col('study_id'),\n",
    "        pl.col('full_label')\n",
    "    ], separator='_').alias('row_id'))\n",
    "    .fill_null('Normal/Mild') # treat null as normal/mild\n",
    "    .with_columns(pl.when(pl.col('severity') == 'Normal/Mild').then(1.).otherwise(0.).alias('normal_mild'))\n",
    "    .with_columns(pl.when(pl.col('severity') == 'Moderate').then(1.).otherwise(0.).alias('moderate'))\n",
    "    .with_columns(pl.when(pl.col('severity') == 'Severe').then(1.).otherwise(0.).alias('severe'))\n",
    "    .with_columns(\n",
    "        pl.when(pl.col('severity') == 'Normal/Mild')\n",
    "        .then(1.)\n",
    "        .when(pl.col('severity') == 'Moderate')\n",
    "        .then(2.)\n",
    "        .when(pl.col('severity') == 'Severe')\n",
    "        .then(4.)\n",
    "        .alias('sample_weight')\n",
    "    )\n",
    "    .select([\"study_id\", \"row_id\", \"normal_mild\", \"moderate\", \"severe\", \"sample_weight\"]).sort('row_id')\n",
    "    .drop('study_id')\n",
    ")\n",
    "solution.write_csv('solution_df.csv')\n",
    "solution"
   ]
  },
  {
   "cell_type": "markdown",
   "id": "73da9cf1",
   "metadata": {
    "papermill": {
     "duration": 0.012622,
     "end_time": "2024-08-12T13:44:18.508299",
     "exception": false,
     "start_time": "2024-08-12T13:44:18.495677",
     "status": "completed"
    },
    "tags": []
   },
   "source": [
    "# Load Data"
   ]
  },
  {
   "cell_type": "code",
   "execution_count": 4,
   "id": "1d176313",
   "metadata": {
    "execution": {
     "iopub.execute_input": "2024-08-12T13:44:18.535967Z",
     "iopub.status.busy": "2024-08-12T13:44:18.535567Z",
     "iopub.status.idle": "2024-08-12T13:44:18.595086Z",
     "shell.execute_reply": "2024-08-12T13:44:18.593753Z"
    },
    "papermill": {
     "duration": 0.076906,
     "end_time": "2024-08-12T13:44:18.598022",
     "exception": false,
     "start_time": "2024-08-12T13:44:18.521116",
     "status": "completed"
    },
    "tags": []
   },
   "outputs": [],
   "source": [
    "train = pl.read_csv('/kaggle/input/rsna-2024-lumbar-spine-degenerative-classification/train.csv')\n",
    "train_cor = pl.read_csv('/kaggle/input/rsna-2024-lumbar-spine-degenerative-classification/train_label_coordinates.csv')\n",
    "train_des = pl.read_csv('/kaggle/input/rsna-2024-lumbar-spine-degenerative-classification/train_series_descriptions.csv')\n",
    "\n",
    "train_images_path = '/kaggle/input/rsna-2024-lumbar-spine-degenerative-classification/train_images'"
   ]
  },
  {
   "cell_type": "code",
   "execution_count": 5,
   "id": "70e39c4f",
   "metadata": {
    "execution": {
     "iopub.execute_input": "2024-08-12T13:44:18.627882Z",
     "iopub.status.busy": "2024-08-12T13:44:18.627498Z",
     "iopub.status.idle": "2024-08-12T13:44:18.639642Z",
     "shell.execute_reply": "2024-08-12T13:44:18.638367Z"
    },
    "papermill": {
     "duration": 0.029953,
     "end_time": "2024-08-12T13:44:18.642535",
     "exception": false,
     "start_time": "2024-08-12T13:44:18.612582",
     "status": "completed"
    },
    "tags": []
   },
   "outputs": [],
   "source": [
    "axial_series = train_des.filter(pl.col('series_description') == 'Axial T2')\n",
    "sagittal_series = train_des.filter(pl.col('series_description') != 'Axial T2')"
   ]
  },
  {
   "cell_type": "code",
   "execution_count": 6,
   "id": "a60e034f",
   "metadata": {
    "execution": {
     "iopub.execute_input": "2024-08-12T13:44:18.671688Z",
     "iopub.status.busy": "2024-08-12T13:44:18.671293Z",
     "iopub.status.idle": "2024-08-12T13:44:18.692756Z",
     "shell.execute_reply": "2024-08-12T13:44:18.691230Z"
    },
    "papermill": {
     "duration": 0.039136,
     "end_time": "2024-08-12T13:44:18.695789",
     "exception": false,
     "start_time": "2024-08-12T13:44:18.656653",
     "status": "completed"
    },
    "tags": []
   },
   "outputs": [],
   "source": [
    "original_train = pl.read_csv('/kaggle/input/rsna-2024-lumbar-spine-degenerative-classification/train.csv')\n",
    "train_null = original_train.melt(id_vars='study_id').filter(pl.col('value').is_null())['study_id'].unique(maintain_order=True).to_list()"
   ]
  },
  {
   "cell_type": "code",
   "execution_count": 7,
   "id": "7dd5c80f",
   "metadata": {
    "execution": {
     "iopub.execute_input": "2024-08-12T13:44:18.724087Z",
     "iopub.status.busy": "2024-08-12T13:44:18.723672Z",
     "iopub.status.idle": "2024-08-12T13:44:18.731132Z",
     "shell.execute_reply": "2024-08-12T13:44:18.729615Z"
    },
    "papermill": {
     "duration": 0.024332,
     "end_time": "2024-08-12T13:44:18.733783",
     "exception": false,
     "start_time": "2024-08-12T13:44:18.709451",
     "status": "completed"
    },
    "tags": []
   },
   "outputs": [],
   "source": [
    "cap2lower = {\n",
    "    'Normal/Mild': 'normal_mild',\n",
    "    'Moderate': 'moderate',\n",
    "    'Severe': 'severe',\n",
    "}\n",
    "\n",
    "levels = [\n",
    "    'l1_l2',\n",
    "    'l2_l3',\n",
    "    'l3_l4',\n",
    "    'l4_l5',\n",
    "    'l5_s1',\n",
    "]\n",
    "\n",
    "condition_plane = {\n",
    "    'sagittal' : [\n",
    "        'left_neural_foraminal_narrowing',\n",
    "        'right_neural_foraminal_narrowing',\n",
    "        'spinal_canal_stenosis',\n",
    "        'unknown',\n",
    "    ],\n",
    "    'axial': [\n",
    "        'left_subarticular_stenosis',\n",
    "        'right_subarticular_stenosis',\n",
    "        'unknown',\n",
    "    ]\n",
    "}"
   ]
  },
  {
   "cell_type": "markdown",
   "id": "82e96f2e",
   "metadata": {
    "papermill": {
     "duration": 0.013361,
     "end_time": "2024-08-12T13:44:18.760590",
     "exception": false,
     "start_time": "2024-08-12T13:44:18.747229",
     "status": "completed"
    },
    "tags": []
   },
   "source": [
    "# Create Study level labels"
   ]
  },
  {
   "cell_type": "code",
   "execution_count": 8,
   "id": "6cea0145",
   "metadata": {
    "execution": {
     "iopub.execute_input": "2024-08-12T13:44:18.788939Z",
     "iopub.status.busy": "2024-08-12T13:44:18.788546Z",
     "iopub.status.idle": "2024-08-12T13:44:18.795887Z",
     "shell.execute_reply": "2024-08-12T13:44:18.794637Z"
    },
    "papermill": {
     "duration": 0.024096,
     "end_time": "2024-08-12T13:44:18.798434",
     "exception": false,
     "start_time": "2024-08-12T13:44:18.774338",
     "status": "completed"
    },
    "tags": []
   },
   "outputs": [],
   "source": [
    "label_order = [\n",
    "    'study_id_level',\n",
    "\n",
    "    # sagittal_t1\n",
    "    'left_neural_foraminal_narrowing_normal_mild',\n",
    "    'left_neural_foraminal_narrowing_moderate',\n",
    "    'left_neural_foraminal_narrowing_severe',\n",
    "\n",
    "    'right_neural_foraminal_narrowing_normal_mild',\n",
    "    'right_neural_foraminal_narrowing_moderate',\n",
    "    'right_neural_foraminal_narrowing_severe',\n",
    "\n",
    "    # sagittal_t2\n",
    "    'spinal_canal_stenosis_normal_mild',\n",
    "    'spinal_canal_stenosis_moderate',\n",
    "    'spinal_canal_stenosis_severe',\n",
    "\n",
    "    # axial\n",
    "    'left_subarticular_stenosis_normal_mild',\n",
    "    'left_subarticular_stenosis_moderate',\n",
    "    'left_subarticular_stenosis_severe',\n",
    "\n",
    "    'right_subarticular_stenosis_normal_mild',\n",
    "    'right_subarticular_stenosis_moderate',\n",
    "    'right_subarticular_stenosis_severe',\n",
    "    \n",
    "#     # unknown\n",
    "#     'left_neural_foraminal_narrowing_unknown',\n",
    "#     'right_neural_foraminal_narrowing_unknown',\n",
    "#     'spinal_canal_stenosis_unknown',\n",
    "#     'left_subarticular_stenosis_unknown',\n",
    "#     'right_subarticular_stenosis_unknown',\n",
    "]\n",
    "label_order_dict = dict(zip(label_order[1:], range(len(label_order))))"
   ]
  },
  {
   "cell_type": "code",
   "execution_count": 9,
   "id": "d9dc070f",
   "metadata": {
    "execution": {
     "iopub.execute_input": "2024-08-12T13:44:18.826770Z",
     "iopub.status.busy": "2024-08-12T13:44:18.826251Z",
     "iopub.status.idle": "2024-08-12T13:44:18.934807Z",
     "shell.execute_reply": "2024-08-12T13:44:18.933665Z"
    },
    "papermill": {
     "duration": 0.125804,
     "end_time": "2024-08-12T13:44:18.937528",
     "exception": false,
     "start_time": "2024-08-12T13:44:18.811724",
     "status": "completed"
    },
    "tags": []
   },
   "outputs": [
    {
     "data": {
      "text/html": [
       "<div><style>\n",
       ".dataframe > thead > tr,\n",
       ".dataframe > tbody > tr {\n",
       "  text-align: right;\n",
       "  white-space: pre-wrap;\n",
       "}\n",
       "</style>\n",
       "<small>shape: (9_875, 16)</small><table border=\"1\" class=\"dataframe\"><thead><tr><th>study_id_level</th><th>left_neural_foraminal_narrowing_normal_mild</th><th>left_neural_foraminal_narrowing_moderate</th><th>left_neural_foraminal_narrowing_severe</th><th>right_neural_foraminal_narrowing_normal_mild</th><th>right_neural_foraminal_narrowing_moderate</th><th>right_neural_foraminal_narrowing_severe</th><th>spinal_canal_stenosis_normal_mild</th><th>spinal_canal_stenosis_moderate</th><th>spinal_canal_stenosis_severe</th><th>left_subarticular_stenosis_normal_mild</th><th>left_subarticular_stenosis_moderate</th><th>left_subarticular_stenosis_severe</th><th>right_subarticular_stenosis_normal_mild</th><th>right_subarticular_stenosis_moderate</th><th>right_subarticular_stenosis_severe</th></tr><tr><td>str</td><td>i64</td><td>i64</td><td>i64</td><td>i64</td><td>i64</td><td>i64</td><td>i64</td><td>i64</td><td>i64</td><td>i64</td><td>i64</td><td>i64</td><td>i64</td><td>i64</td><td>i64</td></tr></thead><tbody><tr><td>&quot;100206310_l1_l2&quot;</td><td>1</td><td>0</td><td>0</td><td>0</td><td>1</td><td>0</td><td>1</td><td>0</td><td>0</td><td>1</td><td>0</td><td>0</td><td>1</td><td>0</td><td>0</td></tr><tr><td>&quot;100206310_l2_l3&quot;</td><td>0</td><td>1</td><td>0</td><td>0</td><td>1</td><td>0</td><td>1</td><td>0</td><td>0</td><td>1</td><td>0</td><td>0</td><td>1</td><td>0</td><td>0</td></tr><tr><td>&quot;100206310_l3_l4&quot;</td><td>0</td><td>1</td><td>0</td><td>0</td><td>0</td><td>1</td><td>0</td><td>1</td><td>0</td><td>0</td><td>1</td><td>0</td><td>0</td><td>1</td><td>0</td></tr><tr><td>&quot;100206310_l4_l5&quot;</td><td>0</td><td>0</td><td>1</td><td>0</td><td>1</td><td>0</td><td>0</td><td>0</td><td>1</td><td>0</td><td>0</td><td>1</td><td>0</td><td>1</td><td>0</td></tr><tr><td>&quot;100206310_l5_s1&quot;</td><td>0</td><td>1</td><td>0</td><td>1</td><td>0</td><td>0</td><td>1</td><td>0</td><td>0</td><td>0</td><td>1</td><td>0</td><td>0</td><td>1</td><td>0</td></tr><tr><td>&hellip;</td><td>&hellip;</td><td>&hellip;</td><td>&hellip;</td><td>&hellip;</td><td>&hellip;</td><td>&hellip;</td><td>&hellip;</td><td>&hellip;</td><td>&hellip;</td><td>&hellip;</td><td>&hellip;</td><td>&hellip;</td><td>&hellip;</td><td>&hellip;</td><td>&hellip;</td></tr><tr><td>&quot;998688940_l1_l2&quot;</td><td>1</td><td>0</td><td>0</td><td>1</td><td>0</td><td>0</td><td>1</td><td>0</td><td>0</td><td>1</td><td>0</td><td>0</td><td>1</td><td>0</td><td>0</td></tr><tr><td>&quot;998688940_l2_l3&quot;</td><td>1</td><td>0</td><td>0</td><td>1</td><td>0</td><td>0</td><td>1</td><td>0</td><td>0</td><td>0</td><td>1</td><td>0</td><td>1</td><td>0</td><td>0</td></tr><tr><td>&quot;998688940_l3_l4&quot;</td><td>1</td><td>0</td><td>0</td><td>0</td><td>1</td><td>0</td><td>1</td><td>0</td><td>0</td><td>0</td><td>1</td><td>0</td><td>0</td><td>1</td><td>0</td></tr><tr><td>&quot;998688940_l4_l5&quot;</td><td>1</td><td>0</td><td>0</td><td>0</td><td>1</td><td>0</td><td>1</td><td>0</td><td>0</td><td>0</td><td>1</td><td>0</td><td>0</td><td>0</td><td>1</td></tr><tr><td>&quot;998688940_l5_s1&quot;</td><td>1</td><td>0</td><td>0</td><td>0</td><td>1</td><td>0</td><td>1</td><td>0</td><td>0</td><td>1</td><td>0</td><td>0</td><td>0</td><td>0</td><td>1</td></tr></tbody></table></div>"
      ],
      "text/plain": [
       "shape: (9_875, 16)\n",
       "┌───────────┬───────────┬───────────┬───────────┬───┬───────────┬───────────┬───────────┬──────────┐\n",
       "│ study_id_ ┆ left_neur ┆ left_neur ┆ left_neur ┆ … ┆ left_suba ┆ right_sub ┆ right_sub ┆ right_su │\n",
       "│ level     ┆ al_forami ┆ al_forami ┆ al_forami ┆   ┆ rticular_ ┆ articular ┆ articular ┆ barticul │\n",
       "│ ---       ┆ nal_narro ┆ nal_narro ┆ nal_narro ┆   ┆ stenosis_ ┆ _stenosis ┆ _stenosis ┆ ar_steno │\n",
       "│ str       ┆ win…      ┆ win…      ┆ win…      ┆   ┆ sev…      ┆ _no…      ┆ _mo…      ┆ sis_se…  │\n",
       "│           ┆ ---       ┆ ---       ┆ ---       ┆   ┆ ---       ┆ ---       ┆ ---       ┆ ---      │\n",
       "│           ┆ i64       ┆ i64       ┆ i64       ┆   ┆ i64       ┆ i64       ┆ i64       ┆ i64      │\n",
       "╞═══════════╪═══════════╪═══════════╪═══════════╪═══╪═══════════╪═══════════╪═══════════╪══════════╡\n",
       "│ 100206310 ┆ 1         ┆ 0         ┆ 0         ┆ … ┆ 0         ┆ 1         ┆ 0         ┆ 0        │\n",
       "│ _l1_l2    ┆           ┆           ┆           ┆   ┆           ┆           ┆           ┆          │\n",
       "│ 100206310 ┆ 0         ┆ 1         ┆ 0         ┆ … ┆ 0         ┆ 1         ┆ 0         ┆ 0        │\n",
       "│ _l2_l3    ┆           ┆           ┆           ┆   ┆           ┆           ┆           ┆          │\n",
       "│ 100206310 ┆ 0         ┆ 1         ┆ 0         ┆ … ┆ 0         ┆ 0         ┆ 1         ┆ 0        │\n",
       "│ _l3_l4    ┆           ┆           ┆           ┆   ┆           ┆           ┆           ┆          │\n",
       "│ 100206310 ┆ 0         ┆ 0         ┆ 1         ┆ … ┆ 1         ┆ 0         ┆ 1         ┆ 0        │\n",
       "│ _l4_l5    ┆           ┆           ┆           ┆   ┆           ┆           ┆           ┆          │\n",
       "│ 100206310 ┆ 0         ┆ 1         ┆ 0         ┆ … ┆ 0         ┆ 0         ┆ 1         ┆ 0        │\n",
       "│ _l5_s1    ┆           ┆           ┆           ┆   ┆           ┆           ┆           ┆          │\n",
       "│ …         ┆ …         ┆ …         ┆ …         ┆ … ┆ …         ┆ …         ┆ …         ┆ …        │\n",
       "│ 998688940 ┆ 1         ┆ 0         ┆ 0         ┆ … ┆ 0         ┆ 1         ┆ 0         ┆ 0        │\n",
       "│ _l1_l2    ┆           ┆           ┆           ┆   ┆           ┆           ┆           ┆          │\n",
       "│ 998688940 ┆ 1         ┆ 0         ┆ 0         ┆ … ┆ 0         ┆ 1         ┆ 0         ┆ 0        │\n",
       "│ _l2_l3    ┆           ┆           ┆           ┆   ┆           ┆           ┆           ┆          │\n",
       "│ 998688940 ┆ 1         ┆ 0         ┆ 0         ┆ … ┆ 0         ┆ 0         ┆ 1         ┆ 0        │\n",
       "│ _l3_l4    ┆           ┆           ┆           ┆   ┆           ┆           ┆           ┆          │\n",
       "│ 998688940 ┆ 1         ┆ 0         ┆ 0         ┆ … ┆ 0         ┆ 0         ┆ 0         ┆ 1        │\n",
       "│ _l4_l5    ┆           ┆           ┆           ┆   ┆           ┆           ┆           ┆          │\n",
       "│ 998688940 ┆ 1         ┆ 0         ┆ 0         ┆ … ┆ 0         ┆ 0         ┆ 0         ┆ 1        │\n",
       "│ _l5_s1    ┆           ┆           ┆           ┆   ┆           ┆           ┆           ┆          │\n",
       "└───────────┴───────────┴───────────┴───────────┴───┴───────────┴───────────┴───────────┴──────────┘"
      ]
     },
     "execution_count": 9,
     "metadata": {},
     "output_type": "execute_result"
    }
   ],
   "source": [
    "sag_l = train.melt(id_vars='study_id')\n",
    "sag_l = sag_l.with_columns(pl.col('variable').str.slice(-5).alias('level'))\n",
    "sag_l = sag_l.with_columns(pl.col('variable').str.head(-6).alias('condtion'))\n",
    "sag_l = sag_l.with_columns(pl.col('value').replace(cap2lower)).fill_null('normal_mild')\n",
    "\n",
    "sag_l = sag_l.with_columns(pl.concat_str([\n",
    "    pl.col('condtion'),\n",
    "    pl.col('value'),\n",
    "], separator='_').alias('condition_severity'))\n",
    "\n",
    "sag_l = sag_l.with_columns(pl.concat_str([\n",
    "    pl.col('study_id'),\n",
    "    pl.col('level'),\n",
    "], separator='_').alias('study_id_level'))\n",
    "sag_l = sag_l.sort('study_id_level')\n",
    "\n",
    "sag_l = sag_l.select(['study_id_level', 'condition_severity']).to_dummies('condition_severity').group_by('study_id_level').sum().sort('study_id_level')\n",
    "sag_l_cols_keys = sag_l.drop('study_id_level').columns\n",
    "sag_l_cols_vals = [col[19:] for col in sag_l_cols_keys]\n",
    "sag_l_cols = dict(zip(sag_l_cols_keys, sag_l_cols_vals))\n",
    "sag_l = sag_l.rename(sag_l_cols)\n",
    "sag_l = sag_l.select(label_order)\n",
    "sag_l"
   ]
  },
  {
   "cell_type": "code",
   "execution_count": 10,
   "id": "fdb424d1",
   "metadata": {
    "execution": {
     "iopub.execute_input": "2024-08-12T13:44:18.966017Z",
     "iopub.status.busy": "2024-08-12T13:44:18.965644Z",
     "iopub.status.idle": "2024-08-12T13:44:18.975535Z",
     "shell.execute_reply": "2024-08-12T13:44:18.974264Z"
    },
    "papermill": {
     "duration": 0.027488,
     "end_time": "2024-08-12T13:44:18.978164",
     "exception": false,
     "start_time": "2024-08-12T13:44:18.950676",
     "status": "completed"
    },
    "tags": []
   },
   "outputs": [],
   "source": [
    "sag_l.write_csv('study_id_level_labels.csv')"
   ]
  },
  {
   "cell_type": "markdown",
   "id": "d306b60a",
   "metadata": {
    "papermill": {
     "duration": 0.012696,
     "end_time": "2024-08-12T13:44:19.004109",
     "exception": false,
     "start_time": "2024-08-12T13:44:18.991413",
     "status": "completed"
    },
    "tags": []
   },
   "source": [
    "# Create Subarticular labels"
   ]
  },
  {
   "cell_type": "code",
   "execution_count": 11,
   "id": "db9c0d1b",
   "metadata": {
    "execution": {
     "iopub.execute_input": "2024-08-12T13:44:19.032766Z",
     "iopub.status.busy": "2024-08-12T13:44:19.031965Z",
     "iopub.status.idle": "2024-08-12T13:44:19.040613Z",
     "shell.execute_reply": "2024-08-12T13:44:19.039368Z"
    },
    "papermill": {
     "duration": 0.025472,
     "end_time": "2024-08-12T13:44:19.043145",
     "exception": false,
     "start_time": "2024-08-12T13:44:19.017673",
     "status": "completed"
    },
    "tags": []
   },
   "outputs": [],
   "source": [
    "subarticular_cond_names = [\n",
    "    'left_subarticular_stenosis',\n",
    "    'right_subarticular_stenosis',\n",
    "]\n",
    "\n",
    "subarticular_cond_names_levels = [cond + '_' + level for cond in subarticular_cond_names for level in levels]\n",
    "\n",
    "axial_label_order = [\n",
    "    'study_id',\n",
    "    'left_subarticular_stenosis_l1_l2_normal_mild',\n",
    "    'left_subarticular_stenosis_l1_l2_moderate',\n",
    "    'left_subarticular_stenosis_l1_l2_severe',\n",
    "    \n",
    "    'left_subarticular_stenosis_l2_l3_normal_mild',\n",
    "    'left_subarticular_stenosis_l2_l3_moderate',\n",
    "    'left_subarticular_stenosis_l2_l3_severe',\n",
    "    \n",
    "    'left_subarticular_stenosis_l3_l4_normal_mild',\n",
    "    'left_subarticular_stenosis_l3_l4_moderate',\n",
    "    'left_subarticular_stenosis_l3_l4_severe',\n",
    "    \n",
    "    'left_subarticular_stenosis_l4_l5_normal_mild',\n",
    "    'left_subarticular_stenosis_l4_l5_moderate',\n",
    "    'left_subarticular_stenosis_l4_l5_severe',\n",
    "    \n",
    "    'left_subarticular_stenosis_l5_s1_normal_mild',\n",
    "    'left_subarticular_stenosis_l5_s1_moderate',\n",
    "    'left_subarticular_stenosis_l5_s1_severe',\n",
    "    \n",
    "    'right_subarticular_stenosis_l1_l2_normal_mild',\n",
    "    'right_subarticular_stenosis_l1_l2_moderate',\n",
    "    'right_subarticular_stenosis_l1_l2_severe',\n",
    "    \n",
    "    'right_subarticular_stenosis_l2_l3_normal_mild',\n",
    "    'right_subarticular_stenosis_l2_l3_moderate',\n",
    "    'right_subarticular_stenosis_l2_l3_severe',\n",
    "    \n",
    "    'right_subarticular_stenosis_l3_l4_normal_mild',\n",
    "    'right_subarticular_stenosis_l3_l4_moderate',\n",
    "    'right_subarticular_stenosis_l3_l4_severe',\n",
    "    \n",
    "    'right_subarticular_stenosis_l4_l5_normal_mild',\n",
    "    'right_subarticular_stenosis_l4_l5_moderate',\n",
    "    'right_subarticular_stenosis_l4_l5_severe',\n",
    "    \n",
    "    'right_subarticular_stenosis_l5_s1_normal_mild',\n",
    "    'right_subarticular_stenosis_l5_s1_moderate',\n",
    "    'right_subarticular_stenosis_l5_s1_severe'\n",
    "]"
   ]
  },
  {
   "cell_type": "code",
   "execution_count": 12,
   "id": "a106244c",
   "metadata": {
    "execution": {
     "iopub.execute_input": "2024-08-12T13:44:19.071086Z",
     "iopub.status.busy": "2024-08-12T13:44:19.070707Z",
     "iopub.status.idle": "2024-08-12T13:44:19.103376Z",
     "shell.execute_reply": "2024-08-12T13:44:19.102204Z"
    },
    "papermill": {
     "duration": 0.049475,
     "end_time": "2024-08-12T13:44:19.105962",
     "exception": false,
     "start_time": "2024-08-12T13:44:19.056487",
     "status": "completed"
    },
    "tags": []
   },
   "outputs": [
    {
     "data": {
      "text/html": [
       "<div><style>\n",
       ".dataframe > thead > tr,\n",
       ".dataframe > tbody > tr {\n",
       "  text-align: right;\n",
       "  white-space: pre-wrap;\n",
       "}\n",
       "</style>\n",
       "<small>shape: (1_975, 31)</small><table border=\"1\" class=\"dataframe\"><thead><tr><th>study_id</th><th>left_subarticular_stenosis_l1_l2_normal_mild</th><th>left_subarticular_stenosis_l1_l2_moderate</th><th>left_subarticular_stenosis_l1_l2_severe</th><th>left_subarticular_stenosis_l2_l3_normal_mild</th><th>left_subarticular_stenosis_l2_l3_moderate</th><th>left_subarticular_stenosis_l2_l3_severe</th><th>left_subarticular_stenosis_l3_l4_normal_mild</th><th>left_subarticular_stenosis_l3_l4_moderate</th><th>left_subarticular_stenosis_l3_l4_severe</th><th>left_subarticular_stenosis_l4_l5_normal_mild</th><th>left_subarticular_stenosis_l4_l5_moderate</th><th>left_subarticular_stenosis_l4_l5_severe</th><th>left_subarticular_stenosis_l5_s1_normal_mild</th><th>left_subarticular_stenosis_l5_s1_moderate</th><th>left_subarticular_stenosis_l5_s1_severe</th><th>right_subarticular_stenosis_l1_l2_normal_mild</th><th>right_subarticular_stenosis_l1_l2_moderate</th><th>right_subarticular_stenosis_l1_l2_severe</th><th>right_subarticular_stenosis_l2_l3_normal_mild</th><th>right_subarticular_stenosis_l2_l3_moderate</th><th>right_subarticular_stenosis_l2_l3_severe</th><th>right_subarticular_stenosis_l3_l4_normal_mild</th><th>right_subarticular_stenosis_l3_l4_moderate</th><th>right_subarticular_stenosis_l3_l4_severe</th><th>right_subarticular_stenosis_l4_l5_normal_mild</th><th>right_subarticular_stenosis_l4_l5_moderate</th><th>right_subarticular_stenosis_l4_l5_severe</th><th>right_subarticular_stenosis_l5_s1_normal_mild</th><th>right_subarticular_stenosis_l5_s1_moderate</th><th>right_subarticular_stenosis_l5_s1_severe</th></tr><tr><td>i64</td><td>i64</td><td>i64</td><td>i64</td><td>i64</td><td>i64</td><td>i64</td><td>i64</td><td>i64</td><td>i64</td><td>i64</td><td>i64</td><td>i64</td><td>i64</td><td>i64</td><td>i64</td><td>i64</td><td>i64</td><td>i64</td><td>i64</td><td>i64</td><td>i64</td><td>i64</td><td>i64</td><td>i64</td><td>i64</td><td>i64</td><td>i64</td><td>i64</td><td>i64</td><td>i64</td></tr></thead><tbody><tr><td>4003253</td><td>1</td><td>0</td><td>0</td><td>1</td><td>0</td><td>0</td><td>1</td><td>0</td><td>0</td><td>0</td><td>1</td><td>0</td><td>1</td><td>0</td><td>0</td><td>1</td><td>0</td><td>0</td><td>1</td><td>0</td><td>0</td><td>1</td><td>0</td><td>0</td><td>1</td><td>0</td><td>0</td><td>1</td><td>0</td><td>0</td></tr><tr><td>4646740</td><td>1</td><td>0</td><td>0</td><td>1</td><td>0</td><td>0</td><td>1</td><td>0</td><td>0</td><td>0</td><td>0</td><td>1</td><td>1</td><td>0</td><td>0</td><td>1</td><td>0</td><td>0</td><td>0</td><td>1</td><td>0</td><td>0</td><td>1</td><td>0</td><td>0</td><td>1</td><td>0</td><td>1</td><td>0</td><td>0</td></tr><tr><td>7143189</td><td>1</td><td>0</td><td>0</td><td>1</td><td>0</td><td>0</td><td>1</td><td>0</td><td>0</td><td>1</td><td>0</td><td>0</td><td>1</td><td>0</td><td>0</td><td>1</td><td>0</td><td>0</td><td>1</td><td>0</td><td>0</td><td>1</td><td>0</td><td>0</td><td>1</td><td>0</td><td>0</td><td>1</td><td>0</td><td>0</td></tr><tr><td>8785691</td><td>1</td><td>0</td><td>0</td><td>1</td><td>0</td><td>0</td><td>1</td><td>0</td><td>0</td><td>1</td><td>0</td><td>0</td><td>1</td><td>0</td><td>0</td><td>1</td><td>0</td><td>0</td><td>1</td><td>0</td><td>0</td><td>1</td><td>0</td><td>0</td><td>1</td><td>0</td><td>0</td><td>1</td><td>0</td><td>0</td></tr><tr><td>10728036</td><td>1</td><td>0</td><td>0</td><td>1</td><td>0</td><td>0</td><td>1</td><td>0</td><td>0</td><td>1</td><td>0</td><td>0</td><td>1</td><td>0</td><td>0</td><td>1</td><td>0</td><td>0</td><td>1</td><td>0</td><td>0</td><td>1</td><td>0</td><td>0</td><td>0</td><td>1</td><td>0</td><td>1</td><td>0</td><td>0</td></tr><tr><td>&hellip;</td><td>&hellip;</td><td>&hellip;</td><td>&hellip;</td><td>&hellip;</td><td>&hellip;</td><td>&hellip;</td><td>&hellip;</td><td>&hellip;</td><td>&hellip;</td><td>&hellip;</td><td>&hellip;</td><td>&hellip;</td><td>&hellip;</td><td>&hellip;</td><td>&hellip;</td><td>&hellip;</td><td>&hellip;</td><td>&hellip;</td><td>&hellip;</td><td>&hellip;</td><td>&hellip;</td><td>&hellip;</td><td>&hellip;</td><td>&hellip;</td><td>&hellip;</td><td>&hellip;</td><td>&hellip;</td><td>&hellip;</td><td>&hellip;</td><td>&hellip;</td></tr><tr><td>4282019580</td><td>1</td><td>0</td><td>0</td><td>1</td><td>0</td><td>0</td><td>1</td><td>0</td><td>0</td><td>0</td><td>1</td><td>0</td><td>1</td><td>0</td><td>0</td><td>1</td><td>0</td><td>0</td><td>1</td><td>0</td><td>0</td><td>0</td><td>1</td><td>0</td><td>0</td><td>1</td><td>0</td><td>0</td><td>1</td><td>0</td></tr><tr><td>4283570761</td><td>1</td><td>0</td><td>0</td><td>1</td><td>0</td><td>0</td><td>1</td><td>0</td><td>0</td><td>1</td><td>0</td><td>0</td><td>1</td><td>0</td><td>0</td><td>1</td><td>0</td><td>0</td><td>1</td><td>0</td><td>0</td><td>1</td><td>0</td><td>0</td><td>1</td><td>0</td><td>0</td><td>1</td><td>0</td><td>0</td></tr><tr><td>4284048608</td><td>1</td><td>0</td><td>0</td><td>1</td><td>0</td><td>0</td><td>1</td><td>0</td><td>0</td><td>0</td><td>0</td><td>1</td><td>1</td><td>0</td><td>0</td><td>1</td><td>0</td><td>0</td><td>1</td><td>0</td><td>0</td><td>1</td><td>0</td><td>0</td><td>0</td><td>0</td><td>1</td><td>1</td><td>0</td><td>0</td></tr><tr><td>4287160193</td><td>1</td><td>0</td><td>0</td><td>0</td><td>0</td><td>1</td><td>0</td><td>1</td><td>0</td><td>0</td><td>1</td><td>0</td><td>1</td><td>0</td><td>0</td><td>1</td><td>0</td><td>0</td><td>1</td><td>0</td><td>0</td><td>0</td><td>1</td><td>0</td><td>0</td><td>1</td><td>0</td><td>1</td><td>0</td><td>0</td></tr><tr><td>4290709089</td><td>1</td><td>0</td><td>0</td><td>1</td><td>0</td><td>0</td><td>1</td><td>0</td><td>0</td><td>1</td><td>0</td><td>0</td><td>1</td><td>0</td><td>0</td><td>1</td><td>0</td><td>0</td><td>1</td><td>0</td><td>0</td><td>1</td><td>0</td><td>0</td><td>1</td><td>0</td><td>0</td><td>1</td><td>0</td><td>0</td></tr></tbody></table></div>"
      ],
      "text/plain": [
       "shape: (1_975, 31)\n",
       "┌───────────┬───────────┬───────────┬───────────┬───┬───────────┬───────────┬───────────┬──────────┐\n",
       "│ study_id  ┆ left_suba ┆ left_suba ┆ left_suba ┆ … ┆ right_sub ┆ right_sub ┆ right_sub ┆ right_su │\n",
       "│ ---       ┆ rticular_ ┆ rticular_ ┆ rticular_ ┆   ┆ articular ┆ articular ┆ articular ┆ barticul │\n",
       "│ i64       ┆ stenosis_ ┆ stenosis_ ┆ stenosis_ ┆   ┆ _stenosis ┆ _stenosis ┆ _stenosis ┆ ar_steno │\n",
       "│           ┆ l1_…      ┆ l1_…      ┆ l1_…      ┆   ┆ _l4…      ┆ _l5…      ┆ _l5…      ┆ sis_l5…  │\n",
       "│           ┆ ---       ┆ ---       ┆ ---       ┆   ┆ ---       ┆ ---       ┆ ---       ┆ ---      │\n",
       "│           ┆ i64       ┆ i64       ┆ i64       ┆   ┆ i64       ┆ i64       ┆ i64       ┆ i64      │\n",
       "╞═══════════╪═══════════╪═══════════╪═══════════╪═══╪═══════════╪═══════════╪═══════════╪══════════╡\n",
       "│ 4003253   ┆ 1         ┆ 0         ┆ 0         ┆ … ┆ 0         ┆ 1         ┆ 0         ┆ 0        │\n",
       "│ 4646740   ┆ 1         ┆ 0         ┆ 0         ┆ … ┆ 0         ┆ 1         ┆ 0         ┆ 0        │\n",
       "│ 7143189   ┆ 1         ┆ 0         ┆ 0         ┆ … ┆ 0         ┆ 1         ┆ 0         ┆ 0        │\n",
       "│ 8785691   ┆ 1         ┆ 0         ┆ 0         ┆ … ┆ 0         ┆ 1         ┆ 0         ┆ 0        │\n",
       "│ 10728036  ┆ 1         ┆ 0         ┆ 0         ┆ … ┆ 0         ┆ 1         ┆ 0         ┆ 0        │\n",
       "│ …         ┆ …         ┆ …         ┆ …         ┆ … ┆ …         ┆ …         ┆ …         ┆ …        │\n",
       "│ 428201958 ┆ 1         ┆ 0         ┆ 0         ┆ … ┆ 0         ┆ 0         ┆ 1         ┆ 0        │\n",
       "│ 0         ┆           ┆           ┆           ┆   ┆           ┆           ┆           ┆          │\n",
       "│ 428357076 ┆ 1         ┆ 0         ┆ 0         ┆ … ┆ 0         ┆ 1         ┆ 0         ┆ 0        │\n",
       "│ 1         ┆           ┆           ┆           ┆   ┆           ┆           ┆           ┆          │\n",
       "│ 428404860 ┆ 1         ┆ 0         ┆ 0         ┆ … ┆ 1         ┆ 1         ┆ 0         ┆ 0        │\n",
       "│ 8         ┆           ┆           ┆           ┆   ┆           ┆           ┆           ┆          │\n",
       "│ 428716019 ┆ 1         ┆ 0         ┆ 0         ┆ … ┆ 0         ┆ 1         ┆ 0         ┆ 0        │\n",
       "│ 3         ┆           ┆           ┆           ┆   ┆           ┆           ┆           ┆          │\n",
       "│ 429070908 ┆ 1         ┆ 0         ┆ 0         ┆ … ┆ 0         ┆ 1         ┆ 0         ┆ 0        │\n",
       "│ 9         ┆           ┆           ┆           ┆   ┆           ┆           ┆           ┆          │\n",
       "└───────────┴───────────┴───────────┴───────────┴───┴───────────┴───────────┴───────────┴──────────┘"
      ]
     },
     "execution_count": 12,
     "metadata": {},
     "output_type": "execute_result"
    }
   ],
   "source": [
    "axl_l = train.select(['study_id'] + subarticular_cond_names_levels)\n",
    "axl_l = axl_l.melt(id_vars='study_id').with_columns(pl.col('value').replace(cap2lower))\n",
    "axl_l = axl_l.with_columns(pl.concat_str([\n",
    "    pl.col('variable'),\n",
    "    pl.col('value'),\n",
    "], separator='_').alias('cond_level_severity'))\n",
    "axl_l = axl_l.select(['study_id', 'cond_level_severity']).to_dummies('cond_level_severity').group_by('study_id').sum().sort('study_id')\n",
    "axl_l_cols_keys = axl_l.drop('study_id').columns\n",
    "axl_l_cols_vals = [col[20:] for col in axl_l_cols_keys]\n",
    "axl_l_cols = dict(zip(axl_l_cols_keys, axl_l_cols_vals))\n",
    "axl_l = axl_l.rename(axl_l_cols)\n",
    "axl_l = axl_l.select(axial_label_order)\n",
    "axl_l"
   ]
  },
  {
   "cell_type": "code",
   "execution_count": 13,
   "id": "01ce240c",
   "metadata": {
    "execution": {
     "iopub.execute_input": "2024-08-12T13:44:19.134371Z",
     "iopub.status.busy": "2024-08-12T13:44:19.133931Z",
     "iopub.status.idle": "2024-08-12T13:44:19.139878Z",
     "shell.execute_reply": "2024-08-12T13:44:19.138698Z"
    },
    "papermill": {
     "duration": 0.023135,
     "end_time": "2024-08-12T13:44:19.142483",
     "exception": false,
     "start_time": "2024-08-12T13:44:19.119348",
     "status": "completed"
    },
    "tags": []
   },
   "outputs": [],
   "source": [
    "axl_l.write_csv('subarticular_labels.csv')"
   ]
  },
  {
   "cell_type": "markdown",
   "id": "570a40ce",
   "metadata": {
    "papermill": {
     "duration": 0.013351,
     "end_time": "2024-08-12T13:44:19.169270",
     "exception": false,
     "start_time": "2024-08-12T13:44:19.155919",
     "status": "completed"
    },
    "tags": []
   },
   "source": [
    "# Create dataset"
   ]
  },
  {
   "cell_type": "code",
   "execution_count": 14,
   "id": "c4d4eca0",
   "metadata": {
    "execution": {
     "iopub.execute_input": "2024-08-12T13:44:19.198008Z",
     "iopub.status.busy": "2024-08-12T13:44:19.197629Z",
     "iopub.status.idle": "2024-08-12T13:44:19.234207Z",
     "shell.execute_reply": "2024-08-12T13:44:19.233058Z"
    },
    "papermill": {
     "duration": 0.05405,
     "end_time": "2024-08-12T13:44:19.236817",
     "exception": false,
     "start_time": "2024-08-12T13:44:19.182767",
     "status": "completed"
    },
    "tags": []
   },
   "outputs": [
    {
     "data": {
      "text/html": [
       "<div><style>\n",
       ".dataframe > thead > tr,\n",
       ".dataframe > tbody > tr {\n",
       "  text-align: right;\n",
       "  white-space: pre-wrap;\n",
       "}\n",
       "</style>\n",
       "<small>shape: (49_375, 7)</small><table border=\"1\" class=\"dataframe\"><thead><tr><th>study_id</th><th>variable</th><th>value</th><th>row_id</th><th>condition</th><th>level</th><th>labels</th></tr><tr><td>i64</td><td>str</td><td>str</td><td>str</td><td>str</td><td>str</td><td>u8</td></tr></thead><tbody><tr><td>4003253</td><td>&quot;spinal_canal_stenosis_l1_l2&quot;</td><td>&quot;normal_mild&quot;</td><td>&quot;4003253_spinal_canal_stenosis_…</td><td>&quot;spinal_canal_stenosis&quot;</td><td>&quot;l1_l2&quot;</td><td>6</td></tr><tr><td>4646740</td><td>&quot;spinal_canal_stenosis_l1_l2&quot;</td><td>&quot;normal_mild&quot;</td><td>&quot;4646740_spinal_canal_stenosis_…</td><td>&quot;spinal_canal_stenosis&quot;</td><td>&quot;l1_l2&quot;</td><td>6</td></tr><tr><td>7143189</td><td>&quot;spinal_canal_stenosis_l1_l2&quot;</td><td>&quot;normal_mild&quot;</td><td>&quot;7143189_spinal_canal_stenosis_…</td><td>&quot;spinal_canal_stenosis&quot;</td><td>&quot;l1_l2&quot;</td><td>6</td></tr><tr><td>8785691</td><td>&quot;spinal_canal_stenosis_l1_l2&quot;</td><td>&quot;normal_mild&quot;</td><td>&quot;8785691_spinal_canal_stenosis_…</td><td>&quot;spinal_canal_stenosis&quot;</td><td>&quot;l1_l2&quot;</td><td>6</td></tr><tr><td>10728036</td><td>&quot;spinal_canal_stenosis_l1_l2&quot;</td><td>&quot;normal_mild&quot;</td><td>&quot;10728036_spinal_canal_stenosis…</td><td>&quot;spinal_canal_stenosis&quot;</td><td>&quot;l1_l2&quot;</td><td>6</td></tr><tr><td>&hellip;</td><td>&hellip;</td><td>&hellip;</td><td>&hellip;</td><td>&hellip;</td><td>&hellip;</td><td>&hellip;</td></tr><tr><td>4282019580</td><td>&quot;right_subarticular_stenosis_l5…</td><td>&quot;moderate&quot;</td><td>&quot;4282019580_right_subarticular_…</td><td>&quot;right_subarticular_stenosis&quot;</td><td>&quot;l5_s1&quot;</td><td>13</td></tr><tr><td>4283570761</td><td>&quot;right_subarticular_stenosis_l5…</td><td>&quot;normal_mild&quot;</td><td>&quot;4283570761_right_subarticular_…</td><td>&quot;right_subarticular_stenosis&quot;</td><td>&quot;l5_s1&quot;</td><td>12</td></tr><tr><td>4284048608</td><td>&quot;right_subarticular_stenosis_l5…</td><td>&quot;normal_mild&quot;</td><td>&quot;4284048608_right_subarticular_…</td><td>&quot;right_subarticular_stenosis&quot;</td><td>&quot;l5_s1&quot;</td><td>12</td></tr><tr><td>4287160193</td><td>&quot;right_subarticular_stenosis_l5…</td><td>&quot;normal_mild&quot;</td><td>&quot;4287160193_right_subarticular_…</td><td>&quot;right_subarticular_stenosis&quot;</td><td>&quot;l5_s1&quot;</td><td>12</td></tr><tr><td>4290709089</td><td>&quot;right_subarticular_stenosis_l5…</td><td>&quot;normal_mild&quot;</td><td>&quot;4290709089_right_subarticular_…</td><td>&quot;right_subarticular_stenosis&quot;</td><td>&quot;l5_s1&quot;</td><td>12</td></tr></tbody></table></div>"
      ],
      "text/plain": [
       "shape: (49_375, 7)\n",
       "┌────────────┬──────────────────┬─────────────┬─────────────────┬─────────────────┬───────┬────────┐\n",
       "│ study_id   ┆ variable         ┆ value       ┆ row_id          ┆ condition       ┆ level ┆ labels │\n",
       "│ ---        ┆ ---              ┆ ---         ┆ ---             ┆ ---             ┆ ---   ┆ ---    │\n",
       "│ i64        ┆ str              ┆ str         ┆ str             ┆ str             ┆ str   ┆ u8     │\n",
       "╞════════════╪══════════════════╪═════════════╪═════════════════╪═════════════════╪═══════╪════════╡\n",
       "│ 4003253    ┆ spinal_canal_ste ┆ normal_mild ┆ 4003253_spinal_ ┆ spinal_canal_st ┆ l1_l2 ┆ 6      │\n",
       "│            ┆ nosis_l1_l2      ┆             ┆ canal_stenosis_ ┆ enosis          ┆       ┆        │\n",
       "│            ┆                  ┆             ┆ …               ┆                 ┆       ┆        │\n",
       "│ 4646740    ┆ spinal_canal_ste ┆ normal_mild ┆ 4646740_spinal_ ┆ spinal_canal_st ┆ l1_l2 ┆ 6      │\n",
       "│            ┆ nosis_l1_l2      ┆             ┆ canal_stenosis_ ┆ enosis          ┆       ┆        │\n",
       "│            ┆                  ┆             ┆ …               ┆                 ┆       ┆        │\n",
       "│ 7143189    ┆ spinal_canal_ste ┆ normal_mild ┆ 7143189_spinal_ ┆ spinal_canal_st ┆ l1_l2 ┆ 6      │\n",
       "│            ┆ nosis_l1_l2      ┆             ┆ canal_stenosis_ ┆ enosis          ┆       ┆        │\n",
       "│            ┆                  ┆             ┆ …               ┆                 ┆       ┆        │\n",
       "│ 8785691    ┆ spinal_canal_ste ┆ normal_mild ┆ 8785691_spinal_ ┆ spinal_canal_st ┆ l1_l2 ┆ 6      │\n",
       "│            ┆ nosis_l1_l2      ┆             ┆ canal_stenosis_ ┆ enosis          ┆       ┆        │\n",
       "│            ┆                  ┆             ┆ …               ┆                 ┆       ┆        │\n",
       "│ 10728036   ┆ spinal_canal_ste ┆ normal_mild ┆ 10728036_spinal ┆ spinal_canal_st ┆ l1_l2 ┆ 6      │\n",
       "│            ┆ nosis_l1_l2      ┆             ┆ _canal_stenosis ┆ enosis          ┆       ┆        │\n",
       "│            ┆                  ┆             ┆ …               ┆                 ┆       ┆        │\n",
       "│ …          ┆ …                ┆ …           ┆ …               ┆ …               ┆ …     ┆ …      │\n",
       "│ 4282019580 ┆ right_subarticul ┆ moderate    ┆ 4282019580_righ ┆ right_subarticu ┆ l5_s1 ┆ 13     │\n",
       "│            ┆ ar_stenosis_l5…  ┆             ┆ t_subarticular_ ┆ lar_stenosis    ┆       ┆        │\n",
       "│            ┆                  ┆             ┆ …               ┆                 ┆       ┆        │\n",
       "│ 4283570761 ┆ right_subarticul ┆ normal_mild ┆ 4283570761_righ ┆ right_subarticu ┆ l5_s1 ┆ 12     │\n",
       "│            ┆ ar_stenosis_l5…  ┆             ┆ t_subarticular_ ┆ lar_stenosis    ┆       ┆        │\n",
       "│            ┆                  ┆             ┆ …               ┆                 ┆       ┆        │\n",
       "│ 4284048608 ┆ right_subarticul ┆ normal_mild ┆ 4284048608_righ ┆ right_subarticu ┆ l5_s1 ┆ 12     │\n",
       "│            ┆ ar_stenosis_l5…  ┆             ┆ t_subarticular_ ┆ lar_stenosis    ┆       ┆        │\n",
       "│            ┆                  ┆             ┆ …               ┆                 ┆       ┆        │\n",
       "│ 4287160193 ┆ right_subarticul ┆ normal_mild ┆ 4287160193_righ ┆ right_subarticu ┆ l5_s1 ┆ 12     │\n",
       "│            ┆ ar_stenosis_l5…  ┆             ┆ t_subarticular_ ┆ lar_stenosis    ┆       ┆        │\n",
       "│            ┆                  ┆             ┆ …               ┆                 ┆       ┆        │\n",
       "│ 4290709089 ┆ right_subarticul ┆ normal_mild ┆ 4290709089_righ ┆ right_subarticu ┆ l5_s1 ┆ 12     │\n",
       "│            ┆ ar_stenosis_l5…  ┆             ┆ t_subarticular_ ┆ lar_stenosis    ┆       ┆        │\n",
       "│            ┆                  ┆             ┆ …               ┆                 ┆       ┆        │\n",
       "└────────────┴──────────────────┴─────────────┴─────────────────┴─────────────────┴───────┴────────┘"
      ]
     },
     "execution_count": 14,
     "metadata": {},
     "output_type": "execute_result"
    }
   ],
   "source": [
    "t1 = train.melt(id_vars='study_id').with_columns(pl.concat_str([pl.col('study_id'), pl.col('variable')], separator='_').alias('row_id'))\n",
    "t1 = t1.with_columns(pl.col('variable').str.head(-6).alias('condition'))\n",
    "t1 = t1.with_columns(pl.col('variable').str.slice(-5).alias('level'))\n",
    "t1 = t1.with_columns(pl.col('value').replace(cap2lower)).fill_null('normal_mild')\n",
    "\n",
    "t1 = t1.with_columns(pl.concat_str([\n",
    "    pl.col('condition'),\n",
    "    pl.col('value'),\n",
    "], separator='_').replace(label_order_dict).cast(pl.UInt8).alias('labels'))\n",
    "\n",
    "t1"
   ]
  },
  {
   "cell_type": "code",
   "execution_count": 15,
   "id": "6db1c76d",
   "metadata": {
    "execution": {
     "iopub.execute_input": "2024-08-12T13:44:19.265947Z",
     "iopub.status.busy": "2024-08-12T13:44:19.265541Z",
     "iopub.status.idle": "2024-08-12T13:44:19.309015Z",
     "shell.execute_reply": "2024-08-12T13:44:19.307871Z"
    },
    "papermill": {
     "duration": 0.061334,
     "end_time": "2024-08-12T13:44:19.311844",
     "exception": false,
     "start_time": "2024-08-12T13:44:19.250510",
     "status": "completed"
    },
    "tags": []
   },
   "outputs": [
    {
     "data": {
      "text/html": [
       "<div><style>\n",
       ".dataframe > thead > tr,\n",
       ".dataframe > tbody > tr {\n",
       "  text-align: right;\n",
       "  white-space: pre-wrap;\n",
       "}\n",
       "</style>\n",
       "<small>shape: (48_692, 10)</small><table border=\"1\" class=\"dataframe\"><thead><tr><th>study_id</th><th>series_id</th><th>instance_number</th><th>condition</th><th>level</th><th>x</th><th>y</th><th>name</th><th>row_id</th><th>matcher</th></tr><tr><td>i64</td><td>i64</td><td>i64</td><td>str</td><td>str</td><td>f64</td><td>f64</td><td>str</td><td>str</td><td>str</td></tr></thead><tbody><tr><td>4003253</td><td>702807833</td><td>8</td><td>&quot;spinal_canal_stenosis&quot;</td><td>&quot;l1_l2&quot;</td><td>322.831858</td><td>227.964602</td><td>&quot;4003253_702807833_0008&quot;</td><td>&quot;4003253_spinal_canal_stenosis_…</td><td>&quot;4003253_702807833_0008_l1_l2&quot;</td></tr><tr><td>4003253</td><td>702807833</td><td>8</td><td>&quot;spinal_canal_stenosis&quot;</td><td>&quot;l2_l3&quot;</td><td>320.571429</td><td>295.714286</td><td>&quot;4003253_702807833_0008&quot;</td><td>&quot;4003253_spinal_canal_stenosis_…</td><td>&quot;4003253_702807833_0008_l2_l3&quot;</td></tr><tr><td>4003253</td><td>702807833</td><td>8</td><td>&quot;spinal_canal_stenosis&quot;</td><td>&quot;l3_l4&quot;</td><td>323.030303</td><td>371.818182</td><td>&quot;4003253_702807833_0008&quot;</td><td>&quot;4003253_spinal_canal_stenosis_…</td><td>&quot;4003253_702807833_0008_l3_l4&quot;</td></tr><tr><td>4003253</td><td>702807833</td><td>8</td><td>&quot;spinal_canal_stenosis&quot;</td><td>&quot;l4_l5&quot;</td><td>335.292035</td><td>427.327434</td><td>&quot;4003253_702807833_0008&quot;</td><td>&quot;4003253_spinal_canal_stenosis_…</td><td>&quot;4003253_702807833_0008_l4_l5&quot;</td></tr><tr><td>4003253</td><td>702807833</td><td>8</td><td>&quot;spinal_canal_stenosis&quot;</td><td>&quot;l5_s1&quot;</td><td>353.415929</td><td>483.964602</td><td>&quot;4003253_702807833_0008&quot;</td><td>&quot;4003253_spinal_canal_stenosis_…</td><td>&quot;4003253_702807833_0008_l5_s1&quot;</td></tr><tr><td>&hellip;</td><td>&hellip;</td><td>&hellip;</td><td>&hellip;</td><td>&hellip;</td><td>&hellip;</td><td>&hellip;</td><td>&hellip;</td><td>&hellip;</td><td>&hellip;</td></tr><tr><td>4290709089</td><td>4237840455</td><td>11</td><td>&quot;left_neural_foraminal_narrowin…</td><td>&quot;l1_l2&quot;</td><td>219.46594</td><td>97.831063</td><td>&quot;4290709089_4237840455_0011&quot;</td><td>&quot;4290709089_left_neural_foramin…</td><td>&quot;4290709089_4237840455_0011_l1_…</td></tr><tr><td>4290709089</td><td>4237840455</td><td>12</td><td>&quot;left_neural_foraminal_narrowin…</td><td>&quot;l2_l3&quot;</td><td>205.340599</td><td>140.207084</td><td>&quot;4290709089_4237840455_0012&quot;</td><td>&quot;4290709089_left_neural_foramin…</td><td>&quot;4290709089_4237840455_0012_l2_…</td></tr><tr><td>4290709089</td><td>4237840455</td><td>12</td><td>&quot;left_neural_foraminal_narrowin…</td><td>&quot;l3_l4&quot;</td><td>202.724796</td><td>181.013624</td><td>&quot;4290709089_4237840455_0012&quot;</td><td>&quot;4290709089_left_neural_foramin…</td><td>&quot;4290709089_4237840455_0012_l3_…</td></tr><tr><td>4290709089</td><td>4237840455</td><td>12</td><td>&quot;left_neural_foraminal_narrowin…</td><td>&quot;l4_l5&quot;</td><td>202.933333</td><td>219.733333</td><td>&quot;4290709089_4237840455_0012&quot;</td><td>&quot;4290709089_left_neural_foramin…</td><td>&quot;4290709089_4237840455_0012_l4_…</td></tr><tr><td>4290709089</td><td>4237840455</td><td>12</td><td>&quot;left_neural_foraminal_narrowin…</td><td>&quot;l5_s1&quot;</td><td>211.813953</td><td>259.534884</td><td>&quot;4290709089_4237840455_0012&quot;</td><td>&quot;4290709089_left_neural_foramin…</td><td>&quot;4290709089_4237840455_0012_l5_…</td></tr></tbody></table></div>"
      ],
      "text/plain": [
       "shape: (48_692, 10)\n",
       "┌───────────┬───────────┬───────────┬───────────┬───┬───────────┬───────────┬───────────┬──────────┐\n",
       "│ study_id  ┆ series_id ┆ instance_ ┆ condition ┆ … ┆ y         ┆ name      ┆ row_id    ┆ matcher  │\n",
       "│ ---       ┆ ---       ┆ number    ┆ ---       ┆   ┆ ---       ┆ ---       ┆ ---       ┆ ---      │\n",
       "│ i64       ┆ i64       ┆ ---       ┆ str       ┆   ┆ f64       ┆ str       ┆ str       ┆ str      │\n",
       "│           ┆           ┆ i64       ┆           ┆   ┆           ┆           ┆           ┆          │\n",
       "╞═══════════╪═══════════╪═══════════╪═══════════╪═══╪═══════════╪═══════════╪═══════════╪══════════╡\n",
       "│ 4003253   ┆ 702807833 ┆ 8         ┆ spinal_ca ┆ … ┆ 227.96460 ┆ 4003253_7 ┆ 4003253_s ┆ 4003253_ │\n",
       "│           ┆           ┆           ┆ nal_steno ┆   ┆ 2         ┆ 02807833_ ┆ pinal_can ┆ 70280783 │\n",
       "│           ┆           ┆           ┆ sis       ┆   ┆           ┆ 0008      ┆ al_stenos ┆ 3_0008_l │\n",
       "│           ┆           ┆           ┆           ┆   ┆           ┆           ┆ is_…      ┆ 1_l2     │\n",
       "│ 4003253   ┆ 702807833 ┆ 8         ┆ spinal_ca ┆ … ┆ 295.71428 ┆ 4003253_7 ┆ 4003253_s ┆ 4003253_ │\n",
       "│           ┆           ┆           ┆ nal_steno ┆   ┆ 6         ┆ 02807833_ ┆ pinal_can ┆ 70280783 │\n",
       "│           ┆           ┆           ┆ sis       ┆   ┆           ┆ 0008      ┆ al_stenos ┆ 3_0008_l │\n",
       "│           ┆           ┆           ┆           ┆   ┆           ┆           ┆ is_…      ┆ 2_l3     │\n",
       "│ 4003253   ┆ 702807833 ┆ 8         ┆ spinal_ca ┆ … ┆ 371.81818 ┆ 4003253_7 ┆ 4003253_s ┆ 4003253_ │\n",
       "│           ┆           ┆           ┆ nal_steno ┆   ┆ 2         ┆ 02807833_ ┆ pinal_can ┆ 70280783 │\n",
       "│           ┆           ┆           ┆ sis       ┆   ┆           ┆ 0008      ┆ al_stenos ┆ 3_0008_l │\n",
       "│           ┆           ┆           ┆           ┆   ┆           ┆           ┆ is_…      ┆ 3_l4     │\n",
       "│ 4003253   ┆ 702807833 ┆ 8         ┆ spinal_ca ┆ … ┆ 427.32743 ┆ 4003253_7 ┆ 4003253_s ┆ 4003253_ │\n",
       "│           ┆           ┆           ┆ nal_steno ┆   ┆ 4         ┆ 02807833_ ┆ pinal_can ┆ 70280783 │\n",
       "│           ┆           ┆           ┆ sis       ┆   ┆           ┆ 0008      ┆ al_stenos ┆ 3_0008_l │\n",
       "│           ┆           ┆           ┆           ┆   ┆           ┆           ┆ is_…      ┆ 4_l5     │\n",
       "│ 4003253   ┆ 702807833 ┆ 8         ┆ spinal_ca ┆ … ┆ 483.96460 ┆ 4003253_7 ┆ 4003253_s ┆ 4003253_ │\n",
       "│           ┆           ┆           ┆ nal_steno ┆   ┆ 2         ┆ 02807833_ ┆ pinal_can ┆ 70280783 │\n",
       "│           ┆           ┆           ┆ sis       ┆   ┆           ┆ 0008      ┆ al_stenos ┆ 3_0008_l │\n",
       "│           ┆           ┆           ┆           ┆   ┆           ┆           ┆ is_…      ┆ 5_s1     │\n",
       "│ …         ┆ …         ┆ …         ┆ …         ┆ … ┆ …         ┆ …         ┆ …         ┆ …        │\n",
       "│ 429070908 ┆ 423784045 ┆ 11        ┆ left_neur ┆ … ┆ 97.831063 ┆ 429070908 ┆ 429070908 ┆ 42907090 │\n",
       "│ 9         ┆ 5         ┆           ┆ al_forami ┆   ┆           ┆ 9_4237840 ┆ 9_left_ne ┆ 89_42378 │\n",
       "│           ┆           ┆           ┆ nal_narro ┆   ┆           ┆ 455_0011  ┆ ural_fora ┆ 40455_00 │\n",
       "│           ┆           ┆           ┆ win…      ┆   ┆           ┆           ┆ min…      ┆ 11_l1_…  │\n",
       "│ 429070908 ┆ 423784045 ┆ 12        ┆ left_neur ┆ … ┆ 140.20708 ┆ 429070908 ┆ 429070908 ┆ 42907090 │\n",
       "│ 9         ┆ 5         ┆           ┆ al_forami ┆   ┆ 4         ┆ 9_4237840 ┆ 9_left_ne ┆ 89_42378 │\n",
       "│           ┆           ┆           ┆ nal_narro ┆   ┆           ┆ 455_0012  ┆ ural_fora ┆ 40455_00 │\n",
       "│           ┆           ┆           ┆ win…      ┆   ┆           ┆           ┆ min…      ┆ 12_l2_…  │\n",
       "│ 429070908 ┆ 423784045 ┆ 12        ┆ left_neur ┆ … ┆ 181.01362 ┆ 429070908 ┆ 429070908 ┆ 42907090 │\n",
       "│ 9         ┆ 5         ┆           ┆ al_forami ┆   ┆ 4         ┆ 9_4237840 ┆ 9_left_ne ┆ 89_42378 │\n",
       "│           ┆           ┆           ┆ nal_narro ┆   ┆           ┆ 455_0012  ┆ ural_fora ┆ 40455_00 │\n",
       "│           ┆           ┆           ┆ win…      ┆   ┆           ┆           ┆ min…      ┆ 12_l3_…  │\n",
       "│ 429070908 ┆ 423784045 ┆ 12        ┆ left_neur ┆ … ┆ 219.73333 ┆ 429070908 ┆ 429070908 ┆ 42907090 │\n",
       "│ 9         ┆ 5         ┆           ┆ al_forami ┆   ┆ 3         ┆ 9_4237840 ┆ 9_left_ne ┆ 89_42378 │\n",
       "│           ┆           ┆           ┆ nal_narro ┆   ┆           ┆ 455_0012  ┆ ural_fora ┆ 40455_00 │\n",
       "│           ┆           ┆           ┆ win…      ┆   ┆           ┆           ┆ min…      ┆ 12_l4_…  │\n",
       "│ 429070908 ┆ 423784045 ┆ 12        ┆ left_neur ┆ … ┆ 259.53488 ┆ 429070908 ┆ 429070908 ┆ 42907090 │\n",
       "│ 9         ┆ 5         ┆           ┆ al_forami ┆   ┆ 4         ┆ 9_4237840 ┆ 9_left_ne ┆ 89_42378 │\n",
       "│           ┆           ┆           ┆ nal_narro ┆   ┆           ┆ 455_0012  ┆ ural_fora ┆ 40455_00 │\n",
       "│           ┆           ┆           ┆ win…      ┆   ┆           ┆           ┆ min…      ┆ 12_l5_…  │\n",
       "└───────────┴───────────┴───────────┴───────────┴───┴───────────┴───────────┴───────────┴──────────┘"
      ]
     },
     "execution_count": 15,
     "metadata": {},
     "output_type": "execute_result"
    }
   ],
   "source": [
    "t2 = train_cor.with_columns(pl.concat_str([\n",
    "    pl.col('study_id').cast(pl.String),\n",
    "    pl.col('series_id').cast(pl.String),\n",
    "    pl.col('instance_number').cast(pl.String).str.zfill(4)\n",
    "], separator='_').alias('name'))\n",
    "\n",
    "t2 = t2.with_columns(pl.col('condition').str.to_lowercase().str.replace_all(' ', '_'))\n",
    "t2 = t2.with_columns(pl.col('level').str.to_lowercase().str.replace_all('/', '_'))\n",
    "t2 = t2.with_columns(pl.concat_str([\n",
    "    pl.col('study_id'),\n",
    "    pl.col('condition'),\n",
    "    pl.col('level')\n",
    "], separator='_').alias('row_id'))\n",
    "\n",
    "# t2 = t2.filter(pl.col('series_id').is_in(sagittal_series['series_id']))\n",
    "t2 = t2.with_columns(pl.concat_str([\n",
    "    pl.col('name'),\n",
    "    pl.col('level'),\n",
    "], separator='_').alias('matcher'))\n",
    "t2"
   ]
  },
  {
   "cell_type": "code",
   "execution_count": 16,
   "id": "7add22df",
   "metadata": {
    "execution": {
     "iopub.execute_input": "2024-08-12T13:44:19.341937Z",
     "iopub.status.busy": "2024-08-12T13:44:19.341533Z",
     "iopub.status.idle": "2024-08-12T13:44:19.436978Z",
     "shell.execute_reply": "2024-08-12T13:44:19.435791Z"
    },
    "papermill": {
     "duration": 0.113262,
     "end_time": "2024-08-12T13:44:19.439578",
     "exception": false,
     "start_time": "2024-08-12T13:44:19.326316",
     "status": "completed"
    },
    "tags": []
   },
   "outputs": [
    {
     "data": {
      "text/html": [
       "<div><style>\n",
       ".dataframe > thead > tr,\n",
       ".dataframe > tbody > tr {\n",
       "  text-align: right;\n",
       "  white-space: pre-wrap;\n",
       "}\n",
       "</style>\n",
       "<small>shape: (93_145, 10)</small><table border=\"1\" class=\"dataframe\"><thead><tr><th>name</th><th>level</th><th>origin_h</th><th>origin_w</th><th>x</th><th>y</th><th>study_id</th><th>series_id</th><th>instance_number</th><th>matcher</th></tr><tr><td>str</td><td>str</td><td>i64</td><td>i64</td><td>f64</td><td>f64</td><td>i64</td><td>i64</td><td>i64</td><td>str</td></tr></thead><tbody><tr><td>&quot;100206310_1792451510_0005&quot;</td><td>&quot;l4_l5&quot;</td><td>448</td><td>462</td><td>225.225</td><td>293.3</td><td>100206310</td><td>1792451510</td><td>5</td><td>&quot;100206310_1792451510_0005_l4_l…</td></tr><tr><td>&quot;100206310_1792451510_0007&quot;</td><td>&quot;l4_l5&quot;</td><td>448</td><td>462</td><td>215.84062</td><td>311.5</td><td>100206310</td><td>1792451510</td><td>7</td><td>&quot;100206310_1792451510_0007_l4_l…</td></tr><tr><td>&quot;100206310_1792451510_0007&quot;</td><td>&quot;l5_s1&quot;</td><td>448</td><td>462</td><td>235.33125</td><td>353.5</td><td>100206310</td><td>1792451510</td><td>7</td><td>&quot;100206310_1792451510_0007_l5_s…</td></tr><tr><td>&quot;100206310_1792451510_0008&quot;</td><td>&quot;l4_l5&quot;</td><td>448</td><td>462</td><td>227.39062</td><td>308.7</td><td>100206310</td><td>1792451510</td><td>8</td><td>&quot;100206310_1792451510_0008_l4_l…</td></tr><tr><td>&quot;100206310_1792451510_0008&quot;</td><td>&quot;l5_s1&quot;</td><td>448</td><td>462</td><td>252.65625</td><td>350.7</td><td>100206310</td><td>1792451510</td><td>8</td><td>&quot;100206310_1792451510_0008_l5_s…</td></tr><tr><td>&hellip;</td><td>&hellip;</td><td>&hellip;</td><td>&hellip;</td><td>&hellip;</td><td>&hellip;</td><td>&hellip;</td><td>&hellip;</td><td>&hellip;</td><td>&hellip;</td></tr><tr><td>&quot;998688940_4135322219_0014&quot;</td><td>&quot;l3_l4&quot;</td><td>512</td><td>512</td><td>272.0</td><td>248.8</td><td>998688940</td><td>4135322219</td><td>14</td><td>&quot;998688940_4135322219_0014_l3_l…</td></tr><tr><td>&quot;998688940_4135322219_0014&quot;</td><td>&quot;l4_l5&quot;</td><td>512</td><td>512</td><td>265.6</td><td>292.0</td><td>998688940</td><td>4135322219</td><td>14</td><td>&quot;998688940_4135322219_0014_l4_l…</td></tr><tr><td>&quot;998688940_4135322219_0014&quot;</td><td>&quot;l5_s1&quot;</td><td>512</td><td>512</td><td>260.0</td><td>334.4</td><td>998688940</td><td>4135322219</td><td>14</td><td>&quot;998688940_4135322219_0014_l5_s…</td></tr><tr><td>&quot;998688940_4135322219_0015&quot;</td><td>&quot;l4_l5&quot;</td><td>512</td><td>512</td><td>219.2</td><td>308.0</td><td>998688940</td><td>4135322219</td><td>15</td><td>&quot;998688940_4135322219_0015_l4_l…</td></tr><tr><td>&quot;998688940_4135322219_0015&quot;</td><td>&quot;l5_s1&quot;</td><td>512</td><td>512</td><td>260.0</td><td>335.2</td><td>998688940</td><td>4135322219</td><td>15</td><td>&quot;998688940_4135322219_0015_l5_s…</td></tr></tbody></table></div>"
      ],
      "text/plain": [
       "shape: (93_145, 10)\n",
       "┌─────────────┬───────┬──────────┬──────────┬───┬───────────┬────────────┬────────────┬────────────┐\n",
       "│ name        ┆ level ┆ origin_h ┆ origin_w ┆ … ┆ study_id  ┆ series_id  ┆ instance_n ┆ matcher    │\n",
       "│ ---         ┆ ---   ┆ ---      ┆ ---      ┆   ┆ ---       ┆ ---        ┆ umber      ┆ ---        │\n",
       "│ str         ┆ str   ┆ i64      ┆ i64      ┆   ┆ i64       ┆ i64        ┆ ---        ┆ str        │\n",
       "│             ┆       ┆          ┆          ┆   ┆           ┆            ┆ i64        ┆            │\n",
       "╞═════════════╪═══════╪══════════╪══════════╪═══╪═══════════╪════════════╪════════════╪════════════╡\n",
       "│ 100206310_1 ┆ l4_l5 ┆ 448      ┆ 462      ┆ … ┆ 100206310 ┆ 1792451510 ┆ 5          ┆ 100206310_ │\n",
       "│ 792451510_0 ┆       ┆          ┆          ┆   ┆           ┆            ┆            ┆ 1792451510 │\n",
       "│ 005         ┆       ┆          ┆          ┆   ┆           ┆            ┆            ┆ _0005_l4_l │\n",
       "│             ┆       ┆          ┆          ┆   ┆           ┆            ┆            ┆ …          │\n",
       "│ 100206310_1 ┆ l4_l5 ┆ 448      ┆ 462      ┆ … ┆ 100206310 ┆ 1792451510 ┆ 7          ┆ 100206310_ │\n",
       "│ 792451510_0 ┆       ┆          ┆          ┆   ┆           ┆            ┆            ┆ 1792451510 │\n",
       "│ 007         ┆       ┆          ┆          ┆   ┆           ┆            ┆            ┆ _0007_l4_l │\n",
       "│             ┆       ┆          ┆          ┆   ┆           ┆            ┆            ┆ …          │\n",
       "│ 100206310_1 ┆ l5_s1 ┆ 448      ┆ 462      ┆ … ┆ 100206310 ┆ 1792451510 ┆ 7          ┆ 100206310_ │\n",
       "│ 792451510_0 ┆       ┆          ┆          ┆   ┆           ┆            ┆            ┆ 1792451510 │\n",
       "│ 007         ┆       ┆          ┆          ┆   ┆           ┆            ┆            ┆ _0007_l5_s │\n",
       "│             ┆       ┆          ┆          ┆   ┆           ┆            ┆            ┆ …          │\n",
       "│ 100206310_1 ┆ l4_l5 ┆ 448      ┆ 462      ┆ … ┆ 100206310 ┆ 1792451510 ┆ 8          ┆ 100206310_ │\n",
       "│ 792451510_0 ┆       ┆          ┆          ┆   ┆           ┆            ┆            ┆ 1792451510 │\n",
       "│ 008         ┆       ┆          ┆          ┆   ┆           ┆            ┆            ┆ _0008_l4_l │\n",
       "│             ┆       ┆          ┆          ┆   ┆           ┆            ┆            ┆ …          │\n",
       "│ 100206310_1 ┆ l5_s1 ┆ 448      ┆ 462      ┆ … ┆ 100206310 ┆ 1792451510 ┆ 8          ┆ 100206310_ │\n",
       "│ 792451510_0 ┆       ┆          ┆          ┆   ┆           ┆            ┆            ┆ 1792451510 │\n",
       "│ 008         ┆       ┆          ┆          ┆   ┆           ┆            ┆            ┆ _0008_l5_s │\n",
       "│             ┆       ┆          ┆          ┆   ┆           ┆            ┆            ┆ …          │\n",
       "│ …           ┆ …     ┆ …        ┆ …        ┆ … ┆ …         ┆ …          ┆ …          ┆ …          │\n",
       "│ 998688940_4 ┆ l3_l4 ┆ 512      ┆ 512      ┆ … ┆ 998688940 ┆ 4135322219 ┆ 14         ┆ 998688940_ │\n",
       "│ 135322219_0 ┆       ┆          ┆          ┆   ┆           ┆            ┆            ┆ 4135322219 │\n",
       "│ 014         ┆       ┆          ┆          ┆   ┆           ┆            ┆            ┆ _0014_l3_l │\n",
       "│             ┆       ┆          ┆          ┆   ┆           ┆            ┆            ┆ …          │\n",
       "│ 998688940_4 ┆ l4_l5 ┆ 512      ┆ 512      ┆ … ┆ 998688940 ┆ 4135322219 ┆ 14         ┆ 998688940_ │\n",
       "│ 135322219_0 ┆       ┆          ┆          ┆   ┆           ┆            ┆            ┆ 4135322219 │\n",
       "│ 014         ┆       ┆          ┆          ┆   ┆           ┆            ┆            ┆ _0014_l4_l │\n",
       "│             ┆       ┆          ┆          ┆   ┆           ┆            ┆            ┆ …          │\n",
       "│ 998688940_4 ┆ l5_s1 ┆ 512      ┆ 512      ┆ … ┆ 998688940 ┆ 4135322219 ┆ 14         ┆ 998688940_ │\n",
       "│ 135322219_0 ┆       ┆          ┆          ┆   ┆           ┆            ┆            ┆ 4135322219 │\n",
       "│ 014         ┆       ┆          ┆          ┆   ┆           ┆            ┆            ┆ _0014_l5_s │\n",
       "│             ┆       ┆          ┆          ┆   ┆           ┆            ┆            ┆ …          │\n",
       "│ 998688940_4 ┆ l4_l5 ┆ 512      ┆ 512      ┆ … ┆ 998688940 ┆ 4135322219 ┆ 15         ┆ 998688940_ │\n",
       "│ 135322219_0 ┆       ┆          ┆          ┆   ┆           ┆            ┆            ┆ 4135322219 │\n",
       "│ 015         ┆       ┆          ┆          ┆   ┆           ┆            ┆            ┆ _0015_l4_l │\n",
       "│             ┆       ┆          ┆          ┆   ┆           ┆            ┆            ┆ …          │\n",
       "│ 998688940_4 ┆ l5_s1 ┆ 512      ┆ 512      ┆ … ┆ 998688940 ┆ 4135322219 ┆ 15         ┆ 998688940_ │\n",
       "│ 135322219_0 ┆       ┆          ┆          ┆   ┆           ┆            ┆            ┆ 4135322219 │\n",
       "│ 015         ┆       ┆          ┆          ┆   ┆           ┆            ┆            ┆ _0015_l5_s │\n",
       "│             ┆       ┆          ┆          ┆   ┆           ┆            ┆            ┆ …          │\n",
       "└─────────────┴───────┴──────────┴──────────┴───┴───────────┴────────────┴────────────┴────────────┘"
      ]
     },
     "execution_count": 16,
     "metadata": {},
     "output_type": "execute_result"
    }
   ],
   "source": [
    "# coordinates predicted from segmentation model\n",
    "# replace later with coords model\n",
    "new_coor = pl.read_csv('/kaggle/input/rsna24-lsdc-infer-segment-coor-sagittal/coordinates.csv')\n",
    "\n",
    "s_coor = (\n",
    "    new_coor\n",
    "    .with_columns(pl.col('name').str.split(by='_').alias('split'))\n",
    "    .with_columns(pl.col('split').list.to_struct()).unnest('split')\n",
    "    .rename({\n",
    "        'field_0': 'study_id',\n",
    "        'field_1': 'series_id',\n",
    "        'field_2': 'instance_number',\n",
    "    })\n",
    "    .cast({\n",
    "        'study_id': pl.Int64,\n",
    "        'series_id': pl.Int64,\n",
    "        'instance_number': pl.Int64,\n",
    "    })\n",
    "    .with_columns(pl.concat_str([\n",
    "        pl.col('name'),\n",
    "        pl.col('level'),\n",
    "    ], separator='_').alias('matcher'))\n",
    ")\n",
    "s_coor"
   ]
  },
  {
   "cell_type": "code",
   "execution_count": 17,
   "id": "73c05676",
   "metadata": {
    "execution": {
     "iopub.execute_input": "2024-08-12T13:44:19.470229Z",
     "iopub.status.busy": "2024-08-12T13:44:19.469783Z",
     "iopub.status.idle": "2024-08-12T13:44:19.482266Z",
     "shell.execute_reply": "2024-08-12T13:44:19.481121Z"
    },
    "papermill": {
     "duration": 0.030827,
     "end_time": "2024-08-12T13:44:19.484932",
     "exception": false,
     "start_time": "2024-08-12T13:44:19.454105",
     "status": "completed"
    },
    "tags": []
   },
   "outputs": [
    {
     "data": {
      "text/html": [
       "<div><style>\n",
       ".dataframe > thead > tr,\n",
       ".dataframe > tbody > tr {\n",
       "  text-align: right;\n",
       "  white-space: pre-wrap;\n",
       "}\n",
       "</style>\n",
       "<small>shape: (13, 10)</small><table border=\"1\" class=\"dataframe\"><thead><tr><th>study_id</th><th>series_id</th><th>instance_number</th><th>condition</th><th>level</th><th>x</th><th>y</th><th>name</th><th>row_id</th><th>matcher</th></tr><tr><td>i64</td><td>i64</td><td>i64</td><td>str</td><td>str</td><td>f64</td><td>f64</td><td>str</td><td>str</td><td>str</td></tr></thead><tbody><tr><td>38281420</td><td>880361156</td><td>9</td><td>&quot;spinal_canal_stenosis&quot;</td><td>&quot;l5_s1&quot;</td><td>5.0</td><td>5.0</td><td>&quot;38281420_880361156_0009&quot;</td><td>&quot;38281420_spinal_canal_stenosis…</td><td>&quot;38281420_880361156_0009_l5_s1&quot;</td></tr><tr><td>286903519</td><td>1921917205</td><td>13</td><td>&quot;spinal_canal_stenosis&quot;</td><td>&quot;l5_s1&quot;</td><td>5.000007</td><td>5.000007</td><td>&quot;286903519_1921917205_0013&quot;</td><td>&quot;286903519_spinal_canal_stenosi…</td><td>&quot;286903519_1921917205_0013_l5_s…</td></tr><tr><td>665627263</td><td>2231471633</td><td>9</td><td>&quot;spinal_canal_stenosis&quot;</td><td>&quot;l1_l2&quot;</td><td>5.0</td><td>5.0</td><td>&quot;665627263_2231471633_0009&quot;</td><td>&quot;665627263_spinal_canal_stenosi…</td><td>&quot;665627263_2231471633_0009_l1_l…</td></tr><tr><td>1438760543</td><td>737753815</td><td>9</td><td>&quot;spinal_canal_stenosis&quot;</td><td>&quot;l1_l2&quot;</td><td>5.000042</td><td>4.999993</td><td>&quot;1438760543_737753815_0009&quot;</td><td>&quot;1438760543_spinal_canal_stenos…</td><td>&quot;1438760543_737753815_0009_l1_l…</td></tr><tr><td>1510451897</td><td>1488857550</td><td>9</td><td>&quot;spinal_canal_stenosis&quot;</td><td>&quot;l4_l5&quot;</td><td>5.0</td><td>4.999982</td><td>&quot;1510451897_1488857550_0009&quot;</td><td>&quot;1510451897_spinal_canal_stenos…</td><td>&quot;1510451897_1488857550_0009_l4_…</td></tr><tr><td>&hellip;</td><td>&hellip;</td><td>&hellip;</td><td>&hellip;</td><td>&hellip;</td><td>&hellip;</td><td>&hellip;</td><td>&hellip;</td><td>&hellip;</td><td>&hellip;</td></tr><tr><td>2151467507</td><td>3086719329</td><td>8</td><td>&quot;spinal_canal_stenosis&quot;</td><td>&quot;l3_l4&quot;</td><td>4.058824</td><td>5.0</td><td>&quot;2151467507_3086719329_0008&quot;</td><td>&quot;2151467507_spinal_canal_stenos…</td><td>&quot;2151467507_3086719329_0008_l3_…</td></tr><tr><td>2151509334</td><td>3072714332</td><td>9</td><td>&quot;spinal_canal_stenosis&quot;</td><td>&quot;l4_l5&quot;</td><td>5.978967</td><td>4.021033</td><td>&quot;2151509334_3072714332_0009&quot;</td><td>&quot;2151509334_spinal_canal_stenos…</td><td>&quot;2151509334_3072714332_0009_l4_…</td></tr><tr><td>2316015842</td><td>1485193299</td><td>13</td><td>&quot;spinal_canal_stenosis&quot;</td><td>&quot;l1_l2&quot;</td><td>5.000029</td><td>5.000007</td><td>&quot;2316015842_1485193299_0013&quot;</td><td>&quot;2316015842_spinal_canal_stenos…</td><td>&quot;2316015842_1485193299_0013_l1_…</td></tr><tr><td>2444340715</td><td>3521409198</td><td>10</td><td>&quot;spinal_canal_stenosis&quot;</td><td>&quot;l5_s1&quot;</td><td>5.000029</td><td>4.999986</td><td>&quot;2444340715_3521409198_0010&quot;</td><td>&quot;2444340715_spinal_canal_stenos…</td><td>&quot;2444340715_3521409198_0010_l5_…</td></tr><tr><td>2905025904</td><td>816381378</td><td>11</td><td>&quot;spinal_canal_stenosis&quot;</td><td>&quot;l1_l2&quot;</td><td>4.999978</td><td>4.999999</td><td>&quot;2905025904_816381378_0011&quot;</td><td>&quot;2905025904_spinal_canal_stenos…</td><td>&quot;2905025904_816381378_0011_l1_l…</td></tr></tbody></table></div>"
      ],
      "text/plain": [
       "shape: (13, 10)\n",
       "┌───────────┬───────────┬───────────┬───────────┬───┬──────────┬───────────┬───────────┬───────────┐\n",
       "│ study_id  ┆ series_id ┆ instance_ ┆ condition ┆ … ┆ y        ┆ name      ┆ row_id    ┆ matcher   │\n",
       "│ ---       ┆ ---       ┆ number    ┆ ---       ┆   ┆ ---      ┆ ---       ┆ ---       ┆ ---       │\n",
       "│ i64       ┆ i64       ┆ ---       ┆ str       ┆   ┆ f64      ┆ str       ┆ str       ┆ str       │\n",
       "│           ┆           ┆ i64       ┆           ┆   ┆          ┆           ┆           ┆           │\n",
       "╞═══════════╪═══════════╪═══════════╪═══════════╪═══╪══════════╪═══════════╪═══════════╪═══════════╡\n",
       "│ 38281420  ┆ 880361156 ┆ 9         ┆ spinal_ca ┆ … ┆ 5.0      ┆ 38281420_ ┆ 38281420_ ┆ 38281420_ │\n",
       "│           ┆           ┆           ┆ nal_steno ┆   ┆          ┆ 880361156 ┆ spinal_ca ┆ 880361156 │\n",
       "│           ┆           ┆           ┆ sis       ┆   ┆          ┆ _0009     ┆ nal_steno ┆ _0009_l5_ │\n",
       "│           ┆           ┆           ┆           ┆   ┆          ┆           ┆ sis…      ┆ s1        │\n",
       "│ 286903519 ┆ 192191720 ┆ 13        ┆ spinal_ca ┆ … ┆ 5.000007 ┆ 286903519 ┆ 286903519 ┆ 286903519 │\n",
       "│           ┆ 5         ┆           ┆ nal_steno ┆   ┆          ┆ _19219172 ┆ _spinal_c ┆ _19219172 │\n",
       "│           ┆           ┆           ┆ sis       ┆   ┆          ┆ 05_0013   ┆ anal_sten ┆ 05_0013_l │\n",
       "│           ┆           ┆           ┆           ┆   ┆          ┆           ┆ osi…      ┆ 5_s…      │\n",
       "│ 665627263 ┆ 223147163 ┆ 9         ┆ spinal_ca ┆ … ┆ 5.0      ┆ 665627263 ┆ 665627263 ┆ 665627263 │\n",
       "│           ┆ 3         ┆           ┆ nal_steno ┆   ┆          ┆ _22314716 ┆ _spinal_c ┆ _22314716 │\n",
       "│           ┆           ┆           ┆ sis       ┆   ┆          ┆ 33_0009   ┆ anal_sten ┆ 33_0009_l │\n",
       "│           ┆           ┆           ┆           ┆   ┆          ┆           ┆ osi…      ┆ 1_l…      │\n",
       "│ 143876054 ┆ 737753815 ┆ 9         ┆ spinal_ca ┆ … ┆ 4.999993 ┆ 143876054 ┆ 143876054 ┆ 143876054 │\n",
       "│ 3         ┆           ┆           ┆ nal_steno ┆   ┆          ┆ 3_7377538 ┆ 3_spinal_ ┆ 3_7377538 │\n",
       "│           ┆           ┆           ┆ sis       ┆   ┆          ┆ 15_0009   ┆ canal_ste ┆ 15_0009_l │\n",
       "│           ┆           ┆           ┆           ┆   ┆          ┆           ┆ nos…      ┆ 1_l…      │\n",
       "│ 151045189 ┆ 148885755 ┆ 9         ┆ spinal_ca ┆ … ┆ 4.999982 ┆ 151045189 ┆ 151045189 ┆ 151045189 │\n",
       "│ 7         ┆ 0         ┆           ┆ nal_steno ┆   ┆          ┆ 7_1488857 ┆ 7_spinal_ ┆ 7_1488857 │\n",
       "│           ┆           ┆           ┆ sis       ┆   ┆          ┆ 550_0009  ┆ canal_ste ┆ 550_0009_ │\n",
       "│           ┆           ┆           ┆           ┆   ┆          ┆           ┆ nos…      ┆ l4_…      │\n",
       "│ …         ┆ …         ┆ …         ┆ …         ┆ … ┆ …        ┆ …         ┆ …         ┆ …         │\n",
       "│ 215146750 ┆ 308671932 ┆ 8         ┆ spinal_ca ┆ … ┆ 5.0      ┆ 215146750 ┆ 215146750 ┆ 215146750 │\n",
       "│ 7         ┆ 9         ┆           ┆ nal_steno ┆   ┆          ┆ 7_3086719 ┆ 7_spinal_ ┆ 7_3086719 │\n",
       "│           ┆           ┆           ┆ sis       ┆   ┆          ┆ 329_0008  ┆ canal_ste ┆ 329_0008_ │\n",
       "│           ┆           ┆           ┆           ┆   ┆          ┆           ┆ nos…      ┆ l3_…      │\n",
       "│ 215150933 ┆ 307271433 ┆ 9         ┆ spinal_ca ┆ … ┆ 4.021033 ┆ 215150933 ┆ 215150933 ┆ 215150933 │\n",
       "│ 4         ┆ 2         ┆           ┆ nal_steno ┆   ┆          ┆ 4_3072714 ┆ 4_spinal_ ┆ 4_3072714 │\n",
       "│           ┆           ┆           ┆ sis       ┆   ┆          ┆ 332_0009  ┆ canal_ste ┆ 332_0009_ │\n",
       "│           ┆           ┆           ┆           ┆   ┆          ┆           ┆ nos…      ┆ l4_…      │\n",
       "│ 231601584 ┆ 148519329 ┆ 13        ┆ spinal_ca ┆ … ┆ 5.000007 ┆ 231601584 ┆ 231601584 ┆ 231601584 │\n",
       "│ 2         ┆ 9         ┆           ┆ nal_steno ┆   ┆          ┆ 2_1485193 ┆ 2_spinal_ ┆ 2_1485193 │\n",
       "│           ┆           ┆           ┆ sis       ┆   ┆          ┆ 299_0013  ┆ canal_ste ┆ 299_0013_ │\n",
       "│           ┆           ┆           ┆           ┆   ┆          ┆           ┆ nos…      ┆ l1_…      │\n",
       "│ 244434071 ┆ 352140919 ┆ 10        ┆ spinal_ca ┆ … ┆ 4.999986 ┆ 244434071 ┆ 244434071 ┆ 244434071 │\n",
       "│ 5         ┆ 8         ┆           ┆ nal_steno ┆   ┆          ┆ 5_3521409 ┆ 5_spinal_ ┆ 5_3521409 │\n",
       "│           ┆           ┆           ┆ sis       ┆   ┆          ┆ 198_0010  ┆ canal_ste ┆ 198_0010_ │\n",
       "│           ┆           ┆           ┆           ┆   ┆          ┆           ┆ nos…      ┆ l5_…      │\n",
       "│ 290502590 ┆ 816381378 ┆ 11        ┆ spinal_ca ┆ … ┆ 4.999999 ┆ 290502590 ┆ 290502590 ┆ 290502590 │\n",
       "│ 4         ┆           ┆           ┆ nal_steno ┆   ┆          ┆ 4_8163813 ┆ 4_spinal_ ┆ 4_8163813 │\n",
       "│           ┆           ┆           ┆ sis       ┆   ┆          ┆ 78_0011   ┆ canal_ste ┆ 78_0011_l │\n",
       "│           ┆           ┆           ┆           ┆   ┆          ┆           ┆ nos…      ┆ 1_l…      │\n",
       "└───────────┴───────────┴───────────┴───────────┴───┴──────────┴───────────┴───────────┴───────────┘"
      ]
     },
     "execution_count": 17,
     "metadata": {},
     "output_type": "execute_result"
    }
   ],
   "source": [
    "# filtered some coordinates that were less than 10\n",
    "incorr = t2.filter(pl.col('x') <= 10)\n",
    "incorr"
   ]
  },
  {
   "cell_type": "code",
   "execution_count": 18,
   "id": "6c9f6658",
   "metadata": {
    "execution": {
     "iopub.execute_input": "2024-08-12T13:44:19.516755Z",
     "iopub.status.busy": "2024-08-12T13:44:19.516336Z",
     "iopub.status.idle": "2024-08-12T13:44:19.540446Z",
     "shell.execute_reply": "2024-08-12T13:44:19.539212Z"
    },
    "papermill": {
     "duration": 0.043105,
     "end_time": "2024-08-12T13:44:19.543209",
     "exception": false,
     "start_time": "2024-08-12T13:44:19.500104",
     "status": "completed"
    },
    "tags": []
   },
   "outputs": [
    {
     "data": {
      "text/html": [
       "<div><style>\n",
       ".dataframe > thead > tr,\n",
       ".dataframe > tbody > tr {\n",
       "  text-align: right;\n",
       "  white-space: pre-wrap;\n",
       "}\n",
       "</style>\n",
       "<small>shape: (48_690, 9)</small><table border=\"1\" class=\"dataframe\"><thead><tr><th>study_id</th><th>series_id</th><th>instance_number</th><th>condition</th><th>level</th><th>x</th><th>y</th><th>name</th><th>row_id</th></tr><tr><td>i64</td><td>i64</td><td>i64</td><td>str</td><td>str</td><td>f64</td><td>f64</td><td>str</td><td>str</td></tr></thead><tbody><tr><td>4003253</td><td>702807833</td><td>8</td><td>&quot;spinal_canal_stenosis&quot;</td><td>&quot;l1_l2&quot;</td><td>322.831858</td><td>227.964602</td><td>&quot;4003253_702807833_0008&quot;</td><td>&quot;4003253_spinal_canal_stenosis_…</td></tr><tr><td>4003253</td><td>702807833</td><td>8</td><td>&quot;spinal_canal_stenosis&quot;</td><td>&quot;l2_l3&quot;</td><td>320.571429</td><td>295.714286</td><td>&quot;4003253_702807833_0008&quot;</td><td>&quot;4003253_spinal_canal_stenosis_…</td></tr><tr><td>4003253</td><td>702807833</td><td>8</td><td>&quot;spinal_canal_stenosis&quot;</td><td>&quot;l3_l4&quot;</td><td>323.030303</td><td>371.818182</td><td>&quot;4003253_702807833_0008&quot;</td><td>&quot;4003253_spinal_canal_stenosis_…</td></tr><tr><td>4003253</td><td>702807833</td><td>8</td><td>&quot;spinal_canal_stenosis&quot;</td><td>&quot;l4_l5&quot;</td><td>335.292035</td><td>427.327434</td><td>&quot;4003253_702807833_0008&quot;</td><td>&quot;4003253_spinal_canal_stenosis_…</td></tr><tr><td>4003253</td><td>702807833</td><td>8</td><td>&quot;spinal_canal_stenosis&quot;</td><td>&quot;l5_s1&quot;</td><td>353.415929</td><td>483.964602</td><td>&quot;4003253_702807833_0008&quot;</td><td>&quot;4003253_spinal_canal_stenosis_…</td></tr><tr><td>&hellip;</td><td>&hellip;</td><td>&hellip;</td><td>&hellip;</td><td>&hellip;</td><td>&hellip;</td><td>&hellip;</td><td>&hellip;</td><td>&hellip;</td></tr><tr><td>2151509334</td><td>3072714332</td><td>9</td><td>&quot;spinal_canal_stenosis&quot;</td><td>&quot;l4_l5&quot;</td><td>291.2</td><td>297.6</td><td>&quot;2151509334_3072714332_0009&quot;</td><td>&quot;2151509334_spinal_canal_stenos…</td></tr><tr><td>2316015842</td><td>1485193299</td><td>13</td><td>&quot;spinal_canal_stenosis&quot;</td><td>&quot;l1_l2&quot;</td><td>206.4</td><td>123.6</td><td>&quot;2316015842_1485193299_0013&quot;</td><td>&quot;2316015842_spinal_canal_stenos…</td></tr><tr><td>2444340715</td><td>3521409198</td><td>10</td><td>&quot;spinal_canal_stenosis&quot;</td><td>&quot;l5_s1&quot;</td><td>207.0</td><td>309.6</td><td>&quot;2444340715_3521409198_0010&quot;</td><td>&quot;2444340715_spinal_canal_stenos…</td></tr><tr><td>2905025904</td><td>816381378</td><td>11</td><td>&quot;spinal_canal_stenosis&quot;</td><td>&quot;l1_l2&quot;</td><td>239.4</td><td>111.0</td><td>&quot;2905025904_816381378_0011&quot;</td><td>&quot;2905025904_spinal_canal_stenos…</td></tr><tr><td>38281420</td><td>880361156</td><td>9</td><td>&quot;spinal_canal_stenosis&quot;</td><td>&quot;l5_s1&quot;</td><td>185.5</td><td>215.0</td><td>&quot;38281420_880361156_0009&quot;</td><td>&quot;38281420_spinal_canal_stenosis…</td></tr></tbody></table></div>"
      ],
      "text/plain": [
       "shape: (48_690, 9)\n",
       "┌───────────┬───────────┬───────────┬───────────┬───┬───────────┬───────────┬───────────┬──────────┐\n",
       "│ study_id  ┆ series_id ┆ instance_ ┆ condition ┆ … ┆ x         ┆ y         ┆ name      ┆ row_id   │\n",
       "│ ---       ┆ ---       ┆ number    ┆ ---       ┆   ┆ ---       ┆ ---       ┆ ---       ┆ ---      │\n",
       "│ i64       ┆ i64       ┆ ---       ┆ str       ┆   ┆ f64       ┆ f64       ┆ str       ┆ str      │\n",
       "│           ┆           ┆ i64       ┆           ┆   ┆           ┆           ┆           ┆          │\n",
       "╞═══════════╪═══════════╪═══════════╪═══════════╪═══╪═══════════╪═══════════╪═══════════╪══════════╡\n",
       "│ 4003253   ┆ 702807833 ┆ 8         ┆ spinal_ca ┆ … ┆ 322.83185 ┆ 227.96460 ┆ 4003253_7 ┆ 4003253_ │\n",
       "│           ┆           ┆           ┆ nal_steno ┆   ┆ 8         ┆ 2         ┆ 02807833_ ┆ spinal_c │\n",
       "│           ┆           ┆           ┆ sis       ┆   ┆           ┆           ┆ 0008      ┆ anal_ste │\n",
       "│           ┆           ┆           ┆           ┆   ┆           ┆           ┆           ┆ nosis_…  │\n",
       "│ 4003253   ┆ 702807833 ┆ 8         ┆ spinal_ca ┆ … ┆ 320.57142 ┆ 295.71428 ┆ 4003253_7 ┆ 4003253_ │\n",
       "│           ┆           ┆           ┆ nal_steno ┆   ┆ 9         ┆ 6         ┆ 02807833_ ┆ spinal_c │\n",
       "│           ┆           ┆           ┆ sis       ┆   ┆           ┆           ┆ 0008      ┆ anal_ste │\n",
       "│           ┆           ┆           ┆           ┆   ┆           ┆           ┆           ┆ nosis_…  │\n",
       "│ 4003253   ┆ 702807833 ┆ 8         ┆ spinal_ca ┆ … ┆ 323.03030 ┆ 371.81818 ┆ 4003253_7 ┆ 4003253_ │\n",
       "│           ┆           ┆           ┆ nal_steno ┆   ┆ 3         ┆ 2         ┆ 02807833_ ┆ spinal_c │\n",
       "│           ┆           ┆           ┆ sis       ┆   ┆           ┆           ┆ 0008      ┆ anal_ste │\n",
       "│           ┆           ┆           ┆           ┆   ┆           ┆           ┆           ┆ nosis_…  │\n",
       "│ 4003253   ┆ 702807833 ┆ 8         ┆ spinal_ca ┆ … ┆ 335.29203 ┆ 427.32743 ┆ 4003253_7 ┆ 4003253_ │\n",
       "│           ┆           ┆           ┆ nal_steno ┆   ┆ 5         ┆ 4         ┆ 02807833_ ┆ spinal_c │\n",
       "│           ┆           ┆           ┆ sis       ┆   ┆           ┆           ┆ 0008      ┆ anal_ste │\n",
       "│           ┆           ┆           ┆           ┆   ┆           ┆           ┆           ┆ nosis_…  │\n",
       "│ 4003253   ┆ 702807833 ┆ 8         ┆ spinal_ca ┆ … ┆ 353.41592 ┆ 483.96460 ┆ 4003253_7 ┆ 4003253_ │\n",
       "│           ┆           ┆           ┆ nal_steno ┆   ┆ 9         ┆ 2         ┆ 02807833_ ┆ spinal_c │\n",
       "│           ┆           ┆           ┆ sis       ┆   ┆           ┆           ┆ 0008      ┆ anal_ste │\n",
       "│           ┆           ┆           ┆           ┆   ┆           ┆           ┆           ┆ nosis_…  │\n",
       "│ …         ┆ …         ┆ …         ┆ …         ┆ … ┆ …         ┆ …         ┆ …         ┆ …        │\n",
       "│ 215150933 ┆ 307271433 ┆ 9         ┆ spinal_ca ┆ … ┆ 291.2     ┆ 297.6     ┆ 215150933 ┆ 21515093 │\n",
       "│ 4         ┆ 2         ┆           ┆ nal_steno ┆   ┆           ┆           ┆ 4_3072714 ┆ 34_spina │\n",
       "│           ┆           ┆           ┆ sis       ┆   ┆           ┆           ┆ 332_0009  ┆ l_canal_ │\n",
       "│           ┆           ┆           ┆           ┆   ┆           ┆           ┆           ┆ stenos…  │\n",
       "│ 231601584 ┆ 148519329 ┆ 13        ┆ spinal_ca ┆ … ┆ 206.4     ┆ 123.6     ┆ 231601584 ┆ 23160158 │\n",
       "│ 2         ┆ 9         ┆           ┆ nal_steno ┆   ┆           ┆           ┆ 2_1485193 ┆ 42_spina │\n",
       "│           ┆           ┆           ┆ sis       ┆   ┆           ┆           ┆ 299_0013  ┆ l_canal_ │\n",
       "│           ┆           ┆           ┆           ┆   ┆           ┆           ┆           ┆ stenos…  │\n",
       "│ 244434071 ┆ 352140919 ┆ 10        ┆ spinal_ca ┆ … ┆ 207.0     ┆ 309.6     ┆ 244434071 ┆ 24443407 │\n",
       "│ 5         ┆ 8         ┆           ┆ nal_steno ┆   ┆           ┆           ┆ 5_3521409 ┆ 15_spina │\n",
       "│           ┆           ┆           ┆ sis       ┆   ┆           ┆           ┆ 198_0010  ┆ l_canal_ │\n",
       "│           ┆           ┆           ┆           ┆   ┆           ┆           ┆           ┆ stenos…  │\n",
       "│ 290502590 ┆ 816381378 ┆ 11        ┆ spinal_ca ┆ … ┆ 239.4     ┆ 111.0     ┆ 290502590 ┆ 29050259 │\n",
       "│ 4         ┆           ┆           ┆ nal_steno ┆   ┆           ┆           ┆ 4_8163813 ┆ 04_spina │\n",
       "│           ┆           ┆           ┆ sis       ┆   ┆           ┆           ┆ 78_0011   ┆ l_canal_ │\n",
       "│           ┆           ┆           ┆           ┆   ┆           ┆           ┆           ┆ stenos…  │\n",
       "│ 38281420  ┆ 880361156 ┆ 9         ┆ spinal_ca ┆ … ┆ 185.5     ┆ 215.0     ┆ 38281420_ ┆ 38281420 │\n",
       "│           ┆           ┆           ┆ nal_steno ┆   ┆           ┆           ┆ 880361156 ┆ _spinal_ │\n",
       "│           ┆           ┆           ┆ sis       ┆   ┆           ┆           ┆ _0009     ┆ canal_st │\n",
       "│           ┆           ┆           ┆           ┆   ┆           ┆           ┆           ┆ enosis…  │\n",
       "└───────────┴───────────┴───────────┴───────────┴───┴───────────┴───────────┴───────────┴──────────┘"
      ]
     },
     "execution_count": 18,
     "metadata": {},
     "output_type": "execute_result"
    }
   ],
   "source": [
    "# replace incorrectly annotated coordinates with predicted one\n",
    "t2 = pl.concat([\n",
    "    t2.filter(~pl.col('matcher').is_in(incorr['matcher'])),\n",
    "    incorr.drop(['x', 'y']).join(s_coor.select(['matcher', 'x', 'y']), on='matcher', how='inner').select(\n",
    "        ['study_id', 'series_id', 'instance_number', 'condition', 'level', 'x', 'y', 'name', 'row_id', 'matcher']\n",
    "    ),\n",
    "], how='vertical').drop('matcher') # there are 2 coordinates dropped\n",
    "t2"
   ]
  },
  {
   "cell_type": "code",
   "execution_count": 19,
   "id": "163383cd",
   "metadata": {
    "execution": {
     "iopub.execute_input": "2024-08-12T13:44:19.575765Z",
     "iopub.status.busy": "2024-08-12T13:44:19.575361Z",
     "iopub.status.idle": "2024-08-12T13:44:19.616865Z",
     "shell.execute_reply": "2024-08-12T13:44:19.615327Z"
    },
    "papermill": {
     "duration": 0.061543,
     "end_time": "2024-08-12T13:44:19.620624",
     "exception": false,
     "start_time": "2024-08-12T13:44:19.559081",
     "status": "completed"
    },
    "tags": []
   },
   "outputs": [
    {
     "data": {
      "text/html": [
       "<div><style>\n",
       ".dataframe > thead > tr,\n",
       ".dataframe > tbody > tr {\n",
       "  text-align: right;\n",
       "  white-space: pre-wrap;\n",
       "}\n",
       "</style>\n",
       "<small>shape: (48_690, 11)</small><table border=\"1\" class=\"dataframe\"><thead><tr><th>study_id</th><th>value</th><th>row_id</th><th>condition</th><th>level</th><th>labels</th><th>series_id</th><th>instance_number</th><th>x</th><th>y</th><th>name</th></tr><tr><td>i64</td><td>str</td><td>str</td><td>str</td><td>str</td><td>u8</td><td>i64</td><td>i64</td><td>f64</td><td>f64</td><td>str</td></tr></thead><tbody><tr><td>4003253</td><td>&quot;normal_mild&quot;</td><td>&quot;4003253_spinal_canal_stenosis_…</td><td>&quot;spinal_canal_stenosis&quot;</td><td>&quot;l1_l2&quot;</td><td>6</td><td>702807833</td><td>8</td><td>322.831858</td><td>227.964602</td><td>&quot;4003253_702807833_0008&quot;</td></tr><tr><td>4646740</td><td>&quot;normal_mild&quot;</td><td>&quot;4646740_spinal_canal_stenosis_…</td><td>&quot;spinal_canal_stenosis&quot;</td><td>&quot;l1_l2&quot;</td><td>6</td><td>3666319702</td><td>10</td><td>241.700041</td><td>156.176471</td><td>&quot;4646740_3666319702_0010&quot;</td></tr><tr><td>7143189</td><td>&quot;normal_mild&quot;</td><td>&quot;7143189_spinal_canal_stenosis_…</td><td>&quot;spinal_canal_stenosis&quot;</td><td>&quot;l1_l2&quot;</td><td>6</td><td>132939515</td><td>9</td><td>177.938468</td><td>93.727402</td><td>&quot;7143189_132939515_0009&quot;</td></tr><tr><td>8785691</td><td>&quot;normal_mild&quot;</td><td>&quot;8785691_spinal_canal_stenosis_…</td><td>&quot;spinal_canal_stenosis&quot;</td><td>&quot;l1_l2&quot;</td><td>6</td><td>481125819</td><td>8</td><td>181.935484</td><td>96.487455</td><td>&quot;8785691_481125819_0008&quot;</td></tr><tr><td>10728036</td><td>&quot;normal_mild&quot;</td><td>&quot;10728036_spinal_canal_stenosis…</td><td>&quot;spinal_canal_stenosis&quot;</td><td>&quot;l1_l2&quot;</td><td>6</td><td>3491739931</td><td>11</td><td>297.420479</td><td>148.915033</td><td>&quot;10728036_3491739931_0011&quot;</td></tr><tr><td>&hellip;</td><td>&hellip;</td><td>&hellip;</td><td>&hellip;</td><td>&hellip;</td><td>&hellip;</td><td>&hellip;</td><td>&hellip;</td><td>&hellip;</td><td>&hellip;</td><td>&hellip;</td></tr><tr><td>4282019580</td><td>&quot;moderate&quot;</td><td>&quot;4282019580_right_subarticular_…</td><td>&quot;right_subarticular_stenosis&quot;</td><td>&quot;l5_s1&quot;</td><td>13</td><td>121051321</td><td>38</td><td>142.146782</td><td>183.610675</td><td>&quot;4282019580_121051321_0038&quot;</td></tr><tr><td>4283570761</td><td>&quot;normal_mild&quot;</td><td>&quot;4283570761_right_subarticular_…</td><td>&quot;right_subarticular_stenosis&quot;</td><td>&quot;l5_s1&quot;</td><td>12</td><td>3321662903</td><td>48</td><td>136.560101</td><td>145.004355</td><td>&quot;4283570761_3321662903_0048&quot;</td></tr><tr><td>4284048608</td><td>&quot;normal_mild&quot;</td><td>&quot;4284048608_right_subarticular_…</td><td>&quot;right_subarticular_stenosis&quot;</td><td>&quot;l5_s1&quot;</td><td>12</td><td>3891595425</td><td>36</td><td>208.630898</td><td>216.840183</td><td>&quot;4284048608_3891595425_0036&quot;</td></tr><tr><td>4287160193</td><td>&quot;normal_mild&quot;</td><td>&quot;4287160193_right_subarticular_…</td><td>&quot;right_subarticular_stenosis&quot;</td><td>&quot;l5_s1&quot;</td><td>12</td><td>1820446240</td><td>4</td><td>112.169912</td><td>143.341593</td><td>&quot;4287160193_1820446240_0004&quot;</td></tr><tr><td>4290709089</td><td>&quot;normal_mild&quot;</td><td>&quot;4290709089_right_subarticular_…</td><td>&quot;right_subarticular_stenosis&quot;</td><td>&quot;l5_s1&quot;</td><td>12</td><td>3390218084</td><td>21</td><td>302.875911</td><td>364.627811</td><td>&quot;4290709089_3390218084_0021&quot;</td></tr></tbody></table></div>"
      ],
      "text/plain": [
       "shape: (48_690, 11)\n",
       "┌───────────┬───────────┬───────────┬───────────┬───┬───────────┬───────────┬───────────┬──────────┐\n",
       "│ study_id  ┆ value     ┆ row_id    ┆ condition ┆ … ┆ instance_ ┆ x         ┆ y         ┆ name     │\n",
       "│ ---       ┆ ---       ┆ ---       ┆ ---       ┆   ┆ number    ┆ ---       ┆ ---       ┆ ---      │\n",
       "│ i64       ┆ str       ┆ str       ┆ str       ┆   ┆ ---       ┆ f64       ┆ f64       ┆ str      │\n",
       "│           ┆           ┆           ┆           ┆   ┆ i64       ┆           ┆           ┆          │\n",
       "╞═══════════╪═══════════╪═══════════╪═══════════╪═══╪═══════════╪═══════════╪═══════════╪══════════╡\n",
       "│ 4003253   ┆ normal_mi ┆ 4003253_s ┆ spinal_ca ┆ … ┆ 8         ┆ 322.83185 ┆ 227.96460 ┆ 4003253_ │\n",
       "│           ┆ ld        ┆ pinal_can ┆ nal_steno ┆   ┆           ┆ 8         ┆ 2         ┆ 70280783 │\n",
       "│           ┆           ┆ al_stenos ┆ sis       ┆   ┆           ┆           ┆           ┆ 3_0008   │\n",
       "│           ┆           ┆ is_…      ┆           ┆   ┆           ┆           ┆           ┆          │\n",
       "│ 4646740   ┆ normal_mi ┆ 4646740_s ┆ spinal_ca ┆ … ┆ 10        ┆ 241.70004 ┆ 156.17647 ┆ 4646740_ │\n",
       "│           ┆ ld        ┆ pinal_can ┆ nal_steno ┆   ┆           ┆ 1         ┆ 1         ┆ 36663197 │\n",
       "│           ┆           ┆ al_stenos ┆ sis       ┆   ┆           ┆           ┆           ┆ 02_0010  │\n",
       "│           ┆           ┆ is_…      ┆           ┆   ┆           ┆           ┆           ┆          │\n",
       "│ 7143189   ┆ normal_mi ┆ 7143189_s ┆ spinal_ca ┆ … ┆ 9         ┆ 177.93846 ┆ 93.727402 ┆ 7143189_ │\n",
       "│           ┆ ld        ┆ pinal_can ┆ nal_steno ┆   ┆           ┆ 8         ┆           ┆ 13293951 │\n",
       "│           ┆           ┆ al_stenos ┆ sis       ┆   ┆           ┆           ┆           ┆ 5_0009   │\n",
       "│           ┆           ┆ is_…      ┆           ┆   ┆           ┆           ┆           ┆          │\n",
       "│ 8785691   ┆ normal_mi ┆ 8785691_s ┆ spinal_ca ┆ … ┆ 8         ┆ 181.93548 ┆ 96.487455 ┆ 8785691_ │\n",
       "│           ┆ ld        ┆ pinal_can ┆ nal_steno ┆   ┆           ┆ 4         ┆           ┆ 48112581 │\n",
       "│           ┆           ┆ al_stenos ┆ sis       ┆   ┆           ┆           ┆           ┆ 9_0008   │\n",
       "│           ┆           ┆ is_…      ┆           ┆   ┆           ┆           ┆           ┆          │\n",
       "│ 10728036  ┆ normal_mi ┆ 10728036_ ┆ spinal_ca ┆ … ┆ 11        ┆ 297.42047 ┆ 148.91503 ┆ 10728036 │\n",
       "│           ┆ ld        ┆ spinal_ca ┆ nal_steno ┆   ┆           ┆ 9         ┆ 3         ┆ _3491739 │\n",
       "│           ┆           ┆ nal_steno ┆ sis       ┆   ┆           ┆           ┆           ┆ 931_0011 │\n",
       "│           ┆           ┆ sis…      ┆           ┆   ┆           ┆           ┆           ┆          │\n",
       "│ …         ┆ …         ┆ …         ┆ …         ┆ … ┆ …         ┆ …         ┆ …         ┆ …        │\n",
       "│ 428201958 ┆ moderate  ┆ 428201958 ┆ right_sub ┆ … ┆ 38        ┆ 142.14678 ┆ 183.61067 ┆ 42820195 │\n",
       "│ 0         ┆           ┆ 0_right_s ┆ articular ┆   ┆           ┆ 2         ┆ 5         ┆ 80_12105 │\n",
       "│           ┆           ┆ ubarticul ┆ _stenosis ┆   ┆           ┆           ┆           ┆ 1321_003 │\n",
       "│           ┆           ┆ ar_…      ┆           ┆   ┆           ┆           ┆           ┆ 8        │\n",
       "│ 428357076 ┆ normal_mi ┆ 428357076 ┆ right_sub ┆ … ┆ 48        ┆ 136.56010 ┆ 145.00435 ┆ 42835707 │\n",
       "│ 1         ┆ ld        ┆ 1_right_s ┆ articular ┆   ┆           ┆ 1         ┆ 5         ┆ 61_33216 │\n",
       "│           ┆           ┆ ubarticul ┆ _stenosis ┆   ┆           ┆           ┆           ┆ 62903_00 │\n",
       "│           ┆           ┆ ar_…      ┆           ┆   ┆           ┆           ┆           ┆ 48       │\n",
       "│ 428404860 ┆ normal_mi ┆ 428404860 ┆ right_sub ┆ … ┆ 36        ┆ 208.63089 ┆ 216.84018 ┆ 42840486 │\n",
       "│ 8         ┆ ld        ┆ 8_right_s ┆ articular ┆   ┆           ┆ 8         ┆ 3         ┆ 08_38915 │\n",
       "│           ┆           ┆ ubarticul ┆ _stenosis ┆   ┆           ┆           ┆           ┆ 95425_00 │\n",
       "│           ┆           ┆ ar_…      ┆           ┆   ┆           ┆           ┆           ┆ 36       │\n",
       "│ 428716019 ┆ normal_mi ┆ 428716019 ┆ right_sub ┆ … ┆ 4         ┆ 112.16991 ┆ 143.34159 ┆ 42871601 │\n",
       "│ 3         ┆ ld        ┆ 3_right_s ┆ articular ┆   ┆           ┆ 2         ┆ 3         ┆ 93_18204 │\n",
       "│           ┆           ┆ ubarticul ┆ _stenosis ┆   ┆           ┆           ┆           ┆ 46240_00 │\n",
       "│           ┆           ┆ ar_…      ┆           ┆   ┆           ┆           ┆           ┆ 04       │\n",
       "│ 429070908 ┆ normal_mi ┆ 429070908 ┆ right_sub ┆ … ┆ 21        ┆ 302.87591 ┆ 364.62781 ┆ 42907090 │\n",
       "│ 9         ┆ ld        ┆ 9_right_s ┆ articular ┆   ┆           ┆ 1         ┆ 1         ┆ 89_33902 │\n",
       "│           ┆           ┆ ubarticul ┆ _stenosis ┆   ┆           ┆           ┆           ┆ 18084_00 │\n",
       "│           ┆           ┆ ar_…      ┆           ┆   ┆           ┆           ┆           ┆ 21       │\n",
       "└───────────┴───────────┴───────────┴───────────┴───┴───────────┴───────────┴───────────┴──────────┘"
      ]
     },
     "execution_count": 19,
     "metadata": {},
     "output_type": "execute_result"
    }
   ],
   "source": [
    "t12 = t1.drop('variable').join(t2.select(['study_id', 'series_id', 'instance_number', 'condition', 'level', 'x', 'y', 'name', 'row_id']), on=['study_id', 'row_id', 'condition', 'level'])\n",
    "t12"
   ]
  },
  {
   "cell_type": "code",
   "execution_count": 20,
   "id": "ccd0b933",
   "metadata": {
    "execution": {
     "iopub.execute_input": "2024-08-12T13:44:19.665661Z",
     "iopub.status.busy": "2024-08-12T13:44:19.665278Z",
     "iopub.status.idle": "2024-08-12T13:44:20.577376Z",
     "shell.execute_reply": "2024-08-12T13:44:20.576150Z"
    },
    "papermill": {
     "duration": 0.940164,
     "end_time": "2024-08-12T13:44:20.579841",
     "exception": false,
     "start_time": "2024-08-12T13:44:19.639677",
     "status": "completed"
    },
    "tags": []
   },
   "outputs": [
    {
     "data": {
      "text/html": [
       "<div><style>\n",
       ".dataframe > thead > tr,\n",
       ".dataframe > tbody > tr {\n",
       "  text-align: right;\n",
       "  white-space: pre-wrap;\n",
       "}\n",
       "</style>\n",
       "<small>shape: (44_728, 13)</small><table border=\"1\" class=\"dataframe\"><thead><tr><th>row_id</th><th>study_id</th><th>series_id</th><th>instance_number</th><th>series_description</th><th>condition</th><th>labels</th><th>level</th><th>x</th><th>y</th><th>name</th><th>study_id_level</th><th>fold</th></tr><tr><td>str</td><td>i64</td><td>i64</td><td>i64</td><td>str</td><td>str</td><td>u8</td><td>str</td><td>f64</td><td>f64</td><td>str</td><td>str</td><td>i8</td></tr></thead><tbody><tr><td>&quot;100206310_left_neural_foramina…</td><td>100206310</td><td>2092806862</td><td>13</td><td>&quot;Sagittal T1&quot;</td><td>&quot;left_neural_foraminal_narrowin…</td><td>0</td><td>&quot;l1_l2&quot;</td><td>270.34225</td><td>148.221459</td><td>&quot;100206310_2092806862_0013&quot;</td><td>&quot;100206310_l1_l2&quot;</td><td>1</td></tr><tr><td>&quot;100206310_left_neural_foramina…</td><td>100206310</td><td>2092806862</td><td>12</td><td>&quot;Sagittal T1&quot;</td><td>&quot;left_neural_foraminal_narrowin…</td><td>1</td><td>&quot;l2_l3&quot;</td><td>260.177602</td><td>191.705532</td><td>&quot;100206310_2092806862_0012&quot;</td><td>&quot;100206310_l2_l3&quot;</td><td>1</td></tr><tr><td>&quot;100206310_left_neural_foramina…</td><td>100206310</td><td>2092806862</td><td>13</td><td>&quot;Sagittal T1&quot;</td><td>&quot;left_neural_foraminal_narrowin…</td><td>1</td><td>&quot;l3_l4&quot;</td><td>250.176889</td><td>234.398551</td><td>&quot;100206310_2092806862_0013&quot;</td><td>&quot;100206310_l3_l4&quot;</td><td>1</td></tr><tr><td>&quot;100206310_left_neural_foramina…</td><td>100206310</td><td>2092806862</td><td>12</td><td>&quot;Sagittal T1&quot;</td><td>&quot;left_neural_foraminal_narrowin…</td><td>2</td><td>&quot;l4_l5&quot;</td><td>249.241774</td><td>274.786914</td><td>&quot;100206310_2092806862_0012&quot;</td><td>&quot;100206310_l4_l5&quot;</td><td>1</td></tr><tr><td>&quot;100206310_left_neural_foramina…</td><td>100206310</td><td>2092806862</td><td>12</td><td>&quot;Sagittal T1&quot;</td><td>&quot;left_neural_foraminal_narrowin…</td><td>1</td><td>&quot;l5_s1&quot;</td><td>258.80649</td><td>319.853318</td><td>&quot;100206310_2092806862_0012&quot;</td><td>&quot;100206310_l5_s1&quot;</td><td>1</td></tr><tr><td>&hellip;</td><td>&hellip;</td><td>&hellip;</td><td>&hellip;</td><td>&hellip;</td><td>&hellip;</td><td>&hellip;</td><td>&hellip;</td><td>&hellip;</td><td>&hellip;</td><td>&hellip;</td><td>&hellip;</td><td>&hellip;</td></tr><tr><td>&quot;992674144_spinal_canal_stenosi…</td><td>992674144</td><td>1576603050</td><td>9</td><td>&quot;Sagittal T2/STIR&quot;</td><td>&quot;spinal_canal_stenosis&quot;</td><td>6</td><td>&quot;l1_l2&quot;</td><td>190.682111</td><td>92.252252</td><td>&quot;992674144_1576603050_0009&quot;</td><td>&quot;992674144_l1_l2&quot;</td><td>2</td></tr><tr><td>&quot;992674144_spinal_canal_stenosi…</td><td>992674144</td><td>1576603050</td><td>9</td><td>&quot;Sagittal T2/STIR&quot;</td><td>&quot;spinal_canal_stenosis&quot;</td><td>6</td><td>&quot;l2_l3&quot;</td><td>182.033462</td><td>123.552124</td><td>&quot;992674144_1576603050_0009&quot;</td><td>&quot;992674144_l2_l3&quot;</td><td>2</td></tr><tr><td>&quot;992674144_spinal_canal_stenosi…</td><td>992674144</td><td>1576603050</td><td>9</td><td>&quot;Sagittal T2/STIR&quot;</td><td>&quot;spinal_canal_stenosis&quot;</td><td>6</td><td>&quot;l3_l4&quot;</td><td>175.855856</td><td>162.265122</td><td>&quot;992674144_1576603050_0009&quot;</td><td>&quot;992674144_l3_l4&quot;</td><td>2</td></tr><tr><td>&quot;992674144_spinal_canal_stenosi…</td><td>992674144</td><td>1576603050</td><td>9</td><td>&quot;Sagittal T2/STIR&quot;</td><td>&quot;spinal_canal_stenosis&quot;</td><td>6</td><td>&quot;l4_l5&quot;</td><td>175.032175</td><td>193.976834</td><td>&quot;992674144_1576603050_0009&quot;</td><td>&quot;992674144_l4_l5&quot;</td><td>2</td></tr><tr><td>&quot;992674144_spinal_canal_stenosi…</td><td>992674144</td><td>1576603050</td><td>9</td><td>&quot;Sagittal T2/STIR&quot;</td><td>&quot;spinal_canal_stenosis&quot;</td><td>6</td><td>&quot;l5_s1&quot;</td><td>179.150579</td><td>224.041184</td><td>&quot;992674144_1576603050_0009&quot;</td><td>&quot;992674144_l5_s1&quot;</td><td>2</td></tr></tbody></table></div>"
      ],
      "text/plain": [
       "shape: (44_728, 13)\n",
       "┌────────────┬───────────┬────────────┬────────────┬───┬────────────┬───────────┬───────────┬──────┐\n",
       "│ row_id     ┆ study_id  ┆ series_id  ┆ instance_n ┆ … ┆ y          ┆ name      ┆ study_id_ ┆ fold │\n",
       "│ ---        ┆ ---       ┆ ---        ┆ umber      ┆   ┆ ---        ┆ ---       ┆ level     ┆ ---  │\n",
       "│ str        ┆ i64       ┆ i64        ┆ ---        ┆   ┆ f64        ┆ str       ┆ ---       ┆ i8   │\n",
       "│            ┆           ┆            ┆ i64        ┆   ┆            ┆           ┆ str       ┆      │\n",
       "╞════════════╪═══════════╪════════════╪════════════╪═══╪════════════╪═══════════╪═══════════╪══════╡\n",
       "│ 100206310_ ┆ 100206310 ┆ 2092806862 ┆ 13         ┆ … ┆ 148.221459 ┆ 100206310 ┆ 100206310 ┆ 1    │\n",
       "│ left_neura ┆           ┆            ┆            ┆   ┆            ┆ _20928068 ┆ _l1_l2    ┆      │\n",
       "│ l_foramina ┆           ┆            ┆            ┆   ┆            ┆ 62_0013   ┆           ┆      │\n",
       "│ …          ┆           ┆            ┆            ┆   ┆            ┆           ┆           ┆      │\n",
       "│ 100206310_ ┆ 100206310 ┆ 2092806862 ┆ 12         ┆ … ┆ 191.705532 ┆ 100206310 ┆ 100206310 ┆ 1    │\n",
       "│ left_neura ┆           ┆            ┆            ┆   ┆            ┆ _20928068 ┆ _l2_l3    ┆      │\n",
       "│ l_foramina ┆           ┆            ┆            ┆   ┆            ┆ 62_0012   ┆           ┆      │\n",
       "│ …          ┆           ┆            ┆            ┆   ┆            ┆           ┆           ┆      │\n",
       "│ 100206310_ ┆ 100206310 ┆ 2092806862 ┆ 13         ┆ … ┆ 234.398551 ┆ 100206310 ┆ 100206310 ┆ 1    │\n",
       "│ left_neura ┆           ┆            ┆            ┆   ┆            ┆ _20928068 ┆ _l3_l4    ┆      │\n",
       "│ l_foramina ┆           ┆            ┆            ┆   ┆            ┆ 62_0013   ┆           ┆      │\n",
       "│ …          ┆           ┆            ┆            ┆   ┆            ┆           ┆           ┆      │\n",
       "│ 100206310_ ┆ 100206310 ┆ 2092806862 ┆ 12         ┆ … ┆ 274.786914 ┆ 100206310 ┆ 100206310 ┆ 1    │\n",
       "│ left_neura ┆           ┆            ┆            ┆   ┆            ┆ _20928068 ┆ _l4_l5    ┆      │\n",
       "│ l_foramina ┆           ┆            ┆            ┆   ┆            ┆ 62_0012   ┆           ┆      │\n",
       "│ …          ┆           ┆            ┆            ┆   ┆            ┆           ┆           ┆      │\n",
       "│ 100206310_ ┆ 100206310 ┆ 2092806862 ┆ 12         ┆ … ┆ 319.853318 ┆ 100206310 ┆ 100206310 ┆ 1    │\n",
       "│ left_neura ┆           ┆            ┆            ┆   ┆            ┆ _20928068 ┆ _l5_s1    ┆      │\n",
       "│ l_foramina ┆           ┆            ┆            ┆   ┆            ┆ 62_0012   ┆           ┆      │\n",
       "│ …          ┆           ┆            ┆            ┆   ┆            ┆           ┆           ┆      │\n",
       "│ …          ┆ …         ┆ …          ┆ …          ┆ … ┆ …          ┆ …         ┆ …         ┆ …    │\n",
       "│ 992674144_ ┆ 992674144 ┆ 1576603050 ┆ 9          ┆ … ┆ 92.252252  ┆ 992674144 ┆ 992674144 ┆ 2    │\n",
       "│ spinal_can ┆           ┆            ┆            ┆   ┆            ┆ _15766030 ┆ _l1_l2    ┆      │\n",
       "│ al_stenosi ┆           ┆            ┆            ┆   ┆            ┆ 50_0009   ┆           ┆      │\n",
       "│ …          ┆           ┆            ┆            ┆   ┆            ┆           ┆           ┆      │\n",
       "│ 992674144_ ┆ 992674144 ┆ 1576603050 ┆ 9          ┆ … ┆ 123.552124 ┆ 992674144 ┆ 992674144 ┆ 2    │\n",
       "│ spinal_can ┆           ┆            ┆            ┆   ┆            ┆ _15766030 ┆ _l2_l3    ┆      │\n",
       "│ al_stenosi ┆           ┆            ┆            ┆   ┆            ┆ 50_0009   ┆           ┆      │\n",
       "│ …          ┆           ┆            ┆            ┆   ┆            ┆           ┆           ┆      │\n",
       "│ 992674144_ ┆ 992674144 ┆ 1576603050 ┆ 9          ┆ … ┆ 162.265122 ┆ 992674144 ┆ 992674144 ┆ 2    │\n",
       "│ spinal_can ┆           ┆            ┆            ┆   ┆            ┆ _15766030 ┆ _l3_l4    ┆      │\n",
       "│ al_stenosi ┆           ┆            ┆            ┆   ┆            ┆ 50_0009   ┆           ┆      │\n",
       "│ …          ┆           ┆            ┆            ┆   ┆            ┆           ┆           ┆      │\n",
       "│ 992674144_ ┆ 992674144 ┆ 1576603050 ┆ 9          ┆ … ┆ 193.976834 ┆ 992674144 ┆ 992674144 ┆ 2    │\n",
       "│ spinal_can ┆           ┆            ┆            ┆   ┆            ┆ _15766030 ┆ _l4_l5    ┆      │\n",
       "│ al_stenosi ┆           ┆            ┆            ┆   ┆            ┆ 50_0009   ┆           ┆      │\n",
       "│ …          ┆           ┆            ┆            ┆   ┆            ┆           ┆           ┆      │\n",
       "│ 992674144_ ┆ 992674144 ┆ 1576603050 ┆ 9          ┆ … ┆ 224.041184 ┆ 992674144 ┆ 992674144 ┆ 2    │\n",
       "│ spinal_can ┆           ┆            ┆            ┆   ┆            ┆ _15766030 ┆ _l5_s1    ┆      │\n",
       "│ al_stenosi ┆           ┆            ┆            ┆   ┆            ┆ 50_0009   ┆           ┆      │\n",
       "│ …          ┆           ┆            ┆            ┆   ┆            ┆           ┆           ┆      │\n",
       "└────────────┴───────────┴────────────┴────────────┴───┴────────────┴───────────┴───────────┴──────┘"
      ]
     },
     "execution_count": 20,
     "metadata": {},
     "output_type": "execute_result"
    }
   ],
   "source": [
    "cols_ordered = ['row_id', 'study_id', 'series_id', 'instance_number', 'series_description', 'condition', 'labels', 'level' ,'x', 'y', 'name']\n",
    "t123 = t12.join(train_des, on=['study_id', 'series_id']).select(cols_ordered).sort('row_id')\n",
    "t123 = t123.with_columns(pl.concat_str([\n",
    "    pl.col('study_id'),\n",
    "    pl.col('level'),\n",
    "], separator='_').alias('study_id_level'))\n",
    "\n",
    "t123 = t123.filter(~pl.col('study_id').is_in(train_null)) # study that contain null out\n",
    "\n",
    "t123 = split_fold(t123)\n",
    "\n",
    "t123"
   ]
  },
  {
   "cell_type": "code",
   "execution_count": 21,
   "id": "96c8f58a",
   "metadata": {
    "execution": {
     "iopub.execute_input": "2024-08-12T13:44:20.614978Z",
     "iopub.status.busy": "2024-08-12T13:44:20.614566Z",
     "iopub.status.idle": "2024-08-12T13:44:20.634615Z",
     "shell.execute_reply": "2024-08-12T13:44:20.633154Z"
    },
    "papermill": {
     "duration": 0.041388,
     "end_time": "2024-08-12T13:44:20.637687",
     "exception": false,
     "start_time": "2024-08-12T13:44:20.596299",
     "status": "completed"
    },
    "tags": []
   },
   "outputs": [
    {
     "data": {
      "text/html": [
       "<div><style>\n",
       ".dataframe > thead > tr,\n",
       ".dataframe > tbody > tr {\n",
       "  text-align: right;\n",
       "  white-space: pre-wrap;\n",
       "}\n",
       "</style>\n",
       "<small>shape: (4, 2)</small><table border=\"1\" class=\"dataframe\"><thead><tr><th>fold</th><th>len</th></tr><tr><td>i8</td><td>u32</td></tr></thead><tbody><tr><td>0</td><td>11147</td></tr><tr><td>1</td><td>11200</td></tr><tr><td>2</td><td>11183</td></tr><tr><td>3</td><td>11198</td></tr></tbody></table></div>"
      ],
      "text/plain": [
       "shape: (4, 2)\n",
       "┌──────┬───────┐\n",
       "│ fold ┆ len   │\n",
       "│ ---  ┆ ---   │\n",
       "│ i8   ┆ u32   │\n",
       "╞══════╪═══════╡\n",
       "│ 0    ┆ 11147 │\n",
       "│ 1    ┆ 11200 │\n",
       "│ 2    ┆ 11183 │\n",
       "│ 3    ┆ 11198 │\n",
       "└──────┴───────┘"
      ]
     },
     "execution_count": 21,
     "metadata": {},
     "output_type": "execute_result"
    }
   ],
   "source": [
    "t123.group_by('fold').len().sort('fold')"
   ]
  },
  {
   "cell_type": "code",
   "execution_count": 22,
   "id": "28bb1948",
   "metadata": {
    "execution": {
     "iopub.execute_input": "2024-08-12T13:44:20.673806Z",
     "iopub.status.busy": "2024-08-12T13:44:20.673382Z",
     "iopub.status.idle": "2024-08-12T13:44:20.686391Z",
     "shell.execute_reply": "2024-08-12T13:44:20.685264Z"
    },
    "papermill": {
     "duration": 0.032692,
     "end_time": "2024-08-12T13:44:20.688840",
     "exception": false,
     "start_time": "2024-08-12T13:44:20.656148",
     "status": "completed"
    },
    "tags": []
   },
   "outputs": [
    {
     "data": {
      "text/html": [
       "<div><style>\n",
       ".dataframe > thead > tr,\n",
       ".dataframe > tbody > tr {\n",
       "  text-align: right;\n",
       "  white-space: pre-wrap;\n",
       "}\n",
       "</style>\n",
       "<small>shape: (4, 13)</small><table border=\"1\" class=\"dataframe\"><thead><tr><th>fold</th><th>row_id</th><th>study_id</th><th>series_id</th><th>instance_number</th><th>series_description</th><th>condition</th><th>labels</th><th>level</th><th>x</th><th>y</th><th>name</th><th>study_id_level</th></tr><tr><td>i8</td><td>str</td><td>f64</td><td>f64</td><td>f64</td><td>str</td><td>str</td><td>f64</td><td>str</td><td>f64</td><td>f64</td><td>str</td><td>str</td></tr></thead><tbody><tr><td>0</td><td>null</td><td>2.0952e9</td><td>2.1951e9</td><td>13.181125</td><td>null</td><td>null</td><td>6.258724</td><td>null</td><td>235.973989</td><td>232.004127</td><td>null</td><td>null</td></tr><tr><td>1</td><td>null</td><td>2.1964e9</td><td>2.1426e9</td><td>13.000982</td><td>null</td><td>null</td><td>6.290357</td><td>null</td><td>232.926813</td><td>227.580516</td><td>null</td><td>null</td></tr><tr><td>2</td><td>null</td><td>2.1761e9</td><td>2.1327e9</td><td>15.840472</td><td>null</td><td>null</td><td>6.290173</td><td>null</td><td>233.6611</td><td>228.037621</td><td>null</td><td>null</td></tr><tr><td>3</td><td>null</td><td>2.1719e9</td><td>2.1819e9</td><td>13.004019</td><td>null</td><td>null</td><td>6.29032</td><td>null</td><td>233.675085</td><td>229.169499</td><td>null</td><td>null</td></tr></tbody></table></div>"
      ],
      "text/plain": [
       "shape: (4, 13)\n",
       "┌──────┬────────┬──────────┬───────────┬───┬────────────┬────────────┬──────┬────────────────┐\n",
       "│ fold ┆ row_id ┆ study_id ┆ series_id ┆ … ┆ x          ┆ y          ┆ name ┆ study_id_level │\n",
       "│ ---  ┆ ---    ┆ ---      ┆ ---       ┆   ┆ ---        ┆ ---        ┆ ---  ┆ ---            │\n",
       "│ i8   ┆ str    ┆ f64      ┆ f64       ┆   ┆ f64        ┆ f64        ┆ str  ┆ str            │\n",
       "╞══════╪════════╪══════════╪═══════════╪═══╪════════════╪════════════╪══════╪════════════════╡\n",
       "│ 0    ┆ null   ┆ 2.0952e9 ┆ 2.1951e9  ┆ … ┆ 235.973989 ┆ 232.004127 ┆ null ┆ null           │\n",
       "│ 1    ┆ null   ┆ 2.1964e9 ┆ 2.1426e9  ┆ … ┆ 232.926813 ┆ 227.580516 ┆ null ┆ null           │\n",
       "│ 2    ┆ null   ┆ 2.1761e9 ┆ 2.1327e9  ┆ … ┆ 233.6611   ┆ 228.037621 ┆ null ┆ null           │\n",
       "│ 3    ┆ null   ┆ 2.1719e9 ┆ 2.1819e9  ┆ … ┆ 233.675085 ┆ 229.169499 ┆ null ┆ null           │\n",
       "└──────┴────────┴──────────┴───────────┴───┴────────────┴────────────┴──────┴────────────────┘"
      ]
     },
     "execution_count": 22,
     "metadata": {},
     "output_type": "execute_result"
    }
   ],
   "source": [
    "t123.group_by('fold').mean().sort('fold')"
   ]
  },
  {
   "cell_type": "code",
   "execution_count": 23,
   "id": "21e4fe65",
   "metadata": {
    "execution": {
     "iopub.execute_input": "2024-08-12T13:44:20.723326Z",
     "iopub.status.busy": "2024-08-12T13:44:20.722225Z",
     "iopub.status.idle": "2024-08-12T13:44:20.739252Z",
     "shell.execute_reply": "2024-08-12T13:44:20.737972Z"
    },
    "papermill": {
     "duration": 0.037075,
     "end_time": "2024-08-12T13:44:20.741935",
     "exception": false,
     "start_time": "2024-08-12T13:44:20.704860",
     "status": "completed"
    },
    "tags": []
   },
   "outputs": [
    {
     "data": {
      "text/html": [
       "<div><style>\n",
       ".dataframe > thead > tr,\n",
       ".dataframe > tbody > tr {\n",
       "  text-align: right;\n",
       "  white-space: pre-wrap;\n",
       "}\n",
       "</style>\n",
       "<small>shape: (4, 13)</small><table border=\"1\" class=\"dataframe\"><thead><tr><th>fold</th><th>row_id</th><th>study_id</th><th>series_id</th><th>instance_number</th><th>series_description</th><th>condition</th><th>labels</th><th>level</th><th>x</th><th>y</th><th>name</th><th>study_id_level</th></tr><tr><td>i8</td><td>str</td><td>f64</td><td>f64</td><td>f64</td><td>str</td><td>str</td><td>f64</td><td>str</td><td>f64</td><td>f64</td><td>str</td><td>str</td></tr></thead><tbody><tr><td>0</td><td>null</td><td>2.1495e9</td><td>2.2210e9</td><td>11.0</td><td>null</td><td>null</td><td>6.0</td><td>null</td><td>234.03666</td><td>219.428571</td><td>null</td><td>null</td></tr><tr><td>1</td><td>null</td><td>2.1786e9</td><td>2.1437e9</td><td>11.0</td><td>null</td><td>null</td><td>6.0</td><td>null</td><td>227.456572</td><td>209.508337</td><td>null</td><td>null</td></tr><tr><td>2</td><td>null</td><td>2.2186e9</td><td>2.1638e9</td><td>11.0</td><td>null</td><td>null</td><td>6.0</td><td>null</td><td>228.737937</td><td>213.927577</td><td>null</td><td>null</td></tr><tr><td>3</td><td>null</td><td>2.2564e9</td><td>2.1724e9</td><td>11.0</td><td>null</td><td>null</td><td>6.0</td><td>null</td><td>228.864992</td><td>212.267958</td><td>null</td><td>null</td></tr></tbody></table></div>"
      ],
      "text/plain": [
       "shape: (4, 13)\n",
       "┌──────┬────────┬──────────┬───────────┬───┬────────────┬────────────┬──────┬────────────────┐\n",
       "│ fold ┆ row_id ┆ study_id ┆ series_id ┆ … ┆ x          ┆ y          ┆ name ┆ study_id_level │\n",
       "│ ---  ┆ ---    ┆ ---      ┆ ---       ┆   ┆ ---        ┆ ---        ┆ ---  ┆ ---            │\n",
       "│ i8   ┆ str    ┆ f64      ┆ f64       ┆   ┆ f64        ┆ f64        ┆ str  ┆ str            │\n",
       "╞══════╪════════╪══════════╪═══════════╪═══╪════════════╪════════════╪══════╪════════════════╡\n",
       "│ 0    ┆ null   ┆ 2.1495e9 ┆ 2.2210e9  ┆ … ┆ 234.03666  ┆ 219.428571 ┆ null ┆ null           │\n",
       "│ 1    ┆ null   ┆ 2.1786e9 ┆ 2.1437e9  ┆ … ┆ 227.456572 ┆ 209.508337 ┆ null ┆ null           │\n",
       "│ 2    ┆ null   ┆ 2.2186e9 ┆ 2.1638e9  ┆ … ┆ 228.737937 ┆ 213.927577 ┆ null ┆ null           │\n",
       "│ 3    ┆ null   ┆ 2.2564e9 ┆ 2.1724e9  ┆ … ┆ 228.864992 ┆ 212.267958 ┆ null ┆ null           │\n",
       "└──────┴────────┴──────────┴───────────┴───┴────────────┴────────────┴──────┴────────────────┘"
      ]
     },
     "execution_count": 23,
     "metadata": {},
     "output_type": "execute_result"
    }
   ],
   "source": [
    "t123.group_by('fold').median().sort('fold')"
   ]
  },
  {
   "cell_type": "code",
   "execution_count": 24,
   "id": "9fa4afbe",
   "metadata": {
    "execution": {
     "iopub.execute_input": "2024-08-12T13:44:20.777035Z",
     "iopub.status.busy": "2024-08-12T13:44:20.776642Z",
     "iopub.status.idle": "2024-08-12T13:44:20.791133Z",
     "shell.execute_reply": "2024-08-12T13:44:20.789866Z"
    },
    "papermill": {
     "duration": 0.035199,
     "end_time": "2024-08-12T13:44:20.793809",
     "exception": false,
     "start_time": "2024-08-12T13:44:20.758610",
     "status": "completed"
    },
    "tags": []
   },
   "outputs": [
    {
     "data": {
      "text/html": [
       "<div><style>\n",
       ".dataframe > thead > tr,\n",
       ".dataframe > tbody > tr {\n",
       "  text-align: right;\n",
       "  white-space: pre-wrap;\n",
       "}\n",
       "</style>\n",
       "<small>shape: (6, 3)</small><table border=\"1\" class=\"dataframe\"><thead><tr><th>series_description</th><th>condition</th><th>len</th></tr><tr><td>str</td><td>str</td><td>u32</td></tr></thead><tbody><tr><td>&quot;Axial T2&quot;</td><td>&quot;left_subarticular_stenosis&quot;</td><td>8946</td></tr><tr><td>&quot;Axial T2&quot;</td><td>&quot;right_subarticular_stenosis&quot;</td><td>8946</td></tr><tr><td>&quot;Sagittal T1&quot;</td><td>&quot;spinal_canal_stenosis&quot;</td><td>5</td></tr><tr><td>&quot;Sagittal T1&quot;</td><td>&quot;left_neural_foraminal_narrowin…</td><td>8950</td></tr><tr><td>&quot;Sagittal T1&quot;</td><td>&quot;right_neural_foraminal_narrowi…</td><td>8949</td></tr><tr><td>&quot;Sagittal T2/STIR&quot;</td><td>&quot;spinal_canal_stenosis&quot;</td><td>8932</td></tr></tbody></table></div>"
      ],
      "text/plain": [
       "shape: (6, 3)\n",
       "┌────────────────────┬─────────────────────────────────┬──────┐\n",
       "│ series_description ┆ condition                       ┆ len  │\n",
       "│ ---                ┆ ---                             ┆ ---  │\n",
       "│ str                ┆ str                             ┆ u32  │\n",
       "╞════════════════════╪═════════════════════════════════╪══════╡\n",
       "│ Axial T2           ┆ left_subarticular_stenosis      ┆ 8946 │\n",
       "│ Axial T2           ┆ right_subarticular_stenosis     ┆ 8946 │\n",
       "│ Sagittal T1        ┆ spinal_canal_stenosis           ┆ 5    │\n",
       "│ Sagittal T1        ┆ left_neural_foraminal_narrowin… ┆ 8950 │\n",
       "│ Sagittal T1        ┆ right_neural_foraminal_narrowi… ┆ 8949 │\n",
       "│ Sagittal T2/STIR   ┆ spinal_canal_stenosis           ┆ 8932 │\n",
       "└────────────────────┴─────────────────────────────────┴──────┘"
      ]
     },
     "execution_count": 24,
     "metadata": {},
     "output_type": "execute_result"
    }
   ],
   "source": [
    "t123.group_by(['series_description', 'condition']).len().sort('series_description')\n",
    "# len 5 (study: 3637444890, series: 3951475160)"
   ]
  },
  {
   "cell_type": "code",
   "execution_count": 25,
   "id": "1a94993b",
   "metadata": {
    "execution": {
     "iopub.execute_input": "2024-08-12T13:44:20.829753Z",
     "iopub.status.busy": "2024-08-12T13:44:20.829341Z",
     "iopub.status.idle": "2024-08-12T13:44:21.961811Z",
     "shell.execute_reply": "2024-08-12T13:44:21.960584Z"
    },
    "papermill": {
     "duration": 1.153645,
     "end_time": "2024-08-12T13:44:21.964432",
     "exception": false,
     "start_time": "2024-08-12T13:44:20.810787",
     "status": "completed"
    },
    "tags": []
   },
   "outputs": [
    {
     "data": {
      "image/png": "[encoded data removed]",
      "text/plain": [
       "<Figure size 2000x1000 with 4 Axes>"
      ]
     },
     "metadata": {},
     "output_type": "display_data"
    }
   ],
   "source": [
    "fig, axs = plt.subplots(1, 4, figsize=(20, 10))\n",
    "for fold in range(0, 4):\n",
    "    this = t123.filter(pl.col('fold') == fold).to_pandas()\n",
    "    \n",
    "    axs[fold].hist(this['labels'].values)\n",
    "    \n",
    "plt.tight_layout()\n",
    "plt.show()"
   ]
  },
  {
   "cell_type": "code",
   "execution_count": 26,
   "id": "9188118a",
   "metadata": {
    "execution": {
     "iopub.execute_input": "2024-08-12T13:44:22.000479Z",
     "iopub.status.busy": "2024-08-12T13:44:22.000045Z",
     "iopub.status.idle": "2024-08-12T13:44:22.031402Z",
     "shell.execute_reply": "2024-08-12T13:44:22.030121Z"
    },
    "papermill": {
     "duration": 0.052694,
     "end_time": "2024-08-12T13:44:22.034320",
     "exception": false,
     "start_time": "2024-08-12T13:44:21.981626",
     "status": "completed"
    },
    "tags": []
   },
   "outputs": [],
   "source": [
    "t123.write_csv('merged_train.csv')"
   ]
  },
  {
   "cell_type": "code",
   "execution_count": 27,
   "id": "e63995a1",
   "metadata": {
    "execution": {
     "iopub.execute_input": "2024-08-12T13:44:22.071597Z",
     "iopub.status.busy": "2024-08-12T13:44:22.070118Z",
     "iopub.status.idle": "2024-08-12T13:44:22.076052Z",
     "shell.execute_reply": "2024-08-12T13:44:22.074832Z"
    },
    "papermill": {
     "duration": 0.027226,
     "end_time": "2024-08-12T13:44:22.078683",
     "exception": false,
     "start_time": "2024-08-12T13:44:22.051457",
     "status": "completed"
    },
    "tags": []
   },
   "outputs": [],
   "source": [
    "# 1261271580 have 4 series (2 sagt1)"
   ]
  },
  {
   "cell_type": "markdown",
   "id": "ed0fd32e",
   "metadata": {
    "papermill": {
     "duration": 0.017349,
     "end_time": "2024-08-12T13:44:22.113823",
     "exception": false,
     "start_time": "2024-08-12T13:44:22.096474",
     "status": "completed"
    },
    "tags": []
   },
   "source": [
    "# Create Coordinates df"
   ]
  },
  {
   "cell_type": "code",
   "execution_count": 28,
   "id": "d12a6dd2",
   "metadata": {
    "execution": {
     "iopub.execute_input": "2024-08-12T13:44:22.150347Z",
     "iopub.status.busy": "2024-08-12T13:44:22.149908Z",
     "iopub.status.idle": "2024-08-12T13:46:33.910142Z",
     "shell.execute_reply": "2024-08-12T13:46:33.908867Z"
    },
    "papermill": {
     "duration": 131.781976,
     "end_time": "2024-08-12T13:46:33.913085",
     "exception": false,
     "start_time": "2024-08-12T13:44:22.131109",
     "status": "completed"
    },
    "tags": []
   },
   "outputs": [],
   "source": [
    "coords_dict = {\n",
    "    'study_id': [],\n",
    "    'series_id': [],\n",
    "    'study_id_level': [],\n",
    "    'series_description': [],\n",
    "    'condition': [],\n",
    "    'level': [],\n",
    "    'patient_coords': []\n",
    "}\n",
    "\n",
    "for name, data in t123.filter(pl.col('series_description') != 'Axial T2').group_by(['study_id'], maintain_order=True):\n",
    "\n",
    "    for name2, data2 in data.group_by(['series_id'], maintain_order=True):\n",
    "        study_id = data2['study_id'].unique().item(0)\n",
    "        series_id = data2['series_id'].unique().item(0)\n",
    "        series_description = data2['series_description'].unique().item(0)\n",
    "        \n",
    "        ins_nums = data2['instance_number'].to_numpy()\n",
    "        coords = data2.select(['x', 'y']).to_numpy()\n",
    "        conds = data2['condition'].to_list()\n",
    "        levels = data2['level'].to_list()\n",
    "\n",
    "        for ins_num, (x, y), cond, level in zip(ins_nums, coords, conds, levels):\n",
    "            path = os.path.join(train_images_path, f'{study_id}/{series_id}/{int(ins_num)}.dcm')\n",
    "            dcm = pydicom.dcmread(path)\n",
    "            \n",
    "            pixel_spacing = dcm.PixelSpacing\n",
    "            image_position = dcm.ImagePositionPatient\n",
    "            image_orientation = dcm.ImageOrientationPatient\n",
    "            \n",
    "            row_vector = np.array(image_orientation[:3])\n",
    "            col_vector = np.array(image_orientation[3:])\n",
    "\n",
    "            patient_coords = [\n",
    "                image_position[0] + x * pixel_spacing[1] * row_vector[0] + y * pixel_spacing[0] * col_vector[0],\n",
    "                image_position[1] + x * pixel_spacing[1] * row_vector[1] + y * pixel_spacing[0] * col_vector[1],\n",
    "                image_position[2] + x * pixel_spacing[1] * row_vector[2] + y * pixel_spacing[0] * col_vector[2]\n",
    "            ]\n",
    "            coords_dict['study_id'].append(study_id)\n",
    "            coords_dict['series_id'].append(series_id)\n",
    "            coords_dict['study_id_level'].append(str(study_id) + '_' + level)\n",
    "            coords_dict['series_description'].append(series_description)\n",
    "            coords_dict['condition'].append(cond)\n",
    "            coords_dict['level'].append(level)\n",
    "            coords_dict['patient_coords'].append(patient_coords)"
   ]
  },
  {
   "cell_type": "code",
   "execution_count": 29,
   "id": "f4a6db4f",
   "metadata": {
    "execution": {
     "iopub.execute_input": "2024-08-12T13:46:33.950824Z",
     "iopub.status.busy": "2024-08-12T13:46:33.950419Z",
     "iopub.status.idle": "2024-08-12T13:46:34.586289Z",
     "shell.execute_reply": "2024-08-12T13:46:34.585090Z"
    },
    "papermill": {
     "duration": 0.657368,
     "end_time": "2024-08-12T13:46:34.588759",
     "exception": false,
     "start_time": "2024-08-12T13:46:33.931391",
     "status": "completed"
    },
    "tags": []
   },
   "outputs": [
    {
     "data": {
      "text/html": [
       "<div><style>\n",
       ".dataframe > thead > tr,\n",
       ".dataframe > tbody > tr {\n",
       "  text-align: right;\n",
       "  white-space: pre-wrap;\n",
       "}\n",
       "</style>\n",
       "<small>shape: (26_836, 7)</small><table border=\"1\" class=\"dataframe\"><thead><tr><th>study_id</th><th>series_id</th><th>study_id_level</th><th>series_description</th><th>condition</th><th>level</th><th>patient_coords</th></tr><tr><td>i64</td><td>i64</td><td>str</td><td>str</td><td>str</td><td>str</td><td>list[f64]</td></tr></thead><tbody><tr><td>100206310</td><td>2092806862</td><td>&quot;100206310_l1_l2&quot;</td><td>&quot;Sagittal T1&quot;</td><td>&quot;left_neural_foraminal_narrowin…</td><td>&quot;l1_l2&quot;</td><td>[25.180714, 70.668968, -471.739934]</td></tr><tr><td>100206310</td><td>2092806862</td><td>&quot;100206310_l2_l3&quot;</td><td>&quot;Sagittal T1&quot;</td><td>&quot;left_neural_foraminal_narrowin…</td><td>&quot;l2_l3&quot;</td><td>[19.797771, 64.055176, -501.391838]</td></tr><tr><td>100206310</td><td>2092806862</td><td>&quot;100206310_l3_l4&quot;</td><td>&quot;Sagittal T1&quot;</td><td>&quot;left_neural_foraminal_narrowin…</td><td>&quot;l3_l4&quot;</td><td>[23.383351, 57.245982, -530.706189]</td></tr><tr><td>100206310</td><td>2092806862</td><td>&quot;100206310_l4_l5&quot;</td><td>&quot;Sagittal T1&quot;</td><td>&quot;left_neural_foraminal_narrowin…</td><td>&quot;l4_l5&quot;</td><td>[18.263075, 56.924985, -558.209434]</td></tr><tr><td>100206310</td><td>2092806862</td><td>&quot;100206310_l5_s1&quot;</td><td>&quot;Sagittal T1&quot;</td><td>&quot;left_neural_foraminal_narrowin…</td><td>&quot;l5_s1&quot;</td><td>[17.791549, 63.644464, -588.97394]</td></tr><tr><td>&hellip;</td><td>&hellip;</td><td>&hellip;</td><td>&hellip;</td><td>&hellip;</td><td>&hellip;</td><td>&hellip;</td></tr><tr><td>992674144</td><td>1576603050</td><td>&quot;992674144_l1_l2&quot;</td><td>&quot;Sagittal T2/STIR&quot;</td><td>&quot;spinal_canal_stenosis&quot;</td><td>&quot;l1_l2&quot;</td><td>[-7.099515, 94.98095, 77.300337]</td></tr><tr><td>992674144</td><td>1576603050</td><td>&quot;992674144_l2_l3&quot;</td><td>&quot;Sagittal T2/STIR&quot;</td><td>&quot;spinal_canal_stenosis&quot;</td><td>&quot;l2_l3&quot;</td><td>[-6.155524, 86.875752, 47.971092]</td></tr><tr><td>992674144</td><td>1576603050</td><td>&quot;992674144_l3_l4&quot;</td><td>&quot;Sagittal T2/STIR&quot;</td><td>&quot;spinal_canal_stenosis&quot;</td><td>&quot;l3_l4&quot;</td><td>[-5.001193, 81.087824, 11.695446]</td></tr><tr><td>992674144</td><td>1576603050</td><td>&quot;992674144_l4_l5&quot;</td><td>&quot;Sagittal T2/STIR&quot;</td><td>&quot;spinal_canal_stenosis&quot;</td><td>&quot;l4_l5&quot;</td><td>[-4.068034, 80.318535, -18.01971]</td></tr><tr><td>992674144</td><td>1576603050</td><td>&quot;992674144_l5_s1&quot;</td><td>&quot;Sagittal T2/STIR&quot;</td><td>&quot;spinal_canal_stenosis&quot;</td><td>&quot;l5_s1&quot;</td><td>[-3.1977, 84.182277, -46.191222]</td></tr></tbody></table></div>"
      ],
      "text/plain": [
       "shape: (26_836, 7)\n",
       "┌───────────┬────────────┬────────────────┬────────────────┬───────────────┬───────┬───────────────┐\n",
       "│ study_id  ┆ series_id  ┆ study_id_level ┆ series_descrip ┆ condition     ┆ level ┆ patient_coord │\n",
       "│ ---       ┆ ---        ┆ ---            ┆ tion           ┆ ---           ┆ ---   ┆ s             │\n",
       "│ i64       ┆ i64        ┆ str            ┆ ---            ┆ str           ┆ str   ┆ ---           │\n",
       "│           ┆            ┆                ┆ str            ┆               ┆       ┆ list[f64]     │\n",
       "╞═══════════╪════════════╪════════════════╪════════════════╪═══════════════╪═══════╪═══════════════╡\n",
       "│ 100206310 ┆ 2092806862 ┆ 100206310_l1_l ┆ Sagittal T1    ┆ left_neural_f ┆ l1_l2 ┆ [25.180714,   │\n",
       "│           ┆            ┆ 2              ┆                ┆ oraminal_narr ┆       ┆ 70.668968,    │\n",
       "│           ┆            ┆                ┆                ┆ owin…         ┆       ┆ -471.73…      │\n",
       "│ 100206310 ┆ 2092806862 ┆ 100206310_l2_l ┆ Sagittal T1    ┆ left_neural_f ┆ l2_l3 ┆ [19.797771,   │\n",
       "│           ┆            ┆ 3              ┆                ┆ oraminal_narr ┆       ┆ 64.055176,    │\n",
       "│           ┆            ┆                ┆                ┆ owin…         ┆       ┆ -501.39…      │\n",
       "│ 100206310 ┆ 2092806862 ┆ 100206310_l3_l ┆ Sagittal T1    ┆ left_neural_f ┆ l3_l4 ┆ [23.383351,   │\n",
       "│           ┆            ┆ 4              ┆                ┆ oraminal_narr ┆       ┆ 57.245982,    │\n",
       "│           ┆            ┆                ┆                ┆ owin…         ┆       ┆ -530.70…      │\n",
       "│ 100206310 ┆ 2092806862 ┆ 100206310_l4_l ┆ Sagittal T1    ┆ left_neural_f ┆ l4_l5 ┆ [18.263075,   │\n",
       "│           ┆            ┆ 5              ┆                ┆ oraminal_narr ┆       ┆ 56.924985,    │\n",
       "│           ┆            ┆                ┆                ┆ owin…         ┆       ┆ -558.20…      │\n",
       "│ 100206310 ┆ 2092806862 ┆ 100206310_l5_s ┆ Sagittal T1    ┆ left_neural_f ┆ l5_s1 ┆ [17.791549,   │\n",
       "│           ┆            ┆ 1              ┆                ┆ oraminal_narr ┆       ┆ 63.644464,    │\n",
       "│           ┆            ┆                ┆                ┆ owin…         ┆       ┆ -588.97…      │\n",
       "│ …         ┆ …          ┆ …              ┆ …              ┆ …             ┆ …     ┆ …             │\n",
       "│ 992674144 ┆ 1576603050 ┆ 992674144_l1_l ┆ Sagittal       ┆ spinal_canal_ ┆ l1_l2 ┆ [-7.099515,   │\n",
       "│           ┆            ┆ 2              ┆ T2/STIR        ┆ stenosis      ┆       ┆ 94.98095,     │\n",
       "│           ┆            ┆                ┆                ┆               ┆       ┆ 77.30033…     │\n",
       "│ 992674144 ┆ 1576603050 ┆ 992674144_l2_l ┆ Sagittal       ┆ spinal_canal_ ┆ l2_l3 ┆ [-6.155524,   │\n",
       "│           ┆            ┆ 3              ┆ T2/STIR        ┆ stenosis      ┆       ┆ 86.875752,    │\n",
       "│           ┆            ┆                ┆                ┆               ┆       ┆ 47.9710…      │\n",
       "│ 992674144 ┆ 1576603050 ┆ 992674144_l3_l ┆ Sagittal       ┆ spinal_canal_ ┆ l3_l4 ┆ [-5.001193,   │\n",
       "│           ┆            ┆ 4              ┆ T2/STIR        ┆ stenosis      ┆       ┆ 81.087824,    │\n",
       "│           ┆            ┆                ┆                ┆               ┆       ┆ 11.6954…      │\n",
       "│ 992674144 ┆ 1576603050 ┆ 992674144_l4_l ┆ Sagittal       ┆ spinal_canal_ ┆ l4_l5 ┆ [-4.068034,   │\n",
       "│           ┆            ┆ 5              ┆ T2/STIR        ┆ stenosis      ┆       ┆ 80.318535,    │\n",
       "│           ┆            ┆                ┆                ┆               ┆       ┆ -18.019…      │\n",
       "│ 992674144 ┆ 1576603050 ┆ 992674144_l5_s ┆ Sagittal       ┆ spinal_canal_ ┆ l5_s1 ┆ [-3.1977,     │\n",
       "│           ┆            ┆ 1              ┆ T2/STIR        ┆ stenosis      ┆       ┆ 84.182277,    │\n",
       "│           ┆            ┆                ┆                ┆               ┆       ┆ -46.19122…    │\n",
       "└───────────┴────────────┴────────────────┴────────────────┴───────────────┴───────┴───────────────┘"
      ]
     },
     "execution_count": 29,
     "metadata": {},
     "output_type": "execute_result"
    }
   ],
   "source": [
    "patient_coords_df = pl.DataFrame(coords_dict)\n",
    "patient_coords_df"
   ]
  },
  {
   "cell_type": "code",
   "execution_count": 30,
   "id": "dfb41693",
   "metadata": {
    "execution": {
     "iopub.execute_input": "2024-08-12T13:46:34.689363Z",
     "iopub.status.busy": "2024-08-12T13:46:34.688914Z",
     "iopub.status.idle": "2024-08-12T13:46:34.735136Z",
     "shell.execute_reply": "2024-08-12T13:46:34.733787Z"
    },
    "papermill": {
     "duration": 0.068097,
     "end_time": "2024-08-12T13:46:34.738035",
     "exception": false,
     "start_time": "2024-08-12T13:46:34.669938",
     "status": "completed"
    },
    "tags": []
   },
   "outputs": [],
   "source": [
    "patient_coords_df.write_parquet('patient_coords.parquet')"
   ]
  },
  {
   "cell_type": "code",
   "execution_count": 31,
   "id": "1c491640",
   "metadata": {
    "execution": {
     "iopub.execute_input": "2024-08-12T13:46:34.779351Z",
     "iopub.status.busy": "2024-08-12T13:46:34.778917Z",
     "iopub.status.idle": "2024-08-12T13:57:31.317301Z",
     "shell.execute_reply": "2024-08-12T13:57:31.311540Z"
    },
    "papermill": {
     "duration": 656.568438,
     "end_time": "2024-08-12T13:57:31.326249",
     "exception": false,
     "start_time": "2024-08-12T13:46:34.757811",
     "status": "completed"
    },
    "tags": []
   },
   "outputs": [],
   "source": [
    "axial_img_pos_dict = {\n",
    "    'study_id': [],\n",
    "    'series_id': [],\n",
    "    'instance_number': [],\n",
    "    'ImagePositionPatient_x': [],\n",
    "    'ImagePositionPatient_y': [],\n",
    "    'ImagePositionPatient_z': [],\n",
    "    'SliceLocation': [],\n",
    "    'SpacingBetweenSlices': [],\n",
    "    'PatientPosition': [],\n",
    "}\n",
    "\n",
    "for name, data in t123.filter(pl.col('series_description') == 'Axial T2').group_by(['study_id', 'series_id'], maintain_order=True):\n",
    "    study_id = name[0]\n",
    "    series_id = name[1]\n",
    "    \n",
    "    dcm_path = Path(os.path.join(train_images_path, f'{study_id}/{series_id}/')).glob('*.dcm')\n",
    "    for path in dcm_path:\n",
    "        dcm = pydicom.dcmread(path)\n",
    "        img_pos = np.asarray(dcm.ImagePositionPatient)\n",
    "        slice_loc = float(dcm.SliceLocation)\n",
    "        space = float(dcm.SpacingBetweenSlices)\n",
    "        ins_num = int(dcm.InstanceNumber)\n",
    "        p_pos = dcm.PatientPosition\n",
    "        \n",
    "        axial_img_pos_dict['study_id'].append(study_id)\n",
    "        axial_img_pos_dict['series_id'].append(series_id)\n",
    "        axial_img_pos_dict['instance_number'].append(ins_num)\n",
    "        axial_img_pos_dict['ImagePositionPatient_x'].append(img_pos[0])\n",
    "        axial_img_pos_dict['ImagePositionPatient_y'].append(img_pos[1])\n",
    "        axial_img_pos_dict['ImagePositionPatient_z'].append(img_pos[2])\n",
    "        axial_img_pos_dict['SliceLocation'].append(slice_loc)\n",
    "        axial_img_pos_dict['SpacingBetweenSlices'].append(space)\n",
    "        axial_img_pos_dict['PatientPosition'].append(p_pos)"
   ]
  },
  {
   "cell_type": "code",
   "execution_count": 32,
   "id": "21f6790a",
   "metadata": {
    "execution": {
     "iopub.execute_input": "2024-08-12T13:57:31.391078Z",
     "iopub.status.busy": "2024-08-12T13:57:31.390309Z",
     "iopub.status.idle": "2024-08-12T13:57:31.574383Z",
     "shell.execute_reply": "2024-08-12T13:57:31.572240Z"
    },
    "papermill": {
     "duration": 0.22074,
     "end_time": "2024-08-12T13:57:31.578168",
     "exception": false,
     "start_time": "2024-08-12T13:57:31.357428",
     "status": "completed"
    },
    "tags": []
   },
   "outputs": [
    {
     "data": {
      "text/html": [
       "<div><style>\n",
       ".dataframe > thead > tr,\n",
       ".dataframe > tbody > tr {\n",
       "  text-align: right;\n",
       "  white-space: pre-wrap;\n",
       "}\n",
       "</style>\n",
       "<small>shape: (75_457, 10)</small><table border=\"1\" class=\"dataframe\"><thead><tr><th>study_id</th><th>series_id</th><th>instance_number</th><th>ImagePositionPatient_x</th><th>ImagePositionPatient_y</th><th>ImagePositionPatient_z</th><th>SliceLocation</th><th>SpacingBetweenSlices</th><th>PatientPosition</th><th>series_description</th></tr><tr><td>i64</td><td>i64</td><td>i64</td><td>f64</td><td>f64</td><td>f64</td><td>f64</td><td>f64</td><td>str</td><td>str</td></tr></thead><tbody><tr><td>4003253</td><td>2448190387</td><td>1</td><td>-95.20284</td><td>-25.970026</td><td>-375.1405</td><td>-376.11313</td><td>4.4</td><td>&quot;HFS&quot;</td><td>&quot;Axial T2&quot;</td></tr><tr><td>4003253</td><td>2448190387</td><td>2</td><td>-95.229935</td><td>-26.046228</td><td>-379.53976</td><td>-380.51312</td><td>4.4</td><td>&quot;HFS&quot;</td><td>&quot;Axial T2&quot;</td></tr><tr><td>4003253</td><td>2448190387</td><td>3</td><td>-95.25703</td><td>-26.12243</td><td>-383.939</td><td>-384.91312</td><td>4.4</td><td>&quot;HFS&quot;</td><td>&quot;Axial T2&quot;</td></tr><tr><td>4003253</td><td>2448190387</td><td>4</td><td>-95.28412</td><td>-26.19864</td><td>-388.33826</td><td>-389.3131</td><td>4.4</td><td>&quot;HFS&quot;</td><td>&quot;Axial T2&quot;</td></tr><tr><td>4003253</td><td>2448190387</td><td>5</td><td>-95.31121</td><td>-26.274843</td><td>-392.73752</td><td>-393.71313</td><td>4.4</td><td>&quot;HFS&quot;</td><td>&quot;Axial T2&quot;</td></tr><tr><td>&hellip;</td><td>&hellip;</td><td>&hellip;</td><td>&hellip;</td><td>&hellip;</td><td>&hellip;</td><td>&hellip;</td><td>&hellip;</td><td>&hellip;</td><td>&hellip;</td></tr><tr><td>4290709089</td><td>3390218084</td><td>19</td><td>-96.953393</td><td>-33.433417</td><td>-521.714254</td><td>-438.606804</td><td>4.8</td><td>&quot;HFS&quot;</td><td>&quot;Axial T2&quot;</td></tr><tr><td>4290709089</td><td>3390218084</td><td>20</td><td>-97.016189</td><td>-31.066516</td><td>-525.889638</td><td>-443.406804</td><td>4.8</td><td>&quot;HFS&quot;</td><td>&quot;Axial T2&quot;</td></tr><tr><td>4290709089</td><td>3390218084</td><td>21</td><td>-97.078985</td><td>-28.699618</td><td>-530.065027</td><td>-448.206805</td><td>4.8</td><td>&quot;HFS&quot;</td><td>&quot;Axial T2&quot;</td></tr><tr><td>4290709089</td><td>3390218084</td><td>22</td><td>-97.141781</td><td>-26.332717</td><td>-534.240411</td><td>-453.006805</td><td>4.8</td><td>&quot;HFS&quot;</td><td>&quot;Axial T2&quot;</td></tr><tr><td>4290709089</td><td>3390218084</td><td>23</td><td>-97.204577</td><td>-23.965815</td><td>-538.415792</td><td>-457.806802</td><td>4.8</td><td>&quot;HFS&quot;</td><td>&quot;Axial T2&quot;</td></tr></tbody></table></div>"
      ],
      "text/plain": [
       "shape: (75_457, 10)\n",
       "┌───────────┬───────────┬───────────┬───────────┬───┬───────────┬───────────┬───────────┬──────────┐\n",
       "│ study_id  ┆ series_id ┆ instance_ ┆ ImagePosi ┆ … ┆ SliceLoca ┆ SpacingBe ┆ PatientPo ┆ series_d │\n",
       "│ ---       ┆ ---       ┆ number    ┆ tionPatie ┆   ┆ tion      ┆ tweenSlic ┆ sition    ┆ escripti │\n",
       "│ i64       ┆ i64       ┆ ---       ┆ nt_x      ┆   ┆ ---       ┆ es        ┆ ---       ┆ on       │\n",
       "│           ┆           ┆ i64       ┆ ---       ┆   ┆ f64       ┆ ---       ┆ str       ┆ ---      │\n",
       "│           ┆           ┆           ┆ f64       ┆   ┆           ┆ f64       ┆           ┆ str      │\n",
       "╞═══════════╪═══════════╪═══════════╪═══════════╪═══╪═══════════╪═══════════╪═══════════╪══════════╡\n",
       "│ 4003253   ┆ 244819038 ┆ 1         ┆ -95.20284 ┆ … ┆ -376.1131 ┆ 4.4       ┆ HFS       ┆ Axial T2 │\n",
       "│           ┆ 7         ┆           ┆           ┆   ┆ 3         ┆           ┆           ┆          │\n",
       "│ 4003253   ┆ 244819038 ┆ 2         ┆ -95.22993 ┆ … ┆ -380.5131 ┆ 4.4       ┆ HFS       ┆ Axial T2 │\n",
       "│           ┆ 7         ┆           ┆ 5         ┆   ┆ 2         ┆           ┆           ┆          │\n",
       "│ 4003253   ┆ 244819038 ┆ 3         ┆ -95.25703 ┆ … ┆ -384.9131 ┆ 4.4       ┆ HFS       ┆ Axial T2 │\n",
       "│           ┆ 7         ┆           ┆           ┆   ┆ 2         ┆           ┆           ┆          │\n",
       "│ 4003253   ┆ 244819038 ┆ 4         ┆ -95.28412 ┆ … ┆ -389.3131 ┆ 4.4       ┆ HFS       ┆ Axial T2 │\n",
       "│           ┆ 7         ┆           ┆           ┆   ┆           ┆           ┆           ┆          │\n",
       "│ 4003253   ┆ 244819038 ┆ 5         ┆ -95.31121 ┆ … ┆ -393.7131 ┆ 4.4       ┆ HFS       ┆ Axial T2 │\n",
       "│           ┆ 7         ┆           ┆           ┆   ┆ 3         ┆           ┆           ┆          │\n",
       "│ …         ┆ …         ┆ …         ┆ …         ┆ … ┆ …         ┆ …         ┆ …         ┆ …        │\n",
       "│ 429070908 ┆ 339021808 ┆ 19        ┆ -96.95339 ┆ … ┆ -438.6068 ┆ 4.8       ┆ HFS       ┆ Axial T2 │\n",
       "│ 9         ┆ 4         ┆           ┆ 3         ┆   ┆ 04        ┆           ┆           ┆          │\n",
       "│ 429070908 ┆ 339021808 ┆ 20        ┆ -97.01618 ┆ … ┆ -443.4068 ┆ 4.8       ┆ HFS       ┆ Axial T2 │\n",
       "│ 9         ┆ 4         ┆           ┆ 9         ┆   ┆ 04        ┆           ┆           ┆          │\n",
       "│ 429070908 ┆ 339021808 ┆ 21        ┆ -97.07898 ┆ … ┆ -448.2068 ┆ 4.8       ┆ HFS       ┆ Axial T2 │\n",
       "│ 9         ┆ 4         ┆           ┆ 5         ┆   ┆ 05        ┆           ┆           ┆          │\n",
       "│ 429070908 ┆ 339021808 ┆ 22        ┆ -97.14178 ┆ … ┆ -453.0068 ┆ 4.8       ┆ HFS       ┆ Axial T2 │\n",
       "│ 9         ┆ 4         ┆           ┆ 1         ┆   ┆ 05        ┆           ┆           ┆          │\n",
       "│ 429070908 ┆ 339021808 ┆ 23        ┆ -97.20457 ┆ … ┆ -457.8068 ┆ 4.8       ┆ HFS       ┆ Axial T2 │\n",
       "│ 9         ┆ 4         ┆           ┆ 7         ┆   ┆ 02        ┆           ┆           ┆          │\n",
       "└───────────┴───────────┴───────────┴───────────┴───┴───────────┴───────────┴───────────┴──────────┘"
      ]
     },
     "execution_count": 32,
     "metadata": {},
     "output_type": "execute_result"
    }
   ],
   "source": [
    "axial_img_pos_df = pl.DataFrame(axial_img_pos_dict).sort(['study_id', 'series_id', 'instance_number']).join(train_des, on=['study_id', 'series_id'])\n",
    "axial_img_pos_df"
   ]
  },
  {
   "cell_type": "code",
   "execution_count": 33,
   "id": "512b12f6",
   "metadata": {
    "execution": {
     "iopub.execute_input": "2024-08-12T13:57:31.640579Z",
     "iopub.status.busy": "2024-08-12T13:57:31.640085Z",
     "iopub.status.idle": "2024-08-12T13:57:31.711112Z",
     "shell.execute_reply": "2024-08-12T13:57:31.709791Z"
    },
    "papermill": {
     "duration": 0.108271,
     "end_time": "2024-08-12T13:57:31.714871",
     "exception": false,
     "start_time": "2024-08-12T13:57:31.606600",
     "status": "completed"
    },
    "tags": []
   },
   "outputs": [],
   "source": [
    "axial_img_pos_df.write_parquet('axial_img_pos.parquet')"
   ]
  },
  {
   "cell_type": "code",
   "execution_count": 34,
   "id": "19cd3009",
   "metadata": {
    "execution": {
     "iopub.execute_input": "2024-08-12T13:57:31.762452Z",
     "iopub.status.busy": "2024-08-12T13:57:31.761094Z",
     "iopub.status.idle": "2024-08-12T14:06:25.149442Z",
     "shell.execute_reply": "2024-08-12T14:06:25.147980Z"
    },
    "papermill": {
     "duration": 533.413424,
     "end_time": "2024-08-12T14:06:25.152717",
     "exception": false,
     "start_time": "2024-08-12T13:57:31.739293",
     "status": "completed"
    },
    "tags": []
   },
   "outputs": [],
   "source": [
    "sagittal_img_pos_dict = {\n",
    "    'study_id': [],\n",
    "    'series_id': [],\n",
    "    'instance_number': [],\n",
    "    'ImagePositionPatient_x': [],\n",
    "    'ImagePositionPatient_y': [],\n",
    "    'ImagePositionPatient_z': [],\n",
    "    'SliceLocation': [],\n",
    "    'SpacingBetweenSlices': [],\n",
    "    'PatientPosition': [],\n",
    "}\n",
    "\n",
    "for name, data in t123.filter(pl.col('series_description') != 'Axial T2').group_by(['study_id', 'series_id'], maintain_order=True):\n",
    "    study_id = name[0]\n",
    "    series_id = name[1]\n",
    "    \n",
    "    dcm_path = Path(os.path.join(train_images_path, f'{study_id}/{series_id}/')).glob('*.dcm')\n",
    "    for path in dcm_path:\n",
    "        dcm = pydicom.dcmread(path)\n",
    "        img_pos = np.asarray(dcm.ImagePositionPatient)\n",
    "        slice_loc = float(dcm.SliceLocation)\n",
    "        space = float(dcm.SpacingBetweenSlices)\n",
    "        ins_num = int(dcm.InstanceNumber)\n",
    "        p_pos = dcm.PatientPosition\n",
    "        \n",
    "        sagittal_img_pos_dict['study_id'].append(study_id)\n",
    "        sagittal_img_pos_dict['series_id'].append(series_id)\n",
    "        sagittal_img_pos_dict['instance_number'].append(ins_num)\n",
    "        sagittal_img_pos_dict['ImagePositionPatient_x'].append(img_pos[0])\n",
    "        sagittal_img_pos_dict['ImagePositionPatient_y'].append(img_pos[1])\n",
    "        sagittal_img_pos_dict['ImagePositionPatient_z'].append(img_pos[2])\n",
    "        sagittal_img_pos_dict['SliceLocation'].append(slice_loc)\n",
    "        sagittal_img_pos_dict['SpacingBetweenSlices'].append(space)\n",
    "        sagittal_img_pos_dict['PatientPosition'].append(p_pos)"
   ]
  },
  {
   "cell_type": "code",
   "execution_count": 35,
   "id": "c4b8084c",
   "metadata": {
    "execution": {
     "iopub.execute_input": "2024-08-12T14:06:25.194093Z",
     "iopub.status.busy": "2024-08-12T14:06:25.193649Z",
     "iopub.status.idle": "2024-08-12T14:06:25.285471Z",
     "shell.execute_reply": "2024-08-12T14:06:25.284231Z"
    },
    "papermill": {
     "duration": 0.115235,
     "end_time": "2024-08-12T14:06:25.288091",
     "exception": false,
     "start_time": "2024-08-12T14:06:25.172856",
     "status": "completed"
    },
    "tags": []
   },
   "outputs": [
    {
     "data": {
      "text/html": [
       "<div><style>\n",
       ".dataframe > thead > tr,\n",
       ".dataframe > tbody > tr {\n",
       "  text-align: right;\n",
       "  white-space: pre-wrap;\n",
       "}\n",
       "</style>\n",
       "<small>shape: (61_376, 10)</small><table border=\"1\" class=\"dataframe\"><thead><tr><th>study_id</th><th>series_id</th><th>instance_number</th><th>ImagePositionPatient_x</th><th>ImagePositionPatient_y</th><th>ImagePositionPatient_z</th><th>SliceLocation</th><th>SpacingBetweenSlices</th><th>PatientPosition</th><th>series_description</th></tr><tr><td>i64</td><td>i64</td><td>i64</td><td>f64</td><td>f64</td><td>f64</td><td>f64</td><td>f64</td><td>str</td><td>str</td></tr></thead><tbody><tr><td>4003253</td><td>702807833</td><td>1</td><td>-31.881287</td><td>-76.68697</td><td>-283.0574</td><td>-33.939922</td><td>4.8</td><td>&quot;HFS&quot;</td><td>&quot;Sagittal T2/STIR&quot;</td></tr><tr><td>4003253</td><td>702807833</td><td>2</td><td>-27.081406</td><td>-76.681274</td><td>-283.02402</td><td>-29.139921</td><td>4.8</td><td>&quot;HFS&quot;</td><td>&quot;Sagittal T2/STIR&quot;</td></tr><tr><td>4003253</td><td>702807833</td><td>3</td><td>-22.281525</td><td>-76.67558</td><td>-282.99063</td><td>-24.33992</td><td>4.8</td><td>&quot;HFS&quot;</td><td>&quot;Sagittal T2/STIR&quot;</td></tr><tr><td>4003253</td><td>702807833</td><td>4</td><td>-17.481644</td><td>-76.66989</td><td>-282.95724</td><td>-19.53992</td><td>4.8</td><td>&quot;HFS&quot;</td><td>&quot;Sagittal T2/STIR&quot;</td></tr><tr><td>4003253</td><td>702807833</td><td>5</td><td>-12.681765</td><td>-76.66419</td><td>-282.92386</td><td>-14.739921</td><td>4.8</td><td>&quot;HFS&quot;</td><td>&quot;Sagittal T2/STIR&quot;</td></tr><tr><td>&hellip;</td><td>&hellip;</td><td>&hellip;</td><td>&hellip;</td><td>&hellip;</td><td>&hellip;</td><td>&hellip;</td><td>&hellip;</td><td>&hellip;</td><td>&hellip;</td></tr><tr><td>4290709089</td><td>4237840455</td><td>11</td><td>22.405454</td><td>-87.967921</td><td>-249.765748</td><td>26.75984</td><td>4.6</td><td>&quot;HFS&quot;</td><td>&quot;Sagittal T1&quot;</td></tr><tr><td>4290709089</td><td>4237840455</td><td>12</td><td>27.004516</td><td>-87.942286</td><td>-249.855057</td><td>31.35984</td><td>4.6</td><td>&quot;HFS&quot;</td><td>&quot;Sagittal T1&quot;</td></tr><tr><td>4290709089</td><td>4237840455</td><td>13</td><td>31.603578</td><td>-87.916652</td><td>-249.944365</td><td>35.959841</td><td>4.6</td><td>&quot;HFS&quot;</td><td>&quot;Sagittal T1&quot;</td></tr><tr><td>4290709089</td><td>4237840455</td><td>14</td><td>36.20264</td><td>-87.891017</td><td>-250.033674</td><td>40.559841</td><td>4.6</td><td>&quot;HFS&quot;</td><td>&quot;Sagittal T1&quot;</td></tr><tr><td>4290709089</td><td>4237840455</td><td>15</td><td>40.8017</td><td>-87.865386</td><td>-250.122982</td><td>45.15984</td><td>4.6</td><td>&quot;HFS&quot;</td><td>&quot;Sagittal T1&quot;</td></tr></tbody></table></div>"
      ],
      "text/plain": [
       "shape: (61_376, 10)\n",
       "┌───────────┬───────────┬───────────┬───────────┬───┬───────────┬───────────┬───────────┬──────────┐\n",
       "│ study_id  ┆ series_id ┆ instance_ ┆ ImagePosi ┆ … ┆ SliceLoca ┆ SpacingBe ┆ PatientPo ┆ series_d │\n",
       "│ ---       ┆ ---       ┆ number    ┆ tionPatie ┆   ┆ tion      ┆ tweenSlic ┆ sition    ┆ escripti │\n",
       "│ i64       ┆ i64       ┆ ---       ┆ nt_x      ┆   ┆ ---       ┆ es        ┆ ---       ┆ on       │\n",
       "│           ┆           ┆ i64       ┆ ---       ┆   ┆ f64       ┆ ---       ┆ str       ┆ ---      │\n",
       "│           ┆           ┆           ┆ f64       ┆   ┆           ┆ f64       ┆           ┆ str      │\n",
       "╞═══════════╪═══════════╪═══════════╪═══════════╪═══╪═══════════╪═══════════╪═══════════╪══════════╡\n",
       "│ 4003253   ┆ 702807833 ┆ 1         ┆ -31.88128 ┆ … ┆ -33.93992 ┆ 4.8       ┆ HFS       ┆ Sagittal │\n",
       "│           ┆           ┆           ┆ 7         ┆   ┆ 2         ┆           ┆           ┆ T2/STIR  │\n",
       "│ 4003253   ┆ 702807833 ┆ 2         ┆ -27.08140 ┆ … ┆ -29.13992 ┆ 4.8       ┆ HFS       ┆ Sagittal │\n",
       "│           ┆           ┆           ┆ 6         ┆   ┆ 1         ┆           ┆           ┆ T2/STIR  │\n",
       "│ 4003253   ┆ 702807833 ┆ 3         ┆ -22.28152 ┆ … ┆ -24.33992 ┆ 4.8       ┆ HFS       ┆ Sagittal │\n",
       "│           ┆           ┆           ┆ 5         ┆   ┆           ┆           ┆           ┆ T2/STIR  │\n",
       "│ 4003253   ┆ 702807833 ┆ 4         ┆ -17.48164 ┆ … ┆ -19.53992 ┆ 4.8       ┆ HFS       ┆ Sagittal │\n",
       "│           ┆           ┆           ┆ 4         ┆   ┆           ┆           ┆           ┆ T2/STIR  │\n",
       "│ 4003253   ┆ 702807833 ┆ 5         ┆ -12.68176 ┆ … ┆ -14.73992 ┆ 4.8       ┆ HFS       ┆ Sagittal │\n",
       "│           ┆           ┆           ┆ 5         ┆   ┆ 1         ┆           ┆           ┆ T2/STIR  │\n",
       "│ …         ┆ …         ┆ …         ┆ …         ┆ … ┆ …         ┆ …         ┆ …         ┆ …        │\n",
       "│ 429070908 ┆ 423784045 ┆ 11        ┆ 22.405454 ┆ … ┆ 26.75984  ┆ 4.6       ┆ HFS       ┆ Sagittal │\n",
       "│ 9         ┆ 5         ┆           ┆           ┆   ┆           ┆           ┆           ┆ T1       │\n",
       "│ 429070908 ┆ 423784045 ┆ 12        ┆ 27.004516 ┆ … ┆ 31.35984  ┆ 4.6       ┆ HFS       ┆ Sagittal │\n",
       "│ 9         ┆ 5         ┆           ┆           ┆   ┆           ┆           ┆           ┆ T1       │\n",
       "│ 429070908 ┆ 423784045 ┆ 13        ┆ 31.603578 ┆ … ┆ 35.959841 ┆ 4.6       ┆ HFS       ┆ Sagittal │\n",
       "│ 9         ┆ 5         ┆           ┆           ┆   ┆           ┆           ┆           ┆ T1       │\n",
       "│ 429070908 ┆ 423784045 ┆ 14        ┆ 36.20264  ┆ … ┆ 40.559841 ┆ 4.6       ┆ HFS       ┆ Sagittal │\n",
       "│ 9         ┆ 5         ┆           ┆           ┆   ┆           ┆           ┆           ┆ T1       │\n",
       "│ 429070908 ┆ 423784045 ┆ 15        ┆ 40.8017   ┆ … ┆ 45.15984  ┆ 4.6       ┆ HFS       ┆ Sagittal │\n",
       "│ 9         ┆ 5         ┆           ┆           ┆   ┆           ┆           ┆           ┆ T1       │\n",
       "└───────────┴───────────┴───────────┴───────────┴───┴───────────┴───────────┴───────────┴──────────┘"
      ]
     },
     "execution_count": 35,
     "metadata": {},
     "output_type": "execute_result"
    }
   ],
   "source": [
    "sagittal_img_pos_df = pl.DataFrame(sagittal_img_pos_dict).sort(['study_id', 'series_id', 'instance_number']).join(train_des, on=['study_id', 'series_id'])\n",
    "sagittal_img_pos_df"
   ]
  },
  {
   "cell_type": "code",
   "execution_count": 36,
   "id": "7f2a925e",
   "metadata": {
    "execution": {
     "iopub.execute_input": "2024-08-12T14:06:25.328297Z",
     "iopub.status.busy": "2024-08-12T14:06:25.327166Z",
     "iopub.status.idle": "2024-08-12T14:06:25.369622Z",
     "shell.execute_reply": "2024-08-12T14:06:25.368346Z"
    },
    "papermill": {
     "duration": 0.065898,
     "end_time": "2024-08-12T14:06:25.372588",
     "exception": false,
     "start_time": "2024-08-12T14:06:25.306690",
     "status": "completed"
    },
    "tags": []
   },
   "outputs": [],
   "source": [
    "sagittal_img_pos_df.write_parquet('sagittal_img_pos.parquet')"
   ]
  },
  {
   "cell_type": "code",
   "execution_count": null,
   "id": "69f34b0e",
   "metadata": {
    "papermill": {
     "duration": 0.022805,
     "end_time": "2024-08-12T14:06:25.414946",
     "exception": false,
     "start_time": "2024-08-12T14:06:25.392141",
     "status": "completed"
    },
    "tags": []
   },
   "outputs": [],
   "source": []
  }
 ],
 "metadata": {
  "kaggle": {
   "accelerator": "none",
   "dataSources": [
    {
     "databundleVersionId": 8561470,
     "sourceId": 71549,
     "sourceType": "competition"
    },
    {
     "sourceId": 189754175,
     "sourceType": "kernelVersion"
    }
   ],
   "dockerImageVersionId": 30732,
   "isGpuEnabled": false,
   "isInternetEnabled": true,
   "language": "python",
   "sourceType": "notebook"
  },
  "kernelspec": {
   "display_name": "Python 3",
   "language": "python",
   "name": "python3"
  },
  "language_info": {
   "codemirror_mode": {
    "name": "ipython",
    "version": 3
   },
   "file_extension": ".py",
   "mimetype": "text/x-python",
   "name": "python",
   "nbconvert_exporter": "python",
   "pygments_lexer": "ipython3",
   "version": "3.10.13"
  },
  "papermill": {
   "default_parameters": {},
   "duration": 1334.821239,
   "end_time": "2024-08-12T14:06:26.668041",
   "environment_variables": {},
   "exception": null,
   "input_path": "__notebook__.ipynb",
   "output_path": "__notebook__.ipynb",
   "parameters": {},
   "start_time": "2024-08-12T13:44:11.846802",
   "version": "2.5.0"
  }
 },
 "nbformat": 4,
 "nbformat_minor": 5
}
